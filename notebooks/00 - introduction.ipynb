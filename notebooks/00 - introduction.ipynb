{
 "cells": [
  {
   "cell_type": "markdown",
   "id": "eff7f920-cb99-4d2d-8425-cc9b812572ae",
   "metadata": {},
   "source": [
    "# Introduction\n",
    "\n",
    "This notebook covers the **first** step of SQLAlchemy.\n",
    "\n",
    "It covers topics in this order:\n",
    "\n",
    "1. logging (because of a quick in the system).\n",
    "2. Engine (Dialect and Driver)"
   ]
  },
  {
   "cell_type": "markdown",
   "id": "c7fad587-edd7-4e1c-935c-7ffd8a147709",
   "metadata": {},
   "source": [
    "# Logging\n",
    "SQLAlchemy is pretty good with *what* it logs, but it has a quirk if you start logging after creating an engine.\n",
    "\n",
    "Logging is important because some queries will cause multiple executions (mainly in ORM queries).<br>\n",
    "These queries aren't shown when using `str(query)`.<br>\n",
    "This usually happens in a table join statement.\n",
    "\n",
    "The text `[generated in X.Ys]` refers to the time it took to generate a valid SQL string from code.\n",
    "\n",
    "The text `[cached since XXs ago]` comes up in logging a lot.\n",
    "This refers to the cache for the QueryBuilder, in which the query is serialized to a valid SQL string.\n",
    "It does **NOT** refer to cached database results.\n",
    "\n",
    "*See also: [SQL Compilation Caching at docs.sqlalchemy.org](https://docs.sqlalchemy.org/en/20/core/connections.html#sql-compilation-caching)*\n",
    "\n",
    "The logger here is outputting to 'Standard Output'.\n",
    "Jupyter Notebooks don't relay messages in perfect real-time. That means that when a message is sent to `stdout` and `stderr` at nearly the same time, they might arrive out of order.\n",
    "\n",
    "Keeping both on `stdout` keeps clarity about what happens first.\n"
   ]
  },
  {
   "cell_type": "code",
   "execution_count": null,
   "id": "5070b151-3a06-4e15-be25-65cb3afacc00",
   "metadata": {},
   "outputs": [],
   "source": [
    "import logging\n",
    "import sys\n",
    "\n",
    "handler = logging.StreamHandler(sys.stdout)\n",
    "handler.setLevel(logging.WARN)\n",
    "\n",
    "logger = logging.getLogger('sqlalchemy.engine')\n",
    "logger.setLevel(logging.DEBUG)\n",
    "logger.addHandler(handler)"
   ]
  },
  {
   "cell_type": "markdown",
   "id": "b8e54fe0-9ee9-4219-b06b-1bfe78d33a73",
   "metadata": {},
   "source": [
    "The code below adds a basic context decorator to more easily turn logging on/off when it's actually interesting.\n",
    "```python\n",
    "with logs():\n",
    "    ...  # SQLAlchemy code goes here\n",
    "```\n",
    "\n",
    "| Level | Data |\n",
    "|-------|-------|\n",
    "| logging.INFO | SQL Query |\n",
    "| logging.DEBUG | Returned rows |"
   ]
  },
  {
   "cell_type": "code",
   "execution_count": null,
   "id": "d96a82b9-1420-4e09-a229-a93e6d482877",
   "metadata": {},
   "outputs": [],
   "source": [
    "from contextlib import contextmanager\n",
    "\n",
    "@contextmanager\n",
    "def logs(level=logging.INFO):\n",
    "    state = handler.level\n",
    "    handler.setLevel(level)\n",
    "    try:\n",
    "        yield\n",
    "    finally:\n",
    "        handler.setLevel(state)"
   ]
  },
  {
   "cell_type": "markdown",
   "id": "b1fa94b1-cd12-4f29-8e64-7b621c4ca92e",
   "metadata": {},
   "source": [
    "# Engine \n",
    "\n",
    "SQLAlchemy differentiates between Language(dialect) and Technical Implementation(driver).\n",
    "\n",
    "Putting those two together creates the Engine, a configuration block (or facade) to abstract connection setup.\n",
    "The engine also allows enabling of certain features in a unified way.\n"
   ]
  },
  {
   "cell_type": "markdown",
   "id": "8c00678a-8a31-47b5-8893-d5673327b0fc",
   "metadata": {},
   "source": [
    "## Dialect\n",
    "The Dialect is flavor of SQL being used, the specific syntax.\n",
    "\n",
    "SQLAlchemy supports a lot of dialects right out of the box, ranging from SQLite to PostgreSQL and (MS)SQL.\n",
    "Companies might implement their own dialect (probably via a Python package) to improve support.\n",
    "\n",
    "For example: Some flavors use `OFFSET, LIMIT` to do pagination, while others use `FETCH NEXT` or `TOP`.\n",
    "\n",
    "In most cases, SQLAlchemy will have you covered by default."
   ]
  },
  {
   "cell_type": "markdown",
   "id": "812a40e1-7f84-4194-8e59-429056c9d8d1",
   "metadata": {},
   "source": [
    "## Driver\n",
    "The driver takes care of the provider specific technical details.\n",
    "\n",
    "If you're using an SQL server, it takes care of the TCP network details. For SQLite, it will take care of file access.\n",
    "\n",
    "The driver usually has to be installed, but SQLite is supported out of the box."
   ]
  },
  {
   "cell_type": "markdown",
   "id": "a8897a83-23bd-4710-ada2-7d81867dbba8",
   "metadata": {},
   "source": [
    "## URL\n",
    "The concepts of Dialect and Driver are neat, but how are they applied? SQLAlchemy uses a URL-like structure for this.\n",
    "\n",
    "For those familiar with HTTP Basic Auth, it's roughly that. For those unfamilair with it, it is best demonstrated by creating that string programmatically.\n",
    "\n",
    "The only thing that needs explanation is how a to specify dialect and driver.\n",
    "This is usually formatted as `<dialect>+<driver>`.\n",
    "The below demonstrates this with the PostgreSQL dialect, using the `pg8000` driver."
   ]
  },
  {
   "cell_type": "code",
   "execution_count": null,
   "id": "7660f607-3f56-47dd-8571-4ae33041acb2",
   "metadata": {},
   "outputs": [],
   "source": [
    "import sqlalchemy as sa\n",
    "\n",
    "print('In-memory (SQLite):', sa.URL.create('sqlite'))\n",
    "print('Simple (MySQL):', sa.URL.create('mysql', host='127.0.0.1'))\n",
    "# Note: the password will be automatically censored since SQLAlchemy 2.0\n",
    "print('Complex (Postgres w/ pg8000 driver):', sa.URL.create('postgresql+pg8000', username='root', password='alchemy', \n",
    "                                                            host='127.0.0.1', database='mytest'))"
   ]
  },
  {
   "cell_type": "markdown",
   "id": "def2385b-cf47-4ab7-b5b1-4f3a3c8c06c4",
   "metadata": {},
   "source": [
    "----------\n",
    "Although a basic string can be used, ``URL.create`` can prevent a lot of issues.\n",
    "\n",
    "Some DBMS might require more complex connection strings.<br>\n",
    "For those, look at the notebooks containing those names.\n",
    "\n",
    "## Code"
   ]
  },
  {
   "cell_type": "code",
   "execution_count": null,
   "id": "46dc45f8-c33f-45e5-bda4-56aeeba3a79a",
   "metadata": {},
   "outputs": [],
   "source": [
    "import sqlalchemy as sa\n",
    "\n",
    "# First 'connect' to a database.\n",
    "# The engine takes care of the Dialect (language) and Driver (communication protocol).\n",
    "# This line creates an in-memory database (using SQLite)\n",
    "# This is nice, because it means the notebooks won't cross-contaminate.\n",
    "engine = sa.create_engine('sqlite://')\n",
    "\n",
    "# Alternatively:\n",
    "# engine = sa.create_engine(sa.URL('sqlite'))\n",
    "\n",
    "con = engine.connect()"
   ]
  },
  {
   "cell_type": "code",
   "execution_count": null,
   "id": "5aefeaa3-74e2-4e9d-8b00-5ec003f4c004",
   "metadata": {},
   "outputs": [],
   "source": [
    "# Example query to text the connection, and logging.\n",
    "with logs():\n",
    "    query = sa.text('SELECT \"John\" as FirstName, \"Doe\" as LastName;')\n",
    "    for row in con.execute(query):\n",
    "        print(*row)"
   ]
  }
 ],
 "metadata": {
  "kernelspec": {
   "display_name": "Python 3 (ipykernel)",
   "language": "python",
   "name": "python3"
  },
  "language_info": {
   "codemirror_mode": {
    "name": "ipython",
    "version": 3
   },
   "file_extension": ".py",
   "mimetype": "text/x-python",
   "name": "python",
   "nbconvert_exporter": "python",
   "pygments_lexer": "ipython3",
   "version": "3.12.0"
  }
 },
 "nbformat": 4,
 "nbformat_minor": 5
}
