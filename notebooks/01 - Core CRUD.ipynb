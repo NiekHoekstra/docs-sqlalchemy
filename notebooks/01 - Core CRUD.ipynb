{
 "cells": [
  {
   "cell_type": "markdown",
   "id": "452eaa72-0c61-4174-9fb1-e0ae50ef4388",
   "metadata": {},
   "source": [
    "# CRUD\n",
    "This notebook demonstrated basic CRUD (Create, Read, Update, Delete) operations for SQLAlchemy Core.\n",
    "\n",
    "Core means using table definitions, and *not* using the ORM.\n",
    "\n",
    "A lot of queries are different in the ORM syntax.<br>\n",
    "When using SQLAlchemy mainly for the ORM, it might be best to learn the ORM before Core.<br>\n",
    "Do not confuse yourself by reading this notebook first.<br>\n",
    "**However**, any sufficiently complex query will inevitably need to use Core features.\n",
    "\n",
    "- Tables\n",
    "- Transactions\n",
    "- Insert\n",
    "  - Returning\n",
    "- Select\n",
    "  - Scalar(s)\n",
    "  - Order By\n",
    "  - Offset/Limit\n",
    "  - Where\n",
    "  - Transformation\n",
    "  - Aggregate/Group By\n",
    "  - Union\n",
    "- Update\n",
    "- Delete\n",
    "\n",
    "> For better readability, consider turning on \"Table of Content\" or \"Show Line Numbers\" in the 'View' menu."
   ]
  },
  {
   "cell_type": "markdown",
   "id": "2e310bf7-7d40-40ed-951a-8636da07767e",
   "metadata": {},
   "source": [
    "## Logging"
   ]
  },
  {
   "cell_type": "code",
   "execution_count": null,
   "id": "c547659b-91b9-4acd-994b-571c802672c8",
   "metadata": {},
   "outputs": [],
   "source": [
    "from contextlib import contextmanager\n",
    "import logging\n",
    "import sys\n",
    "\n",
    "handler = logging.StreamHandler(sys.stdout)\n",
    "handler.setLevel(logging.WARN)\n",
    "\n",
    "logger = logging.getLogger('sqlalchemy.engine')\n",
    "logger.setLevel(logging.DEBUG)\n",
    "logger.addHandler(handler)\n",
    "\n",
    "@contextmanager\n",
    "def logs(level=logging.INFO):\n",
    "    state = handler.level\n",
    "    handler.setLevel(level)\n",
    "    try:\n",
    "        yield\n",
    "    finally:\n",
    "        handler.setLevel(state)"
   ]
  },
  {
   "cell_type": "markdown",
   "id": "de7f2de9-cdcd-4fd8-9c96-b8df49123ed1",
   "metadata": {},
   "source": [
    "## Tables\n",
    "Although SQLAlchemy is perfectly capable of running *raw* text queries, it can also use Table definitions.\n",
    "\n",
    "Table definitions serve a few purposes:\n",
    "1. Simplify renaming/refactoring of table names and column definitions.\n",
    "2. Creating a table in live databases, or specifically for testing.\n",
    "\n",
    "These table definitions are set up by creating instancing of the Table class.<br>\n",
    "Tables will be sharing a MetaData object. This metadata is used to describe the database in one way or another.<br>\n",
    "For servers with multi-database setups, this metadata can allow a single network connection to be used for multiple database at the same time.\n",
    "\n",
    "The signature of the constructor is roughly this (slightly edited for clarity).\n",
    "```python\n",
    "class Table(...):\n",
    "    def __init__(self, tablename: str, metadata: MetaData, *columns: Column, **kwargs):\n",
    "        ...\n",
    "```\n",
    "It is also possible to create table definitions which do not use a MetaData object.<br>\n",
    "For the purposes of an introduction, this will be introduced only in later notebooks."
   ]
  },
  {
   "cell_type": "code",
   "execution_count": null,
   "id": "727d28ee-dd8a-4919-b60d-4b681421ef7b",
   "metadata": {},
   "outputs": [],
   "source": [
    "import sqlalchemy as sa"
   ]
  },
  {
   "cell_type": "code",
   "execution_count": null,
   "id": "ac7df6e8-7146-4572-ae85-873da2298f6c",
   "metadata": {},
   "outputs": [],
   "source": [
    "metadata = sa.MetaData()\n",
    "Products = sa.Table('products', metadata, \n",
    "                    sa.Column('id', sa.Integer, primary_key=True, autoincrement=True),\n",
    "                    sa.Column('name', sa.VARCHAR(255), default=None, nullable=True),\n",
    "                    sa.Column('category', sa.VARCHAR(255), default=None, nullable=True)\n",
    "                    )"
   ]
  },
  {
   "cell_type": "code",
   "execution_count": null,
   "id": "8337c573-086d-4922-9adb-399d3253e879",
   "metadata": {},
   "outputs": [],
   "source": [
    "print('Table:', Products.name)\n",
    "for column in Products.columns:\n",
    "    print(f'> {column.key:<10s} NULL={str(column.nullable):<8s}  PK={str(column.primary_key):<8s} {str(column.type):<10s}')"
   ]
  },
  {
   "cell_type": "markdown",
   "id": "58a24f32-bc92-411a-9c43-52b065da0732",
   "metadata": {},
   "source": [
    "-----\n",
    "Creating tables in this way can feel chaotic or unmanaged.<br>\n",
    "The usage of a capital 'P' in the variable name was intentional.<br>\n",
    "In later notebooks we might use 'product' or 'products' in lowercase to specify a number of items from the Products table."
   ]
  },
  {
   "cell_type": "code",
   "execution_count": null,
   "id": "7c303847-837f-4bf9-a43f-38ab7fb928ca",
   "metadata": {},
   "outputs": [],
   "source": [
    "engine = sa.create_engine('sqlite://')\n",
    "con = engine.connect()"
   ]
  },
  {
   "cell_type": "code",
   "execution_count": null,
   "id": "61e8f5f8-98ff-40a4-92fe-b16c8752c0c4",
   "metadata": {},
   "outputs": [],
   "source": [
    "# This is where we actually create the tables.\n",
    "# The Metadata understands the tables, and giving it the engine to do so.\n",
    "# Running this multiple times will not recreate tables (data will stay).\n",
    "metadata.create_all(engine)"
   ]
  },
  {
   "cell_type": "markdown",
   "id": "a715721e-77e6-40ee-b588-700e720d5639",
   "metadata": {},
   "source": [
    "## Really Basic\n",
    "Here are a few 'raw' queries to demonstrate that everything is in working order."
   ]
  },
  {
   "cell_type": "code",
   "execution_count": null,
   "id": "522f132d-0909-45e1-8375-ebbce4ce3f33",
   "metadata": {},
   "outputs": [],
   "source": [
    "# Raw Insert\n",
    "result = con.execute(sa.text('INSERT INTO products(name)VALUES(\"jack\");'))\n",
    "print(result.rowcount)"
   ]
  },
  {
   "cell_type": "code",
   "execution_count": null,
   "id": "2f21bb8c-cc03-430a-8160-96eea17815d1",
   "metadata": {},
   "outputs": [],
   "source": [
    "# Raw Select\n",
    "result = con.execute(sa.text('SELECT * FROM products;'))\n",
    "for row in result:\n",
    "    print(row)"
   ]
  },
  {
   "cell_type": "code",
   "execution_count": null,
   "id": "9c2fb3de-27c2-4ddc-9bbb-79c0743e1329",
   "metadata": {},
   "outputs": [],
   "source": [
    "# This is how to use a Table for this.\n",
    "result = con.execute(Products.select())\n",
    "for row in result:\n",
    "    print(row)"
   ]
  },
  {
   "cell_type": "markdown",
   "id": "67383f39-9218-4781-adbd-dfc810eb81d4",
   "metadata": {},
   "source": [
    "## Transactions\n",
    "It's important to talk about Transactions because SQLAlchemy uses them a lot, and a lack of understanding will make bugs very difficult to solve.\n",
    "\n",
    "Database transactions are sets of database operations (select, read, update, etc.) which should be applied or reverted as a whole.<br>\n",
    "If one operation causes an error, all the preceding operation should be reverted.\n",
    "\n",
    "Remember these things:\n",
    "1. Other database connections cannot read from your transactions unless they're doing it on purpose.\n",
    "2. Transactions tend to lock database rows, which can make things slow.\n",
    "3. SQLAlchemy will try to start transactions every chance it gets. Event when it's just reading, it will start a transaction implicitly.\n",
    "\n",
    "----------\n",
    "To start a transaction properly, try calling `.begin()`.\n",
    "\n",
    "```python\n",
    "with connection.begin() as transaction:\n",
    "    ...\n",
    "```\n",
    "\n",
    "Transactions *should* automatically commit, unless an exception breaks the context.<br>\n",
    "This notebook uses a lot rollbacks to keep the demos clean.\n",
    "\n",
    "```python\n",
    "print(connection.in_transaction())  # False\n",
    "print(sa.inspect(connection).get_table_names())\n",
    "print(connection.in_transaction())  # True\n",
    "```\n"
   ]
  },
  {
   "cell_type": "code",
   "execution_count": null,
   "id": "0314016f-d78a-471f-b262-c3152f7a5df1",
   "metadata": {},
   "outputs": [],
   "source": [
    "# Quick check-up, also demonstrating how one might need to diagnose things.\n",
    "if con.closed:\n",
    "    print(\"Connection is closed.\")\n",
    "if con.in_transaction():\n",
    "    print(\"Connection is in transaction.\")\n",
    "    con.rollback()\n",
    "    print('Rolled back, changes discarded')"
   ]
  },
  {
   "cell_type": "markdown",
   "id": "0883a01f-9c54-4742-bd82-2b880a404871",
   "metadata": {},
   "source": [
    "### InvalidRequestError: A common Exception\n",
    "Calling `begin()` while a transaction is already running will provide the following exception:\n",
    "\n",
    "> InvalidRequestError: This connection has already initialized a SQLAlchemy Transaction() object via begin() or autobegin; can't call begin() here unless rollback() or commit() is called first.\n",
    "\n",
    "This usually happens for one of two reasons:\n",
    "1. Something is using `with engine.begin()`, which starts both a connection and a transaction. (Generally a bad idea).\n",
    "2. A piece of code dirtied the connection (`sqlalchemy.inspect(...).whatever()` can be the cause of this).\n",
    "\n",
    "If it's on the connection, this can be solved by using `connection.commit()` or `connection.rollback()`."
   ]
  },
  {
   "cell_type": "markdown",
   "id": "53d3d625-c55d-44a5-aa87-d1fc4f34df9b",
   "metadata": {},
   "source": [
    "## Insert\n",
    "There are many ways to insert a record.\n",
    "They're similar, but not quite the same.\n",
    "When a record has been inserted, SQLAlchemy will return the primary key that has been created/calculated (when applicable)."
   ]
  },
  {
   "cell_type": "code",
   "execution_count": null,
   "id": "0aa7584c-803a-4c4b-a398-ad7847fc0c03",
   "metadata": {},
   "outputs": [],
   "source": [
    "# Passing the new row as a dictionary.\n",
    "result = con.execute(Products.insert(), {'name': 'Record 1'})\n",
    "print(f'Inserted {result.rowcount:d} row(s).')\n",
    "if con.in_transaction():\n",
    "    print('commit!')\n",
    "    con.commit()"
   ]
  },
  {
   "cell_type": "code",
   "execution_count": null,
   "id": "cd22cf9e-4dbb-474c-96ad-20f83fed9510",
   "metadata": {},
   "outputs": [],
   "source": [
    "with con.begin() as transaction:\n",
    "    # Connection.execute(query, parameters)\n",
    "    result = con.execute(Products.insert(), {'name': 'Record 2'})\n",
    "    print(f'Inserted {result.rowcount:d} row(s).')\n",
    "    transaction.rollback()\n",
    "\n",
    "with con.begin() as transaction:\n",
    "    # Prepared object by using `.values()`\n",
    "    query = sa.insert(Products).values({'name': 'Record 3'})\n",
    "    con.execute(query)\n",
    "    print(f'Inserted {result.rowcount:d} row(s).')\n",
    "    transaction.rollback()\n",
    "    "
   ]
  },
  {
   "cell_type": "markdown",
   "id": "364e3c66-e76a-4a85-bfd6-5fe409024370",
   "metadata": {},
   "source": [
    "----------\n",
    "**Primary Keys:** When data gets inserted into a table, it's *possible* that to get the newly created primary key.\n",
    "\n",
    "A key thing to note is bulk inserts.\n",
    "Any time that multiple rows are inserted, the return value will usually omit the inserted primary key.\n",
    "\n",
    "**PostgreSQL** can still return the inserted keys in the expected way.\n",
    "This doesn't always apply when multiple records are inserted, but systems like Postgres do support it."
   ]
  },
  {
   "cell_type": "code",
   "execution_count": null,
   "id": "ad8069cc-a9bd-4860-bac4-663eff51eb28",
   "metadata": {},
   "outputs": [],
   "source": [
    "with con.begin() as t:\n",
    "    result = con.execute(Products.insert(), {'name': 'Record 2'})\n",
    "    print(f'Inserted {result.rowcount:d} row(s)')\n",
    "    print('Newly created primary key:', result.inserted_primary_key)  # yes, that's a tuple.\n",
    "    t.rollback()"
   ]
  },
  {
   "cell_type": "markdown",
   "id": "1b540a9e-93d3-4522-85a8-146c37c64308",
   "metadata": {},
   "source": [
    "----------\n",
    "The `inserted_primary_key` (phrased in singular) is returning a tuple, which is correct.\n",
    "\n",
    "Relational Database Systems can have a primary key consisting of multiple fields.<br>\n",
    "SQLAlchemy accounts for this by always returning every inserted key as a tuple.\n",
    "\n",
    "Things change a bit when inserting multiple records:"
   ]
  },
  {
   "cell_type": "code",
   "execution_count": null,
   "id": "6471dd6a-aa3c-44c5-8041-54277ca8df6c",
   "metadata": {},
   "outputs": [],
   "source": [
    "with con.begin() as t:\n",
    "    # Multiple Inserts\n",
    "    as_list = [{'name': 'Record 3'}, {'name': 'Record 4'}]\n",
    "    result = con.execute(Products.insert(), as_list)\n",
    "    print(f'Inserted {result.rowcount} records')\n",
    "    print(result.inserted_primary_key_rows)\n",
    "\n",
    "    # SQLite and others will return a list of empty tuples.\n",
    "    as_list = [{'name': 'Record 5'},]\n",
    "    result = con.execute(Products.insert(), as_list)\n",
    "    print(f'Inserted {result.rowcount} records')\n",
    "    print(result.inserted_primary_key_rows)\n",
    "    \n",
    "    t.rollback()"
   ]
  },
  {
   "cell_type": "markdown",
   "id": "0d7b081b-27f7-4bca-98c6-6e988727b5de",
   "metadata": {},
   "source": [
    "----------\n",
    "The above demonstrates that multi-row inserts will not return primary keys.<br>\n",
    "If this feature is needed, look at the `returning` feature in the next notebook file.\n",
    "\n",
    "Although the `execute` call  is effectively the same (both passing a list), it is the number of records that determines wether or not a primary key is returned.\n",
    "\n",
    "**Note:** When writing tests, it's important to remember this detail and write for multiple records if that is a possible situation.\n",
    "Otherwise the code might be tested on the assumption that primary keys are always returned."
   ]
  },
  {
   "cell_type": "markdown",
   "id": "55ba04b5-edaa-49b6-927d-baa87e367b81",
   "metadata": {},
   "source": [
    "## Select\n",
    "This is the bread and butter of most queries.\n",
    "\n",
    "Queries can be built using Table or Column objects.\n",
    "This query is fed into an `.execute` function, which returns a Result object as usual."
   ]
  },
  {
   "cell_type": "code",
   "execution_count": null,
   "id": "08bc2739-ae03-425d-9105-c9cdf1012169",
   "metadata": {},
   "outputs": [],
   "source": [
    "# Querying for ALL Columns\n",
    "query = Products.select()\n",
    "\n",
    "print('SQL:', str(query).replace('\\n', ''))\n",
    "print('All columns are spelled out by SQLAlchemy, it will not use a wildcard when using this syntax.\\n')\n",
    "\n",
    "result = con.execute(query)\n",
    "print(result)  # CursorResult\n",
    "for row in result:  # Row (tuple-styled)\n",
    "    print(row, type(row))\n",
    "\n",
    "print('---')\n",
    "\n",
    "result = con.execute(query).mappings()  \n",
    "print(type(result))  # MappingResult\n",
    "for row in result:  # RowMapping (dict-styled)\n",
    "    print(row, type(row))\n"
   ]
  },
  {
   "cell_type": "code",
   "execution_count": null,
   "id": "5e116a85-3147-4a9c-a5fe-9d01c879c5b4",
   "metadata": {},
   "outputs": [],
   "source": [
    "# Selecting specific columns\n",
    "# The columns contain metadata about the table(s) to query.\n",
    "# Note that '.columns' and '.c' are the same thing, it is just a writing aid.\n",
    "query = sa.select(Products.c.id, Products.c.name)\n",
    "\n",
    "# These can be accessed using the bracket syntax as well. \n",
    "query = sa.select(Products.c['id'], Products.c['name'])\n",
    "# unpack it like a tuple (it stays in order).\n",
    "for pk, name in con.execute(query):\n",
    "    print(pk, name)"
   ]
  },
  {
   "cell_type": "markdown",
   "id": "8d24b0a7-c977-43ee-b9b2-02a2cc746fae",
   "metadata": {},
   "source": [
    "----------\n",
    "The above shows rows as tuples and dictionaries when printed.<br>\n",
    "The underlying object is usually a `Row` or `RowMapping` object.\n",
    "\n",
    "These allow array-like access with some extras.\n",
    "\n",
    "**Example:** Queries sometimes get created dynamically, and that includes columns.<br>\n",
    "The system that adds columns also has to read them. Doing this by a textual key can be a bit iffy.<br>\n"
   ]
  },
  {
   "cell_type": "code",
   "execution_count": null,
   "id": "1f5a6d78-2067-4c7e-add2-1b6b52d82501",
   "metadata": {},
   "outputs": [],
   "source": [
    "# After using .mappings(), fields can be access using column definitions.\n",
    "# This comes in handy for 'calculated columns' later on.\n",
    "column_id = Products.c.id\n",
    "column_name = Products.c.name\n",
    "\n",
    "query = sa.select(column_id, column_name)\n",
    "for entry in con.execute(query).mappings():\n",
    "    print(entry[column_id], entry[column_name])"
   ]
  },
  {
   "cell_type": "code",
   "execution_count": null,
   "id": "edb770aa-e4fc-43e0-a33e-60d7a3e001be",
   "metadata": {},
   "outputs": [],
   "source": [
    "query = sa.select(Products.c.id)\n",
    "print('A:', query)\n",
    "query = query.add_columns(Products.c.name)\n",
    "print('B:', query)"
   ]
  },
  {
   "cell_type": "code",
   "execution_count": null,
   "id": "5c800f71-fe0d-4101-90b2-8e8e0bd7d287",
   "metadata": {},
   "outputs": [],
   "source": [
    "# Appending `scalars()` will return the first column for each row.\n",
    "# The query will still fetch the entire set.\n",
    "for pk in con.execute(Products.select()).scalars():\n",
    "    print(pk)"
   ]
  },
  {
   "cell_type": "code",
   "execution_count": null,
   "id": "60e235fe-13b5-4fea-8ba0-93d13fffd48f",
   "metadata": {},
   "outputs": [],
   "source": [
    "# Appending `scalar()` will return the first column of the first row.\n",
    "# The query will still fetch the entire set.\n",
    "pk = con.execute(Products.select()).scalar()\n",
    "print(pk)"
   ]
  },
  {
   "cell_type": "code",
   "execution_count": null,
   "id": "b52d78d9-8889-412b-b7e0-653b5af04c60",
   "metadata": {},
   "outputs": [],
   "source": [
    "# In order to select individual columns, `sa.select(*columns)` is used.\n",
    "query = sa.select(Products.columns.name)\n",
    "for entry in con.execute(query).mappings():\n",
    "    print(entry)"
   ]
  },
  {
   "cell_type": "markdown",
   "id": "0734f39e-6158-40c3-9d9d-d58473fdfb95",
   "metadata": {},
   "source": [
    "### Scalar(s)\n",
    "The 'Scalar' is the value of the first column.<br>\n",
    "In SQLAlchemy, the 'scalar' (singular) returns the first column of the first row (any additional data becomes inaccessible).<br>\n",
    "When using 'scalars' (plural) it returns the first column of *every* row.\n",
    "\n",
    "Note that all the data still transfered, and gets reduced to a singular column.<br>\n",
    "The example below has logs turned on to show the query being executed.\n"
   ]
  },
  {
   "cell_type": "code",
   "execution_count": null,
   "id": "066a48e1-e7aa-43db-b9df-76d26d8e0ded",
   "metadata": {},
   "outputs": [],
   "source": [
    "with logs():\n",
    "    query = sa.select(Products)\n",
    "    print(con.scalar(query))"
   ]
  },
  {
   "cell_type": "markdown",
   "id": "bb7788d3-db93-46c7-8b11-2f28c9fc9b47",
   "metadata": {},
   "source": [
    "### Order By"
   ]
  },
  {
   "cell_type": "code",
   "execution_count": null,
   "id": "b8816d9b-4cde-48ff-9b9a-a7a40296cb7e",
   "metadata": {},
   "outputs": [],
   "source": [
    "# Order by Name, descending:\n",
    "str(Products.select().order_by(Products.c.name.desc()))"
   ]
  },
  {
   "cell_type": "markdown",
   "id": "b163eae8-cd3e-46fb-979e-86ac2b8eaf0f",
   "metadata": {},
   "source": [
    "### Offset/Limit"
   ]
  },
  {
   "cell_type": "code",
   "execution_count": null,
   "id": "c9616cc4-8787-4d03-9fd8-d762763727f0",
   "metadata": {},
   "outputs": [],
   "source": [
    "str(Products.select().offset(10).limit(10))"
   ]
  },
  {
   "cell_type": "markdown",
   "id": "e90c1c17-c91d-4489-8e83-f8e0c0310ab1",
   "metadata": {},
   "source": [
    "### Where\n",
    "\n",
    "Note: Using subqueries and joins are shown in their own notebook."
   ]
  },
  {
   "cell_type": "code",
   "execution_count": null,
   "id": "c54b5f5f-bb94-4945-a8c9-67d2329521c1",
   "metadata": {},
   "outputs": [],
   "source": [
    "query = sa.select(Products).where(Products.columns.id <= 2)\n",
    "for product in con.execute(query):\n",
    "    print(product)"
   ]
  },
  {
   "cell_type": "code",
   "execution_count": null,
   "id": "2c67bdc7-d2e1-4d82-8c2b-cf4b24752011",
   "metadata": {},
   "outputs": [],
   "source": [
    "query = sa.select(Products).order_by(Products.columns.id).offset(1).limit(1)"
   ]
  },
  {
   "cell_type": "code",
   "execution_count": null,
   "id": "3bf8465e-c5bc-4fe2-b5a4-c222e51cf6c2",
   "metadata": {},
   "outputs": [],
   "source": [
    "with logs():\n",
    "    for product in con.execute(query):\n",
    "        print(product)"
   ]
  },
  {
   "cell_type": "code",
   "execution_count": null,
   "id": "571d7ba2-368c-43d9-83c4-fb65a21aed8d",
   "metadata": {},
   "outputs": [],
   "source": [
    "query = sa.select(Products).where(Products.columns.id.in_([4,5,6]))"
   ]
  },
  {
   "cell_type": "code",
   "execution_count": null,
   "id": "9e1523bc-c640-4ae7-9908-dd53344af0a4",
   "metadata": {},
   "outputs": [],
   "source": [
    "with logs():\n",
    "    for product in con.execute(query):\n",
    "        print(product)"
   ]
  },
  {
   "cell_type": "markdown",
   "id": "236c4662-7156-41de-8ff6-4a644b0c7871",
   "metadata": {},
   "source": [
    "### Transformation"
   ]
  },
  {
   "cell_type": "code",
   "execution_count": null,
   "id": "acc91347-8312-4771-b455-371e00574a0c",
   "metadata": {},
   "outputs": [],
   "source": [
    "query = sa.select(Products.columns.id.label('double'))"
   ]
  },
  {
   "cell_type": "code",
   "execution_count": null,
   "id": "94868746-9185-4955-aa88-e500629bef77",
   "metadata": {},
   "outputs": [],
   "source": [
    "for product in con.execute(query).mappings():\n",
    "    print(product)"
   ]
  },
  {
   "cell_type": "markdown",
   "id": "6d8da8ef-0309-4ef1-a13d-934f2db83568",
   "metadata": {},
   "source": [
    "### Union\n",
    "\n",
    "Remember that `UNION` will deduplicate results, whereas `UNION ALL` will not."
   ]
  },
  {
   "cell_type": "code",
   "execution_count": null,
   "id": "59c96869-21e2-480f-af89-4898f6d81518",
   "metadata": {},
   "outputs": [],
   "source": [
    "query_a = sa.select(Products.columns.id.label('x')).where(Products.columns.id == 1)\n",
    "query_b = sa.select(Products.columns.id.label('x')).where(Products.columns.id == 1)\n",
    "\n",
    "with logs():\n",
    "    for product in con.execute(sa.union_all(query_a, query_b)).all():\n",
    "        print(product)"
   ]
  },
  {
   "cell_type": "markdown",
   "id": "11f3dcb8-2e50-4914-9403-458f7803bfb8",
   "metadata": {},
   "source": [
    "## Update"
   ]
  },
  {
   "cell_type": "code",
   "execution_count": null,
   "id": "396bc3e0-b467-4ed1-938d-4cecc84d8682",
   "metadata": {},
   "outputs": [],
   "source": [
    "# The preceding 'select' section did not use transactions, so it might be dirty.\n",
    "if con.in_transaction():\n",
    "    con.rollback()"
   ]
  },
  {
   "cell_type": "code",
   "execution_count": null,
   "id": "7f79c9e9-953c-468c-a511-aae324da4795",
   "metadata": {},
   "outputs": [],
   "source": [
    "with con.begin():\n",
    "    for row in con.execute(Products.select()):\n",
    "        print(row)"
   ]
  },
  {
   "cell_type": "code",
   "execution_count": null,
   "id": "2f6d0bb6-ebf8-42c6-9f16-8eaddec9cd5f",
   "metadata": {},
   "outputs": [],
   "source": [
    "with con.begin() as t:\n",
    "    query = (\n",
    "        Products.update()\n",
    "        .where(Products.c.id == 1)\n",
    "        .values(name='Record X')\n",
    "    )\n",
    "    con.execute(query)\n",
    "    for row in con.execute(Products.select()):\n",
    "        print(row)    \n",
    "    t.rollback()"
   ]
  },
  {
   "cell_type": "markdown",
   "id": "7a5361a4-8869-40da-a068-4daac994ea37",
   "metadata": {},
   "source": [
    "## Delete"
   ]
  },
  {
   "cell_type": "code",
   "execution_count": null,
   "id": "b1f64830-4afb-455f-a1d6-94285930ed64",
   "metadata": {},
   "outputs": [],
   "source": [
    "query_count = sa.select(sa.func.count(Products.c.name).label('count'))\n",
    "with con.begin() as t:\n",
    "    r = con.scalar(query_count)\n",
    "    print(r)"
   ]
  },
  {
   "cell_type": "code",
   "execution_count": null,
   "id": "8fa72c1e-9349-4e76-972e-ff191e5b6e1a",
   "metadata": {},
   "outputs": [],
   "source": [
    "with con.begin() as t:\n",
    "    result = con.execute(Products.delete())\n",
    "    print(f'deleted {result.rowcount} rows')\n",
    "    print(f'{con.scalar(query_count)} rows in database')\n",
    "    t.rollback()"
   ]
  },
  {
   "cell_type": "code",
   "execution_count": null,
   "id": "548ecf87-ce85-483d-8069-84978bad43c2",
   "metadata": {},
   "outputs": [],
   "source": []
  }
 ],
 "metadata": {
  "kernelspec": {
   "display_name": "Python 3 (ipykernel)",
   "language": "python",
   "name": "python3"
  },
  "language_info": {
   "codemirror_mode": {
    "name": "ipython",
    "version": 3
   },
   "file_extension": ".py",
   "mimetype": "text/x-python",
   "name": "python",
   "nbconvert_exporter": "python",
   "pygments_lexer": "ipython3",
   "version": "3.12.0"
  }
 },
 "nbformat": 4,
 "nbformat_minor": 5
}
