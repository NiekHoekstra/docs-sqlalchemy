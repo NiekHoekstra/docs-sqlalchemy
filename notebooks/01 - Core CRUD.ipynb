{
 "cells": [
  {
   "cell_type": "markdown",
   "id": "452eaa72-0c61-4174-9fb1-e0ae50ef4388",
   "metadata": {},
   "source": [
    "# Core CRUD\n",
    "These are the Core SQLAlchemy queries, without an ORM.\n",
    "\n",
    "It can be seen as the 'unmanaged' way of doing things (or simply avoiding the overhead of an ORM).\n",
    "\n",
    "Anyone needing to maintain or convert such could should be helped by this.<br>\n",
    "In some scenarios, the ORM might not support the feature, and these bits of code can be of use.\n",
    "\n",
    "**Important:**\n",
    "> A lot of queries are different in the ORM.<br>\n",
    "> When using SQLAlchemy mainly for the ORM, it might be best to learn the ORM before Core.<br>\n",
    "> Do not confuse yourself by reading this notebook first.\n",
    "\n",
    "- Tables\n",
    "- Transactions\n",
    "- Insert\n",
    "  - Returning\n",
    "- Select\n",
    "  - Scalar(s)\n",
    "  - Order By\n",
    "  - Offset/Limit\n",
    "  - Where\n",
    "  - Transformation\n",
    "  - Aggregate/Group By\n",
    "  - Union\n",
    "- Update\n",
    "- Delete"
   ]
  },
  {
   "cell_type": "markdown",
   "id": "2e310bf7-7d40-40ed-951a-8636da07767e",
   "metadata": {},
   "source": [
    "## Logging"
   ]
  },
  {
   "cell_type": "code",
   "execution_count": null,
   "id": "c547659b-91b9-4acd-994b-571c802672c8",
   "metadata": {},
   "outputs": [],
   "source": [
    "from contextlib import contextmanager\n",
    "import logging\n",
    "import sys\n",
    "\n",
    "handler = logging.StreamHandler(sys.stdout)\n",
    "handler.setLevel(logging.WARN)\n",
    "\n",
    "logger = logging.getLogger('sqlalchemy.engine')\n",
    "logger.setLevel(logging.DEBUG)\n",
    "logger.addHandler(handler)\n",
    "\n",
    "@contextmanager\n",
    "def logs(level=logging.INFO):\n",
    "    state = handler.level\n",
    "    handler.setLevel(level)\n",
    "    try:\n",
    "        yield\n",
    "    finally:\n",
    "        handler.setLevel(state)"
   ]
  },
  {
   "cell_type": "markdown",
   "id": "de7f2de9-cdcd-4fd8-9c96-b8df49123ed1",
   "metadata": {},
   "source": [
    "## Tables\n",
    "Although SQLAlchemy is perfectly capable of running *raw* queries, it can also use Table definitions.\n",
    "\n",
    "These table definitions are created by instancing the Table class. Tables will be sharing a MetaData object.\n",
    "This metadata is used to describe the database in one way or another.\n",
    "For servers with multi-database setups, this metadata can allow a single network connection to be used for multiple database at the same time.\n",
    "\n",
    "The signature of the constructor is roughly this (slightly edited for clarity).\n",
    "```python\n",
    "class Table(...):\n",
    "    def __init__(self, tablename: str, metadata: MetaData, *columns: Column, **kwargs):\n",
    "        ...\n",
    "```"
   ]
  },
  {
   "cell_type": "code",
   "execution_count": null,
   "id": "727d28ee-dd8a-4919-b60d-4b681421ef7b",
   "metadata": {},
   "outputs": [],
   "source": [
    "import sqlalchemy as sa"
   ]
  },
  {
   "cell_type": "code",
   "execution_count": null,
   "id": "ac7df6e8-7146-4572-ae85-873da2298f6c",
   "metadata": {},
   "outputs": [],
   "source": [
    "metadata = sa.MetaData()\n",
    "Products = sa.Table('products', metadata, \n",
    "                    sa.Column('id', sa.Integer, primary_key=True, autoincrement=True),\n",
    "                    sa.Column('name', sa.VARCHAR(255), default=None, nullable=True)\n",
    "                    )"
   ]
  },
  {
   "cell_type": "code",
   "execution_count": null,
   "id": "8337c573-086d-4922-9adb-399d3253e879",
   "metadata": {},
   "outputs": [],
   "source": [
    "print(Products.name)\n",
    "for column in Products.columns:\n",
    "    print(f'> {column.key:<10s} NULL={str(column.nullable):<8s}  PK={str(column.primary_key):<8s} {str(column.type):<10s}')"
   ]
  },
  {
   "cell_type": "code",
   "execution_count": null,
   "id": "7c303847-837f-4bf9-a43f-38ab7fb928ca",
   "metadata": {},
   "outputs": [],
   "source": [
    "engine = sa.create_engine('sqlite://')\n",
    "con = engine.connect()"
   ]
  },
  {
   "cell_type": "code",
   "execution_count": null,
   "id": "61e8f5f8-98ff-40a4-92fe-b16c8752c0c4",
   "metadata": {},
   "outputs": [],
   "source": [
    "# This is where we actually create the tables.\n",
    "# The Metadata understands the tables, and we're giving the engine to do so.\n",
    "# Running this multiple times will not recreate tables (data will stay).\n",
    "metadata.create_all(engine)"
   ]
  },
  {
   "cell_type": "markdown",
   "id": "67383f39-9218-4781-adbd-dfc810eb81d4",
   "metadata": {},
   "source": [
    "## Transactions\n",
    "Transactions provide isolations of operations.<br>\n",
    "When multiple records are added and something breaks,\n",
    "applications usually want to revert to the state where everything makes sense, they want to rollback.\n",
    "\n",
    "SQLAlchemy is *eager* to start a transaction.<br>\n",
    "Whenever something happens on the regular connection (including reading), it will start a transaction implicitly.\n",
    "\n",
    "```python\n",
    "print(connection.in_transaction()) \n",
    "for record in connection.execute(Products.select()):\n",
    "    print(record)\n",
    "print(connection.in_transaction())\n",
    "\n",
    "if connection.in_transaction():\n",
    "    connection.commit()\n",
    "```\n",
    "\n",
    "----------\n",
    "To start a transaction properly, try calling `.begin()`.\n",
    "\n",
    "```python\n",
    "with connection.begin() as transaction:\n",
    "    ...\n",
    "```\n",
    "\n",
    "Transactions *should* automatically commit, unless an exception breaks the context.<br>\n",
    "This notebook uses a lot rollbacks to keep the demos clean.\n",
    "\n",
    "Calling `begin()` while a transaction is already running will provide the following exception:\n",
    "\n",
    "> InvalidRequestError: This connection has already initialized a SQLAlchemy Transaction() object via begin() or autobegin; can't call begin() here unless rollback() or commit() is called first.\n",
    "\n",
    "This usually happens for one of two reasons:\n",
    "1. Someone used `with engine.begin()`, which starts both a connection and a transaction. (Don't do that).\n",
    "2. Some code dirtied the connection (`sqlalchemy.inspect(...).whatever()` can be the cause of this).\n",
    "\n",
    "```python\n",
    "print(connection.in_transaction())  # False\n",
    "print(sa.inspect(connection).get_table_names())\n",
    "print(connection.in_transaction())  # True\n",
    "```\n"
   ]
  },
  {
   "cell_type": "code",
   "execution_count": null,
   "id": "0314016f-d78a-471f-b262-c3152f7a5df1",
   "metadata": {},
   "outputs": [],
   "source": [
    "# Quick check-up, also demonstrating how one might need to diagnose things.\n",
    "if con.closed:\n",
    "    print(\"Connection is closed.\")\n",
    "if con.in_transaction():\n",
    "    print(\"Connection is in transaction.\")"
   ]
  },
  {
   "cell_type": "markdown",
   "id": "53d3d625-c55d-44a5-aa87-d1fc4f34df9b",
   "metadata": {},
   "source": [
    "## Insert\n",
    "There are many ways to insert a record.\n",
    "They're similar, but not quite the same.\n",
    "When a record has been inserted, SQLAlchemy will return the primary key that has been created/calculated (when applicable).\n",
    "\n",
    "A single primary key in a table can consist of multiple fields.\n",
    "SQLAlchemy accounts for by always returning every inserted key as a tuple.\n",
    "\n",
    "A key thing to note is bulk inserts.\n",
    "Any time that multiple rows are inserted, the return value will usually omit the inserted primary key.\n",
    "\n",
    "**Postgres** can still return the inserted keys in the expected way.\n"
   ]
  },
  {
   "cell_type": "code",
   "execution_count": null,
   "id": "0aa7584c-803a-4c4b-a398-ad7847fc0c03",
   "metadata": {},
   "outputs": [],
   "source": [
    "# Passing the new row as a dictionary.\n",
    "result = con.execute(Products.insert(), {'name': 'Record 1'})\n",
    "print(f'Inserted {result.rowcount:d} row(s).')\n",
    "if con.in_transaction():\n",
    "    print('commit!')\n",
    "    con.commit()"
   ]
  },
  {
   "cell_type": "code",
   "execution_count": null,
   "id": "cd22cf9e-4dbb-474c-96ad-20f83fed9510",
   "metadata": {},
   "outputs": [],
   "source": [
    "with con.begin() as transaction:\n",
    "    # Connection.execute(query, parameters)\n",
    "    result = con.execute(Products.insert(), {'name': 'Record 2'})\n",
    "    print(f'Inserted {result.rowcount:d} row(s).')\n",
    "    transaction.rollback()\n",
    "\n",
    "with con.begin() as transaction:\n",
    "    # Prepared object by using `.values()`\n",
    "    query = sa.insert(Products).values({'name': 'Record 3'})\n",
    "    con.execute(query)\n",
    "    print(f'Inserted {result.rowcount:d} row(s).')\n",
    "    transaction.rollback()\n",
    "    "
   ]
  },
  {
   "cell_type": "markdown",
   "id": "364e3c66-e76a-4a85-bfd6-5fe409024370",
   "metadata": {},
   "source": [
    "----------\n",
    "**Primary Keys:** When data gets inserted into a table, it's *possible* that to get the newly created primary key.\n",
    "\n",
    "This doesn't always apply when multiple records are inserted, but systems like Postgres do support it."
   ]
  },
  {
   "cell_type": "code",
   "execution_count": null,
   "id": "ad8069cc-a9bd-4860-bac4-663eff51eb28",
   "metadata": {},
   "outputs": [],
   "source": [
    "with con.begin() as t:\n",
    "    result = con.execute(Products.insert(), {'name': 'Record 2'})\n",
    "    print(f'Inserted {result.rowcount:d} row(s)')\n",
    "    print('Newly created primary key:', result.inserted_primary_key)  # yes, that's a tuple.\n",
    "    t.rollback()"
   ]
  },
  {
   "cell_type": "markdown",
   "id": "1b540a9e-93d3-4522-85a8-146c37c64308",
   "metadata": {},
   "source": [
    "----------\n",
    "The (singular) `inserted_primary_key` is returning a tuple, which is correct.\n",
    "\n",
    "Relational Database Systems can have a primary key consisting of multiple fields.<br>\n",
    "SQLAlchemy accounts for this by always returning every inserted key as a tuple.\n",
    "\n",
    "Things change a bit when inserting multiple records:"
   ]
  },
  {
   "cell_type": "code",
   "execution_count": null,
   "id": "6471dd6a-aa3c-44c5-8041-54277ca8df6c",
   "metadata": {},
   "outputs": [],
   "source": [
    "with con.begin() as t:\n",
    "    # Multiple Inserts\n",
    "    as_list = [{'name': 'Record 3'}, {'name': 'Record 4'}]\n",
    "    result = con.execute(Products.insert(), as_list)\n",
    "    print(f'Inserted {result.rowcount} records')\n",
    "    print(result.inserted_primary_key_rows)\n",
    "\n",
    "    # SQLite and others will return a list of empty tuples.\n",
    "    as_list = [{'name': 'Record 5'},]\n",
    "    result = con.execute(Products.insert(), as_list)\n",
    "    print(f'Inserted {result.rowcount} records')\n",
    "    print(result.inserted_primary_key_rows)\n",
    "    \n",
    "    t.rollback()"
   ]
  },
  {
   "cell_type": "markdown",
   "id": "0d7b081b-27f7-4bca-98c6-6e988727b5de",
   "metadata": {},
   "source": [
    "----------\n",
    "The above demonstrates that multi-row inserts will not return primary keys.<br>\n",
    "**I might be wrong if SQLite has added this feature**\n",
    "\n",
    "Althought te call to insert is effectively the same (both passing a list), it is the number of records that determines wether or not a primary key is returned.\n",
    "\n",
    "**Note:** When writing tests, it's important to remember this detail and write for multiple records if that is a possible situation.\n",
    "Otherwise the code might be tested on the assumption that primary keys are always returned."
   ]
  },
  {
   "cell_type": "markdown",
   "id": "d0bc2324-6421-4231-80b5-67e179344652",
   "metadata": {},
   "source": [
    "### Returning\n",
    "\n",
    "The `RETURNING` clause is a relatively recent addition to database, and is not part of the official SQL language.<br>\n",
    "For `INSERT` statement, this means returning row data immediately after the insert.<br>\n",
    "This can make it much easier to query columns for server-calculated default values.\n",
    "\n",
    "**Note:** As a non-standard feature, not all DBMS may support this.<br>\n",
    "PostgreSQL and SQLite (2021, 3.35.0 and later) should support this feature."
   ]
  },
  {
   "cell_type": "code",
   "execution_count": null,
   "id": "ef1655f5-a33f-4480-9ba6-79ccaa38a929",
   "metadata": {},
   "outputs": [],
   "source": [
    "with con.begin() as t:\n",
    "    # Multiple Inserts\n",
    "    as_list = [{'name': 'Record 3'}, {'name': 'Record 4'}]\n",
    "    query = Products.insert().returning(Products.c['id'], Products.c['name'])\n",
    "    with logs():\n",
    "        result = con.execute(query, as_list)\n",
    "    print(f'Inserted {result.rowcount} records')\n",
    "    for entry in result:\n",
    "        print(entry)\n",
    "    \n",
    "    t.rollback()"
   ]
  },
  {
   "cell_type": "markdown",
   "id": "67a2c322-40f2-40ea-b849-5a208b586ee3",
   "metadata": {},
   "source": [
    "**Note:** Apparently `RETURNING` makes SQLite return the primary keys for multiple rows, where it first could not."
   ]
  },
  {
   "cell_type": "markdown",
   "id": "55ba04b5-edaa-49b6-927d-baa87e367b81",
   "metadata": {},
   "source": [
    "## Select\n",
    "This is the bread and butter of most queries.\n",
    "\n",
    "Queries can be built using Table or Column objects.\n",
    "This query is fed into an `.execute` function, with returns a Result object"
   ]
  },
  {
   "cell_type": "code",
   "execution_count": null,
   "id": "08bc2739-ae03-425d-9105-c9cdf1012169",
   "metadata": {},
   "outputs": [],
   "source": [
    "query = Products.select()  # All Columns\n",
    "\n",
    "result = con.execute(query)\n",
    "print(result)  # CursorResult\n",
    "for row in result:  # Row (tuple-styled)\n",
    "    print(row, type(row))\n",
    "\n",
    "result = con.execute(query).mappings()  \n",
    "print(type(result))  # MappingResult\n",
    "for row in result:  # RowMapping (dict-styled)\n",
    "    print(row, type(row))\n"
   ]
  },
  {
   "cell_type": "code",
   "execution_count": null,
   "id": "5e116a85-3147-4a9c-a5fe-9d01c879c5b4",
   "metadata": {},
   "outputs": [],
   "source": [
    "# Selecting specific columns\n",
    "# The columns contain metadata about the table(s) to query.\n",
    "# Note that '.columns' and '.c' are the same thing, it is just a writing aid.\n",
    "query = sa.select(Products.columns['id'], Products.c['name'])\n",
    "# unpack it like a tuple\n",
    "for pk, name in con.execute(query):\n",
    "    print(pk, name)"
   ]
  },
  {
   "cell_type": "markdown",
   "id": "8d24b0a7-c977-43ee-b9b2-02a2cc746fae",
   "metadata": {},
   "source": [
    "----------\n",
    "The above shows rows as tuples and dictionaries when printed.<br>\n",
    "The underlying object is usually a `Row` or `RowMapping` object.\n",
    "\n",
    "These allow array-like access with some extras.\n",
    "\n",
    "**Example:** Queries sometimes get created dynamically, and that includes columns.<br>\n",
    "The system that adds columns also has to read them. Doing this by a textual key can be a bit iffy.<br>\n"
   ]
  },
  {
   "cell_type": "code",
   "execution_count": null,
   "id": "1f5a6d78-2067-4c7e-add2-1b6b52d82501",
   "metadata": {},
   "outputs": [],
   "source": [
    "# After using .mappings(), fields can be access using column definitions.\n",
    "# This comes in handy for 'calculated columns' later on.\n",
    "column_id = Products.c['id']\n",
    "column_name = Products.c['name']\n",
    "\n",
    "query = sa.select(column_id, column_name)\n",
    "for entry in con.execute(query).mappings():\n",
    "    print(entry[column_id], entry[column_name])"
   ]
  },
  {
   "cell_type": "code",
   "execution_count": null,
   "id": "edb770aa-e4fc-43e0-a33e-60d7a3e001be",
   "metadata": {},
   "outputs": [],
   "source": [
    "query = sa.select(Products.c['id'])\n",
    "print('A:', query)\n",
    "query = query.add_columns(Products.c['name'])\n",
    "print('B:', query)"
   ]
  },
  {
   "cell_type": "code",
   "execution_count": null,
   "id": "5c800f71-fe0d-4101-90b2-8e8e0bd7d287",
   "metadata": {},
   "outputs": [],
   "source": [
    "# Appending `scalars()` will return the first column for each row.\n",
    "# The query will still fetch the entire set.\n",
    "for pk in con.execute(Product.select()).scalars():\n",
    "    print(pk)"
   ]
  },
  {
   "cell_type": "code",
   "execution_count": null,
   "id": "60e235fe-13b5-4fea-8ba0-93d13fffd48f",
   "metadata": {},
   "outputs": [],
   "source": [
    "# Appending `scalar()` will return the first column of the first row.\n",
    "# The query will still fetch the entire set.\n",
    "pk = con.execute(Product.select()).scalar()\n",
    "print(pk)"
   ]
  },
  {
   "cell_type": "code",
   "execution_count": null,
   "id": "b52d78d9-8889-412b-b7e0-653b5af04c60",
   "metadata": {},
   "outputs": [],
   "source": [
    "# In order to select individual columns, `sa.select(*columns)` is used.\n",
    "query = sa.select(Product.columns['name'])\n",
    "for entry in con.execute(query).mappings():\n",
    "    print(entry)"
   ]
  },
  {
   "cell_type": "markdown",
   "id": "0734f39e-6158-40c3-9d9d-d58473fdfb95",
   "metadata": {},
   "source": [
    "### Scalar(s)\n",
    "The 'Scalar' is the value of the first column.<br>\n",
    "In SQLAlchemy, the 'scalar' (singular) returns the first column of the first row (any additional data becomes inaccessible).<br>\n",
    "When using 'scalars' (plural) it returns the first column of *every* row.\n",
    "\n",
    "Note that all the data still transfered, and gets reduced to a singular column.<br>\n",
    "The example below has logs turned on to show the query being executed.\n"
   ]
  },
  {
   "cell_type": "code",
   "execution_count": null,
   "id": "066a48e1-e7aa-43db-b9df-76d26d8e0ded",
   "metadata": {},
   "outputs": [],
   "source": [
    "with logs():\n",
    "    query = sa.select(Products)\n",
    "    print(con.scalar(query))"
   ]
  },
  {
   "cell_type": "markdown",
   "id": "bb7788d3-db93-46c7-8b11-2f28c9fc9b47",
   "metadata": {},
   "source": [
    "### Order By"
   ]
  },
  {
   "cell_type": "code",
   "execution_count": null,
   "id": "b8816d9b-4cde-48ff-9b9a-a7a40296cb7e",
   "metadata": {},
   "outputs": [],
   "source": [
    "# Order by Name, descending:\n",
    "str(Products.select().order_by(Products.c['name'].desc()))"
   ]
  },
  {
   "cell_type": "markdown",
   "id": "b163eae8-cd3e-46fb-979e-86ac2b8eaf0f",
   "metadata": {},
   "source": [
    "### Offset/Limit"
   ]
  },
  {
   "cell_type": "code",
   "execution_count": null,
   "id": "c9616cc4-8787-4d03-9fd8-d762763727f0",
   "metadata": {},
   "outputs": [],
   "source": [
    "str(Products.select().offset(10).limit(10))"
   ]
  },
  {
   "cell_type": "markdown",
   "id": "e90c1c17-c91d-4489-8e83-f8e0c0310ab1",
   "metadata": {},
   "source": [
    "### Where\n",
    "\n",
    "Note: Using subqueries for the `IN` clause are shown in the 'subqueries' notebook."
   ]
  },
  {
   "cell_type": "code",
   "execution_count": null,
   "id": "c54b5f5f-bb94-4945-a8c9-67d2329521c1",
   "metadata": {},
   "outputs": [],
   "source": [
    "query = sa.select(Products).where(Products.columns['id'] <= 2)\n",
    "for product in con.execute(query):\n",
    "    print(product)"
   ]
  },
  {
   "cell_type": "code",
   "execution_count": null,
   "id": "2c67bdc7-d2e1-4d82-8c2b-cf4b24752011",
   "metadata": {},
   "outputs": [],
   "source": [
    "query = sa.select(Product).order_by(Product.columns['id']).offset(1).limit(1)"
   ]
  },
  {
   "cell_type": "code",
   "execution_count": null,
   "id": "3bf8465e-c5bc-4fe2-b5a4-c222e51cf6c2",
   "metadata": {},
   "outputs": [],
   "source": [
    "for product in con.execute(query):\n",
    "    print(product)"
   ]
  },
  {
   "cell_type": "code",
   "execution_count": null,
   "id": "571d7ba2-368c-43d9-83c4-fb65a21aed8d",
   "metadata": {},
   "outputs": [],
   "source": [
    "a = (Product.columns['id'] * 2)"
   ]
  },
  {
   "cell_type": "code",
   "execution_count": null,
   "id": "9e1523bc-c640-4ae7-9908-dd53344af0a4",
   "metadata": {},
   "outputs": [],
   "source": []
  },
  {
   "cell_type": "markdown",
   "id": "236c4662-7156-41de-8ff6-4a644b0c7871",
   "metadata": {},
   "source": [
    "### Transformation"
   ]
  },
  {
   "cell_type": "code",
   "execution_count": null,
   "id": "acc91347-8312-4771-b455-371e00574a0c",
   "metadata": {},
   "outputs": [],
   "source": [
    "query = sa.select(Product.columns['id'], a.label('double'))"
   ]
  },
  {
   "cell_type": "code",
   "execution_count": null,
   "id": "94868746-9185-4955-aa88-e500629bef77",
   "metadata": {},
   "outputs": [],
   "source": [
    "for product in con.execute(query).mappings():\n",
    "    print(product)"
   ]
  },
  {
   "cell_type": "markdown",
   "id": "fc6d7ce7-c422-452c-bd99-62f3b80f33a7",
   "metadata": {},
   "source": [
    "### Aggregate/Group By"
   ]
  },
  {
   "cell_type": "code",
   "execution_count": null,
   "id": "d5bee2ba-100a-4a8e-ab9a-1e58abb21403",
   "metadata": {},
   "outputs": [],
   "source": [
    "with con.begin():\n",
    "    ...\n",
    "    sa.select(Products.c['?']).group_by(Products.c['?'])"
   ]
  },
  {
   "cell_type": "code",
   "execution_count": null,
   "id": "04380258-eb21-403b-988a-73d19eba9351",
   "metadata": {},
   "outputs": [],
   "source": []
  },
  {
   "cell_type": "markdown",
   "id": "6d8da8ef-0309-4ef1-a13d-934f2db83568",
   "metadata": {},
   "source": [
    "### Union\n",
    "\n",
    "Remember that `UNION` will deduplicate, whereas `UNION ALL` will not."
   ]
  },
  {
   "cell_type": "code",
   "execution_count": null,
   "id": "59c96869-21e2-480f-af89-4898f6d81518",
   "metadata": {},
   "outputs": [],
   "source": [
    "query_a = sa.select(products_table.columns['id'].label('x')).where(products_table.columns['id'] == 1)\n",
    "query_b = sa.select(products_table.columns['id'].label('x')).where(products_table.columns['id'] == 1)\n",
    "\n",
    "with logs(), con.begin():\n",
    "    for product in con.execute(sa.union_all(query_a, query_b)).all():\n",
    "        print(product)"
   ]
  },
  {
   "cell_type": "code",
   "execution_count": null,
   "id": "0ef7206e-0650-40d7-95eb-a235ddcf613c",
   "metadata": {},
   "outputs": [],
   "source": [
    "con.rollback()"
   ]
  },
  {
   "cell_type": "markdown",
   "id": "11f3dcb8-2e50-4914-9403-458f7803bfb8",
   "metadata": {},
   "source": [
    "## Update"
   ]
  },
  {
   "cell_type": "code",
   "execution_count": null,
   "id": "396bc3e0-b467-4ed1-938d-4cecc84d8682",
   "metadata": {},
   "outputs": [],
   "source": [
    "# The preceding 'select' section did not use transactions, so it might be dirty.\n",
    "if con.in_transaction():\n",
    "    con.rollback()"
   ]
  },
  {
   "cell_type": "code",
   "execution_count": null,
   "id": "7f79c9e9-953c-468c-a511-aae324da4795",
   "metadata": {},
   "outputs": [],
   "source": []
  },
  {
   "cell_type": "code",
   "execution_count": null,
   "id": "2f6d0bb6-ebf8-42c6-9f16-8eaddec9cd5f",
   "metadata": {},
   "outputs": [],
   "source": [
    "with con.begin() as t:\n",
    "    ...\n",
    "    t.rollback()"
   ]
  },
  {
   "cell_type": "code",
   "execution_count": null,
   "id": "c40aecb9-552a-41b9-8604-d3d1065bd687",
   "metadata": {},
   "outputs": [],
   "source": []
  },
  {
   "cell_type": "code",
   "execution_count": null,
   "id": "66f16bfc-1bdc-479b-a431-6cf72c75eee6",
   "metadata": {},
   "outputs": [],
   "source": []
  },
  {
   "cell_type": "code",
   "execution_count": null,
   "id": "0ffcf0b3-6889-4aaf-ab03-5ac072f64d19",
   "metadata": {},
   "outputs": [],
   "source": [
    "on.rollback()"
   ]
  },
  {
   "cell_type": "markdown",
   "id": "7a5361a4-8869-40da-a068-4daac994ea37",
   "metadata": {},
   "source": [
    "## Delete"
   ]
  },
  {
   "cell_type": "code",
   "execution_count": null,
   "id": "8fa72c1e-9349-4e76-972e-ff191e5b6e1a",
   "metadata": {},
   "outputs": [],
   "source": [
    "with con.begin() as t:\n",
    "    con.execute(Product.delete())"
   ]
  },
  {
   "cell_type": "code",
   "execution_count": null,
   "id": "a05a3c34-a744-4d03-9e9a-747b1cd19f06",
   "metadata": {},
   "outputs": [],
   "source": [
    "from sqlalchemy.dialects import mssql\n",
    "from sqlalchemy.dialects import postgresql"
   ]
  },
  {
   "cell_type": "code",
   "execution_count": null,
   "id": "b231811d-6432-40ba-a1dd-cf84368d7477",
   "metadata": {},
   "outputs": [],
   "source": [
    "str(s.compile(dialect=mssql.dialect()))"
   ]
  },
  {
   "cell_type": "code",
   "execution_count": null,
   "id": "f18e1fbc-9711-425a-9bc2-b4112dbe6786",
   "metadata": {},
   "outputs": [],
   "source": [
    "str(s.compile(dialect=postgresql.dialect()))"
   ]
  },
  {
   "cell_type": "code",
   "execution_count": null,
   "id": "3dd98b0d-6a80-434b-be9b-3017c1cdf74f",
   "metadata": {},
   "outputs": [],
   "source": [
    "with con.begin() as t:\n",
    "    # Multiple Inserts\n",
    "    as_list = [{'name': 'Record 2'}, {'name': 'Record 3'}]\n",
    "    result = con.execute(products_table.insert(), as_list)\n",
    "    print(f'Inserted {result.rowcount} records')\n",
    "    print(result.inserted_primary_key_rows)\n",
    "\n",
    "    # SQLite and others will return a list of empty tuples.\n",
    "    as_list = [{'name': 'Record 4'},]\n",
    "    result = con.execute(products_table.insert(), as_list)\n",
    "    print(f'Inserted {result.rowcount} records')\n",
    "    print(result.inserted_primary_key_rows)\n",
    "    \n",
    "    t.commit()"
   ]
  }
 ],
 "metadata": {
  "kernelspec": {
   "display_name": "Python 3 (ipykernel)",
   "language": "python",
   "name": "python3"
  },
  "language_info": {
   "codemirror_mode": {
    "name": "ipython",
    "version": 3
   },
   "file_extension": ".py",
   "mimetype": "text/x-python",
   "name": "python",
   "nbconvert_exporter": "python",
   "pygments_lexer": "ipython3",
   "version": "3.12.0"
  }
 },
 "nbformat": 4,
 "nbformat_minor": 5
}
