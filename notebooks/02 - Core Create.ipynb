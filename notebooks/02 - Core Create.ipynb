{
 "cells": [
  {
   "cell_type": "markdown",
   "id": "959995b5-3740-448c-a857-95b570962cbe",
   "metadata": {
    "editable": true,
    "slideshow": {
     "slide_type": ""
    },
    "tags": []
   },
   "source": [
    "# Core Create\n",
    "\n",
    "This Notebook focuses on the process of inserting records.\n",
    "\n",
    "The following topics are covered:\n",
    "- Insert Basics\n",
    "- Insert with default values\n",
    "- Insert from another table (insert into ... select ...)\n",
    "- Returning\n",
    "- Upsert / Update or Insert / ON CONFLICT\n",
    "- Common Table Expressions / WITH (select)\n",
    "\n",
    "Further Reading:\n",
    "- [INSERT syntax](https://www.sqlite.org/lang_insert.html) by SQLite\n",
    "- [\"Using INSERT Statments\"](https://docs.sqlalchemy.org/en/20/tutorial/data_insert.html) by SQLAlchemy"
   ]
  },
  {
   "cell_type": "markdown",
   "id": "eb001512-3291-46f2-ad4b-f64960dd4aba",
   "metadata": {},
   "source": [
    "# Setup\n",
    "\n",
    "Although a Foreign Key *should* enforce the existence of data in a remote table, SQLite does not enforce this by default.<br>\n",
    "Enforcing this is enabled by using a PRAGMA."
   ]
  },
  {
   "cell_type": "code",
   "execution_count": null,
   "id": "bd461898-632f-4ec1-a778-71b3b5a62b2f",
   "metadata": {},
   "outputs": [],
   "source": [
    "import sqlalchemy as sa\n",
    "from utils import logs, rollback, try_fix_quirks\n",
    "\n",
    "engine = sa.create_engine('sqlite://')\n",
    "con = engine.connect()\n",
    "try_fix_quirks(con)"
   ]
  },
  {
   "cell_type": "code",
   "execution_count": null,
   "id": "0160bc4b-ef11-4928-a444-52a06f244876",
   "metadata": {
    "editable": true,
    "slideshow": {
     "slide_type": ""
    },
    "tags": []
   },
   "outputs": [],
   "source": [
    "metadata = sa.MetaData()\n",
    "Categories = sa.Table(\n",
    "    'categories', \n",
    "    metadata,\n",
    "    sa.Column('id', sa.Integer, primary_key=True),  # Not using autoincrement for demonstration purposes.\n",
    "    sa.Column('name', sa.VARCHAR(255), nullable=False, unique=True),\n",
    ")\n",
    "\n",
    "Products = sa.Table(\n",
    "    'products', \n",
    "    metadata, \n",
    "    sa.Column('id', sa.Integer, primary_key=True, autoincrement=True),\n",
    "    sa.Column('name', sa.VARCHAR(255), default=None, nullable=True),\n",
    "    sa.Column('category_id', sa.INTEGER, sa.ForeignKey(Categories.c.id), nullable=False),\n",
    "    sa.Column('price', sa.DOUBLE, nullable=False)\n",
    ")\n",
    "\n",
    "metadata.create_all(engine)\n",
    "\n",
    "with con.begin():\n",
    "    result = con.execute(Categories.insert(), [{'id': 1, 'name': 'No Category'}, {'id': 2, 'name': 'Smartphones'}])\n",
    "    default_category: int = 1\n",
    "    \n",
    "print('Default category:', default_category)"
   ]
  },
  {
   "cell_type": "markdown",
   "id": "17caba8a-40dd-4303-9423-22333ad4013f",
   "metadata": {},
   "source": [
    "# Insert Basics\n",
    "\n",
    "These are the basic insert queries, a quick refresher from the core CRUD notebook.<br>\n",
    "After calling `connection.execute(insert)`, the returned result is quite useful.\n",
    "\n",
    "`result.returns_rows` is a boolean that speaks for itself.\n",
    "\n",
    "`result.rowcount` provides an integer with the number of rows inserted.\n"
   ]
  },
  {
   "cell_type": "code",
   "execution_count": null,
   "id": "e9c8ffc4-9432-4660-9691-011809506627",
   "metadata": {},
   "outputs": [],
   "source": [
    "with rollback(con):\n",
    "    result = con.execute(Products.insert(), {'name': 'Android', 'price': 100, 'category_id': default_category})\n",
    "    print('rows affected:', result.rowcount)\n",
    "    print('returns rows:', result.returns_rows)\n",
    "    for row in con.execute(Products.select()):\n",
    "        print(row.id)"
   ]
  },
  {
   "cell_type": "markdown",
   "id": "365b165c-fdad-48fd-8f07-9adc01d90a73",
   "metadata": {
    "editable": true,
    "slideshow": {
     "slide_type": ""
    },
    "tags": [
     "Insert",
     "Primary Key"
    ]
   },
   "source": [
    "## Inserted Primary Key\n",
    "\n",
    "Tables can be configured to generate a primary key when a record is added.<br>\n",
    "SQLAlchemy can return this value.\n",
    "\n",
    "`result.inserted_primary_key` provides a tuple\n",
    "`result.inserted_primary_key_rows`\n"
   ]
  },
  {
   "cell_type": "code",
   "execution_count": null,
   "id": "e7b6f35d-ac66-474f-ba55-3faee8d4ae00",
   "metadata": {
    "editable": true,
    "slideshow": {
     "slide_type": ""
    },
    "tags": []
   },
   "outputs": [],
   "source": [
    "with rollback(con):\n",
    "    result = con.execute(Products.insert(), {'name': 'Android', 'price': 100, 'category_id': default_category})\n",
    "    print('primary key:', result.inserted_primary_key)\n",
    "    print('primary key rows:', result.inserted_primary_key_rows)"
   ]
  },
  {
   "cell_type": "markdown",
   "id": "892cbc24-2c92-443e-a562-6bc78e24e976",
   "metadata": {
    "editable": true,
    "slideshow": {
     "slide_type": ""
    },
    "tags": [
     "Insert",
     "Defaults"
    ]
   },
   "source": [
    "# Insert with Defaults\n",
    "Data might have a few constant values which keep getting reused.<br>\n",
    "For this example, it is adding products with the same category.\n",
    "\n",
    "`sa.execute(Products.insert(), data)`\n",
    "\n",
    "This is a straightforward piece of code, but what if *some* data didn't have a category ID assigned yet?\n",
    "\n",
    "```python\n",
    "data = [{}]\n",
    "for d in data:\n",
    "    d.setdefault('category_id', default_category)\n",
    "```\n",
    "\n",
    "*Although* this is simple code, SQLAlchemy has a fancy way of doing this.<br>\n",
    "When creating the insert query, using `.values` can be used to set a default for missing values.<br>\n",
    "When running and logging the query, no special 'default' syntax is used.<br>\n",
    "SQLAlchemy is adding the value whenever it is missing."
   ]
  },
  {
   "cell_type": "code",
   "execution_count": null,
   "id": "1bba2cfa-144b-4cc7-bb32-f0ee76cb4271",
   "metadata": {},
   "outputs": [],
   "source": [
    "with rollback(con):\n",
    "    query = (\n",
    "        Products.insert()\n",
    "        # Set the default for category_id.\n",
    "        .values(category_id=default_category)\n",
    "    )\n",
    "    data = [\n",
    "      {'name': 'Android', 'price': 100}, \n",
    "      {'name': 'iPhone', 'price':200, 'category_id':2 },\n",
    "    ]\n",
    "    with logs():\n",
    "        con.execute(query, data)\n",
    "    print('---')\n",
    "    for row in con.execute(Products.select()):\n",
    "        print(row)"
   ]
  },
  {
   "cell_type": "markdown",
   "id": "25720d4b-2f47-434c-8758-f258d345b5cb",
   "metadata": {
    "editable": true,
    "slideshow": {
     "slide_type": ""
    },
    "tags": [
     "Insert",
     "Insert-Select"
    ]
   },
   "source": [
    "# Insert ... Select\n",
    "This is an insert that copies its data from another select statment.<br>\n",
    "In SQL, this expression would be:\n",
    "```SQL\n",
    "INSERT INTO MyTable (name) SELECT name FROM OtherTable;\n",
    "```\n",
    "\n",
    "SQLAlchemy is still very much capable of this.\n",
    "1. Create a Select query with the data you want.\n",
    "2. Make sure the columns in the Select query matches order of the Insert.\n",
    "\n",
    "from_select(columns to fill in, selection with right number of columns)\n",
    "\n",
    "**Note**\n",
    "> This will not provide a Primary Key, even if only 1 record was inserted.\n",
    "> \n",
    "> The `rowcount` member should still be available as usual.\n",
    ">\n",
    "> As always, certain DBMS may implement while others will not.\n"
   ]
  },
  {
   "cell_type": "code",
   "execution_count": null,
   "id": "4e210ebf-e7de-4d5f-b317-f570422b4cc1",
   "metadata": {},
   "outputs": [],
   "source": [
    "with con.begin() as t:\n",
    "    con.execute(Products.insert(), {'name': 'Android', 'category_id': default_category, 'price': 100})\n",
    "    for row in con.execute(Products.select()):\n",
    "        print(row)\n",
    "    \n",
    "    original = sa.select(Products.c['name'], Products.c['price'], Products.c['category_id'])\n",
    "    inserting = Products.insert()\n",
    "    with logs():\n",
    "        query = inserting.from_select([Products.c['name'], Products.c['price'], Products.c['category_id']], original)\n",
    "        result = con.execute(query)\n",
    "    print('--')\n",
    "    print('rowcount:', result.rowcount)\n",
    "    print('returns_rows:', result.returns_rows)\n",
    "    print('inserted_primary_keys:', result.inserted_primary_key_rows)\n",
    "    print('closed(cursor):', result.closed)\n",
    "    print('lastrowid:', result.lastrowid)\n",
    "    print('--')\n",
    "    for row in con.execute(Products.select()):\n",
    "        print(row)\n",
    "    \n",
    "    t.rollback()"
   ]
  },
  {
   "cell_type": "markdown",
   "id": "0444a063-939b-4157-b787-1c59e41e35d4",
   "metadata": {
    "editable": true,
    "slideshow": {
     "slide_type": ""
    },
    "tags": [
     "Returning",
     "Insert"
    ]
   },
   "source": [
    "# Returning\n",
    "\n",
    "The `RETURNING` clause is a relatively recent addition to database, and is not part of the official SQL language.<br>\n",
    "For `INSERT` statement, this means returning row data immediately after the insert.<br>\n",
    "This can make it much easier to query columns for server-calculated default values.\n",
    "\n",
    "**Note:** As a non-standard feature, not all DBMS may support this.<br>\n",
    "PostgreSQL and SQLite (since 2021, version 3.35.0) should support this feature."
   ]
  },
  {
   "cell_type": "code",
   "execution_count": null,
   "id": "c10bc98d-7b78-4970-a216-0e8e8e505a24",
   "metadata": {},
   "outputs": [],
   "source": [
    "with con.begin() as t:\n",
    "    # Multiple Inserts\n",
    "    as_list = [{'name': 'Blackberry', 'price': 50}, {'name': 'Nokia', 'price': 60}]\n",
    "    query = Products.insert().values(category_id=default_category).returning(Products.c['id'], Products.c['name'])\n",
    "    with logs():\n",
    "        result = con.execute(query, as_list)\n",
    "    print(f'Inserted {result.rowcount} records')\n",
    "    print(f'Has rows: {result.returns_rows}')\n",
    "    for entry in result:\n",
    "        print(entry)\n",
    "    \n",
    "    t.rollback()"
   ]
  },
  {
   "cell_type": "markdown",
   "id": "72e60031-2f8e-4e81-ae1f-e9186dfe1542",
   "metadata": {},
   "source": [
    "**Note:** Apparently `RETURNING` makes SQLite return the primary keys for multiple rows, where it first could not."
   ]
  },
  {
   "cell_type": "markdown",
   "id": "a39043ba-4610-46b2-b53b-6fbd646d402d",
   "metadata": {
    "editable": true,
    "slideshow": {
     "slide_type": ""
    },
    "tags": [
     "Upsert"
    ]
   },
   "source": [
    "# Upsert (on_conflict)\n",
    "Upsert, also known as \"update or insert\" is a feature which *tries* to insert, but will do an update if the there's a conflict.<br>\n",
    "SQLAlchemy names this \"on_conflict_do_update\" or \"on_conflict_do_nothing\".\n",
    "\n",
    "These features are available for SQLite and PostgreSQL, **but** they need to have their specific version of 'insert' to be used.<br>\n",
    "This has to be imported by Python code. (if there is a fix for this, let me know).\n",
    "\n",
    "When using 'returning' with \"do_nothing\", it will only return a row when an insert is successful.\n",
    "When using 'returning' with \"do_update\", it will return the inserted or updated row.\n",
    "\n",
    "MySQL instead provides the [on_duplicate_key_update](https://docs.sqlalchemy.org/en/20/dialects/mysql.html#insert-on-duplicate-key-update-upsert) method (demo not shown here yet)."
   ]
  },
  {
   "cell_type": "code",
   "execution_count": null,
   "id": "38ab670f-0966-4c0d-8502-721df847f95e",
   "metadata": {
    "editable": true,
    "slideshow": {
     "slide_type": ""
    },
    "tags": []
   },
   "outputs": [],
   "source": [
    "from sqlalchemy.dialects.sqlite import insert\n",
    "\n",
    "with con.begin() as t:\n",
    "    data = [{'id': 1, 'name': 'General'}]\n",
    "    query = insert(Categories).on_conflict_do_nothing()\n",
    "    result = con.execute(query, data)\n",
    "    # on_conflict_do_nothing\n",
    "    t.rollback()"
   ]
  },
  {
   "cell_type": "code",
   "execution_count": null,
   "id": "c750ab8c-a003-437c-af7e-c65f5355ab54",
   "metadata": {
    "editable": true,
    "slideshow": {
     "slide_type": ""
    },
    "tags": []
   },
   "outputs": [],
   "source": [
    "from sqlalchemy.dialects.sqlite import insert\n",
    "\n",
    "with con.begin() as t:\n",
    "    data = [{'id': 1, 'name': 'General'}]\n",
    "    query = insert(Categories).on_conflict_do_update(set_={'name': 'General'})\n",
    "    result = con.execute(query, data)\n",
    "    # on_conflict_do_nothing\n",
    "    for row in con.execute(sa.select(Categories)):\n",
    "        print(row)\n",
    "    t.rollback()"
   ]
  },
  {
   "cell_type": "markdown",
   "id": "78fd960d-4789-4362-99e7-56af5c90241d",
   "metadata": {},
   "source": [
    "*((Any examples for MySQL's \"on_duplicate_key_update\" should go here))*"
   ]
  },
  {
   "cell_type": "markdown",
   "id": "236d50db-67bc-424b-bc46-f9d36cbb3af1",
   "metadata": {
    "editable": true,
    "slideshow": {
     "slide_type": ""
    },
    "tags": [
     "CTE",
     "Common Table Expression"
    ]
   },
   "source": [
    "# WITH (common table expressions)\n",
    "The \"Common Table Expression\" (CTE) is similar to a subquery, but working slightly differently.<br>\n",
    "Where a subquery is single use, a CTE can be use in multiple queries without having to be repeated."
   ]
  },
  {
   "cell_type": "code",
   "execution_count": null,
   "id": "476ecdbd-6f65-42e5-bb43-750789af5d84",
   "metadata": {},
   "outputs": [],
   "source": [
    "q = sa.select(\n",
    "    sa.literal(1).label('one'), \n",
    "    sa.literal(2).label('two')\n",
    ")\n"
   ]
  },
  {
   "cell_type": "code",
   "execution_count": null,
   "id": "4d20a75f-ef14-4458-84fb-21f34ad7551e",
   "metadata": {},
   "outputs": [],
   "source": [
    "cte_1 = q.cte('CTE')"
   ]
  },
  {
   "cell_type": "code",
   "execution_count": null,
   "id": "30c96110-51c5-48eb-8250-7fd658a8ae3b",
   "metadata": {},
   "outputs": [],
   "source": [
    "query = (\n",
    "    Products.insert()\n",
    "    .from_select(\n",
    "        [\n",
    "            Products.c.name,\n",
    "            Products.c.price,\n",
    "            Products.c.category_id\n",
    "        ], \n",
    "        sa.select(cte_1.c.one))\n",
    ")\n",
    "print(str(query))\n"
   ]
  },
  {
   "cell_type": "code",
   "execution_count": null,
   "id": "f9c6a550-08a4-4fb6-8a7c-7a7994f27cfd",
   "metadata": {},
   "outputs": [],
   "source": [
    "from sqlalchemy.dialects import mssql\n",
    "print(str(query.compile(dialect=mssql.dialect())))"
   ]
  },
  {
   "cell_type": "markdown",
   "id": "41e5b661-a9f4-4b8e-ae51-c61a8aee1e06",
   "metadata": {},
   "source": [
    "## caching\n",
    "The CTE could be considered a view, but does it cache data?\n",
    "\n",
    "Long story short: there's a chance.<br>\n",
    "In the end, it's the specific server implementation which decides if data is cached or not.<br>\n",
    "If a CTE is used only once, it might not cache anything and loads on demand like a subquery.\n",
    "\n",
    "SQLite does perform some caching, as demonstrated by the following query (random number generation)."
   ]
  },
  {
   "cell_type": "code",
   "execution_count": null,
   "id": "c87f23c9-ae34-47de-b281-14de4a76338f",
   "metadata": {},
   "outputs": [],
   "source": [
    "cte = sa.select(sa.func.random().label('value')).cte('randoms')\n",
    "query = sa.select(cte.c.value).union_all(sa.select(cte.c.value))\n",
    "for row in con.execute(query).scalars():\n",
    "    print(row)"
   ]
  }
 ],
 "metadata": {
  "kernelspec": {
   "display_name": "Python 3 (ipykernel)",
   "language": "python",
   "name": "python3"
  },
  "language_info": {
   "codemirror_mode": {
    "name": "ipython",
    "version": 3
   },
   "file_extension": ".py",
   "mimetype": "text/x-python",
   "name": "python",
   "nbconvert_exporter": "python",
   "pygments_lexer": "ipython3",
   "version": "3.12.0"
  }
 },
 "nbformat": 4,
 "nbformat_minor": 5
}
