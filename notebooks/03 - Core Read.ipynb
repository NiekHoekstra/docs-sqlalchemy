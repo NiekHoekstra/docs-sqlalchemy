{
 "cells": [
  {
   "cell_type": "markdown",
   "id": "7b62d62f-6792-4ec9-b518-7873faa33283",
   "metadata": {},
   "source": [
    "# Core Read\n",
    "\n",
    "This Notebook focuses on the process of selecting data.<br>\n",
    "This also contains quite a few transformative \n",
    "\n",
    "Column transformations are found in \"10 - Column Transformations\"\n",
    "\n",
    "The following topics are covered:\n",
    "- Where\n",
    "- Parameters\n",
    "- Operators (OR, AND)\n",
    "- IN\n",
    "- Case (switch case)\n",
    "- Extract\n",
    "- Order By\n",
    "- Group By\n",
    "- Joins\n",
    "  - Inner Join\n",
    "  - Left Join\n",
    "  - Outer Join\n",
    "  - Cross Join / Cartesian Product\n",
    "- Union\n",
    "- Except\n",
    "- Interset\n",
    "- Subquery\n",
    "- Having\n",
    "- Streaming\n",
    "- With Hint\n",
    "- op (advanced SQLAlchemy)\n",
    "\n",
    "\n",
    "Further Reading:\n",
    "- [SELECT syntax](https://www.sqlite.org/lang_select.html) by SQLite\n",
    "- [\"Using SELECT Statements\"](https://docs.sqlalchemy.org/en/20/tutorial/data_select.html) by SQLAlchemy\n",
    "- [\"SQL Statements and Expressions API\"](https://docs.sqlalchemy.org/en/20/core/expression_api.html) by SQLAlchemy"
   ]
  },
  {
   "cell_type": "markdown",
   "id": "3439354f-2033-4292-8786-76125d28689d",
   "metadata": {},
   "source": [
    "# Setup"
   ]
  },
  {
   "cell_type": "markdown",
   "id": "e37ea9de-8a74-41f9-9bf1-cafc4dc02111",
   "metadata": {},
   "source": [
    "## Tables\n",
    "- Product\n",
    "- Customer\n",
    "- Order\n",
    "- Orderline"
   ]
  },
  {
   "cell_type": "code",
   "execution_count": null,
   "id": "ce551fd5-ac8a-4f64-b11c-4fac70994c52",
   "metadata": {},
   "outputs": [],
   "source": [
    "import sqlalchemy as sa\n",
    "from utils import *\n",
    "\n",
    "base = sa.MetaData()\n",
    "Products = sa.Table('products', base, \n",
    "                        sa.Column('id', sa.INTEGER, primary_key=True, autoincrement=True),\n",
    "                        sa.Column('name', sa.VARCHAR(255), nullable=False, index=True),\n",
    "                        sa.Column('price', sa.DOUBLE, nullable=True)\n",
    "                    )\n",
    "\n",
    "Customers = sa.Table('customers', base, \n",
    "                        sa.Column('id', sa.INTEGER, primary_key=True, autoincrement=True),\n",
    "                        sa.Column('name', sa.VARCHAR(255)),\n",
    "                    )\n",
    "\n",
    "Orders = sa.Table('orders', base, \n",
    "                        sa.Column('id', sa.INTEGER, primary_key=True, autoincrement=True),\n",
    "                        sa.Column('customer_id', sa.INTEGER, sa.ForeignKey(Products.c['id']), nullable=False)\n",
    "                 )\n",
    "\n",
    "OrderLines = sa.Table('orderlines', base, \n",
    "                        sa.Column('order_id', sa.INTEGER, sa.ForeignKey(Orders.c['id'],  ondelete='CASCADE'), nullable=False),\n",
    "                        sa.Column('product_id', sa.INTEGER, sa.ForeignKey(Products.c['id']), nullable=False),\n",
    "                        sa.Column('quantity', sa.DOUBLE, nullable=False),\n",
    "                      # order_id and product_id should be unique (as a pair).\n",
    "                        sa.PrimaryKeyConstraint('order_id', 'product_id'),\n",
    "                     )"
   ]
  },
  {
   "cell_type": "code",
   "execution_count": null,
   "id": "496f79f6-2d11-4795-8290-6686b8072bdf",
   "metadata": {},
   "outputs": [],
   "source": [
    "engine = sa.create_engine('sqlite:///')\n",
    "con = engine.connect()\n",
    "base.create_all(engine)"
   ]
  },
  {
   "cell_type": "code",
   "execution_count": null,
   "id": "16bae834-43b2-4dff-9654-1c336c11903b",
   "metadata": {},
   "outputs": [],
   "source": [
    "print(repr(Customers.c.name))\n",
    "print(repr(Customers.c['name']))\n",
    "print(repr(Customers.columns.name))\n",
    "print(repr(Customers.columns['name']))"
   ]
  },
  {
   "cell_type": "markdown",
   "id": "d06c4746-fb67-4508-bedc-6c4cf2a19295",
   "metadata": {},
   "source": [
    "## Data\n",
    "Add a little bit of starting data."
   ]
  },
  {
   "cell_type": "code",
   "execution_count": null,
   "id": "c8a377fe-676e-4246-a1e0-e037733f9988",
   "metadata": {},
   "outputs": [],
   "source": [
    "with con.begin():\n",
    "    con.execute(Customers.insert(), [{'name': 'Alice'}, {'name': 'Bob'}])\n",
    "    con.execute(Products.insert(), [{'name': 'Cookie', 'price': 1}, { 'name': 'Ice Cream', 'price': 2}])"
   ]
  },
  {
   "cell_type": "code",
   "execution_count": null,
   "id": "ce387222-5673-41cc-9b36-067f956db2b2",
   "metadata": {},
   "outputs": [],
   "source": [
    "with con.begin() as t:\n",
    "    result = con.execute(Orders.insert(), {'customer_id': 1})\n",
    "    order_id = result.inserted_primary_key[0]\n",
    "    result = con.execute(OrderLines.insert(), [{'order_id': order_id, 'product_id': 1, 'quantity': 1}])"
   ]
  },
  {
   "cell_type": "markdown",
   "id": "99877f65-52e2-4eac-a6a3-69aec9684f04",
   "metadata": {
    "editable": true,
    "slideshow": {
     "slide_type": ""
    },
    "tags": [
     "Select"
    ]
   },
   "source": [
    "# Basic Select\n",
    "The basic select query can be made using `Table.select()` or `sa.select(Table_or_Columns)`.<br>\n",
    "It can be useful to stick with `sa.select` as that is also used for column-based expressions and ORM expressions."
   ]
  },
  {
   "cell_type": "code",
   "execution_count": null,
   "id": "a3c0f58a-af99-478d-a8a3-ecaaa65c69c8",
   "metadata": {},
   "outputs": [],
   "source": [
    "# Select All columns\n",
    "print('\\n--- A ---')\n",
    "print(Customers.select())\n",
    "\n",
    "print('\\n--- B ---')\n",
    "print(sa.select(Customers))\n",
    "\n",
    "# Select 1 column\n",
    "print('\\n--- C ---')\n",
    "print(sa.select(Customers.c.id))"
   ]
  },
  {
   "cell_type": "code",
   "execution_count": null,
   "id": "a5f7e1fc-c59f-488b-8aac-9d4d8e5bb69b",
   "metadata": {},
   "outputs": [],
   "source": [
    "print(sa.select(Customers.c.id).distinct())"
   ]
  },
  {
   "cell_type": "code",
   "execution_count": null,
   "id": "ce0e2fb0-c232-4fb8-b3d7-94377b7d79c5",
   "metadata": {},
   "outputs": [],
   "source": [
    "s = sa.select(Customers.c.id)\n",
    "print(str(s.add_columns(Customers.c.name)))"
   ]
  },
  {
   "cell_type": "markdown",
   "id": "6b0e618e-2c12-4562-adbb-917e516247f5",
   "metadata": {
    "editable": true,
    "slideshow": {
     "slide_type": ""
    },
    "tags": [
     "Where"
    ]
   },
   "source": [
    "# Where\n",
    "This is the classic 'where' clause from SQL."
   ]
  },
  {
   "cell_type": "code",
   "execution_count": null,
   "id": "61ccbcea-e28a-44eb-9907-76f248838396",
   "metadata": {},
   "outputs": [],
   "source": [
    "query = (\n",
    "    sa.select(Customers)\n",
    "    .where(\n",
    "        # .where has an implied 'AND' between its arguments.\n",
    "        Customers.c.id == 0, \n",
    "        Customers.c.name == 'DoesNotExist'\n",
    "    )\n",
    ")\n",
    "print(query)\n",
    "print('--- SQL start ---')\n",
    "with logs(), con.begin():\n",
    "    for row in con.execute(query):\n",
    "        print('row:', row)\n",
    "print('--- SQL end ---')"
   ]
  },
  {
   "cell_type": "markdown",
   "id": "1337adc4-b440-480e-9703-09849bd19529",
   "metadata": {},
   "source": [
    "-----\n",
    "When an extra `.where` is attached to the query, it is added with an `AND`.\n",
    "This means a 'where' clause *should* only create a subset in this manner."
   ]
  },
  {
   "cell_type": "code",
   "execution_count": null,
   "id": "04a81714-5df3-43c0-8aa5-bd97548773b7",
   "metadata": {},
   "outputs": [],
   "source": [
    "print(str(sa.select(Customers).where(Customers.c.id > 0).where(Customers.c.id < 10)))"
   ]
  },
  {
   "cell_type": "markdown",
   "id": "8733b42a-92c0-46a9-b9f5-b87afbb67683",
   "metadata": {},
   "source": [
    "-----\n",
    "Extending it with an `OR` is not supported, as this can effectively invert the query to `<original> OR true`, which would simply return all results."
   ]
  },
  {
   "cell_type": "markdown",
   "id": "4096a9f8-17d3-4df1-883b-95c0762e6eb0",
   "metadata": {
    "editable": true,
    "slideshow": {
     "slide_type": ""
    },
    "tags": [
     "Parameters",
     "Bindparam"
    ]
   },
   "source": [
    "# Parameters\n",
    "It's possible to build a query where the criteria can't be filled in yet.<br>\n",
    "In those situation, a bound parameter can be used as a placeholder.\n",
    "\n",
    "The placeholder can be created using a `sqlalchemy.bindparam(name)`.<br>\n",
    "The later query can be filled in using `query.params(name=value)`."
   ]
  },
  {
   "cell_type": "code",
   "execution_count": null,
   "id": "737dc39f-fa65-477c-ba29-bcc988ce15a9",
   "metadata": {
    "editable": true,
    "slideshow": {
     "slide_type": ""
    },
    "tags": []
   },
   "outputs": [],
   "source": [
    "query = (\n",
    "    sa.select(Customers)\n",
    "    .where(\n",
    "        # .where has an implied 'AND'\n",
    "        Customers.c.id == 0, \n",
    "        Customers.c.name == sa.bindparam('named', required=True)\n",
    "    )\n",
    ")\n",
    "print(query)\n",
    "query = query.params(named='jack')\n",
    "\n",
    "with logs(), con.begin():\n",
    "    for row in con.execute(query):\n",
    "        print('row:', row)"
   ]
  },
  {
   "cell_type": "markdown",
   "id": "e3d29614-65ba-4e3b-b652-0feb279377dc",
   "metadata": {
    "editable": true,
    "slideshow": {
     "slide_type": ""
    },
    "tags": [
     "Logical Operators",
     "AND",
     "OR",
     "IS NULL"
    ]
   },
   "source": [
    "# Logical operators\n",
    "\n",
    "Most column expression can also be combined to express a binary result.<br>\n",
    "These binary expressions can be combines to build a where clause.\n",
    "\n",
    "Some function and method names contain an awkward `_` to prevent conflicting with Python's keywords.\n",
    "\n",
    "Operation | Function/Method | Operator\n",
    "---|---|---\n",
    "OR | or_(a, b) | a \\| b \n",
    "AND | and_(a,b) | a & b\n",
    "NOT | not_(a) | ~a\n",
    "IS NULL | a.is_(None) | -\n",
    "IS NOT NULL | a.is_not(None) | -\n",
    "Contains | a.in_(tuple_or_expr) | -\n",
    "Any | any_(a, b, c) | -\n",
    "All | all_(a, b, c) | -\n",
    "\n",
    "**Common Bug(s):** A lot of expressions use comparison symbols from Python.<br>\n",
    "However, some may be tempted to use doubles ``&&``, but SQLAlchemy wants a singular variant.<br>\n",
    "In addition, boolean expressions in SQLAlchemy want to use `column == True`, but many linters will compain and want to see `column is True`."
   ]
  },
  {
   "cell_type": "code",
   "execution_count": null,
   "id": "4e1993db-e4a6-4db9-a564-f3fc2e0d7c6e",
   "metadata": {},
   "outputs": [],
   "source": [
    "# OR\n",
    "or_1 = (Customers.c['id'] == 0) | (Customers.c['name'] == 'DoesNotExist')\n",
    "\n",
    "id_is_zero = Customers.c['id'] == 0\n",
    "name_does_not_exist = Customers.c['name'] == 'DoesNotExist'\n",
    "\n",
    "or_2 = sa.or_(id_is_zero,  name_does_not_exist)\n",
    "\n",
    "print('or_1)', str(or_1))\n",
    "print('-----')\n",
    "print('or_2)', str(or_2))\n",
    "\n",
    "query = (\n",
    "    sa.select(Customers)\n",
    "    .where(or_1)\n",
    ")\n",
    "print('\\n--- SQL ---\\n')\n",
    "with logs(), con.begin():\n",
    "    for row in con.execute(query):\n",
    "        print('row:', row)"
   ]
  },
  {
   "cell_type": "markdown",
   "id": "69af8444-82b1-4ca6-ab27-8a699ad88b33",
   "metadata": {
    "editable": true,
    "slideshow": {
     "slide_type": ""
    },
    "tags": [
     "IN"
    ]
   },
   "source": [
    "# IN\n",
    "The 'IN' operator checks if a value is part of a subset.<br>\n",
    "This can be used with values, or a query (SQLAlchemy does not consider this a subquery)."
   ]
  },
  {
   "cell_type": "code",
   "execution_count": null,
   "id": "fb22a8eb-a10b-4e3d-9928-4aebe00f68e5",
   "metadata": {},
   "outputs": [],
   "source": [
    "all_ids = 1, 2, 3, 4\n",
    "query = sa.select(Customers).where(Customers.c.id.in_(all_ids))\n",
    "print('-- values --')\n",
    "with logs(), con.begin():\n",
    "    con.execute(query)\n",
    "    "
   ]
  },
  {
   "cell_type": "code",
   "execution_count": null,
   "id": "e3a1b4b2-b98b-4b08-bb4c-bdcc4cfc6c66",
   "metadata": {},
   "outputs": [],
   "source": [
    "all_ids = sa.select(Customers.c.id)\n",
    "query = sa.select(Customers).where(Customers.c.id.in_(all_ids))\n",
    "print('-- expression --')\n",
    "with logs(), con.begin():\n",
    "    con.execute(query)\n",
    "    "
   ]
  },
  {
   "cell_type": "markdown",
   "id": "45483a43-fbb5-4d65-9233-42d6bcd612ac",
   "metadata": {
    "editable": true,
    "slideshow": {
     "slide_type": ""
    },
    "tags": [
     "Case"
    ]
   },
   "source": [
    "# Case\n",
    "\n",
    "SQLAlchemy can create a 'case' systems in two ways.\n",
    "\n",
    "```python\n",
    "sqlalchemy.case(mapping: dict, value: column_expression, else_=None)\n",
    "```\n",
    "\n",
    "The second style is:\n",
    "```python\n",
    "sqlalchemy.case(*cases: tuple[Expression, Value], value: column_expression=None, else_=None\n",
    "```\n",
    "Where expression is a comparison, and the value is the resulting value."
   ]
  },
  {
   "cell_type": "code",
   "execution_count": null,
   "id": "d703ab87-ec4c-4184-af96-7c51e3709b66",
   "metadata": {
    "editable": true,
    "slideshow": {
     "slide_type": ""
    },
    "tags": []
   },
   "outputs": [],
   "source": [
    "case = sa.case(\n",
    "        (Products.c.name == 'Cookie', 'Cheap'), \n",
    "        (Products.c.name == 'Ice Cream', 'Expensive'), \n",
    "        else_='Everyday')\n",
    "\n",
    "with rollback(con), logs():\n",
    "    con.execute(Products.insert(), { 'name': 'cake'})\n",
    "    for row in con.execute(sa.select(Products, case.label('remark'))):\n",
    "        print(row.id, row.name, row.remark)\n"
   ]
  },
  {
   "cell_type": "code",
   "execution_count": null,
   "id": "93e57d88-045b-4469-9e7d-f7d6c62ac8e6",
   "metadata": {},
   "outputs": [],
   "source": [
    "case = sa.case(\n",
    "    (Products.c.name == 'Cookie', 'Cheap'), \n",
    "    (Products.c.name == 'Ice Cream', 'Expensive'), \n",
    "    else_='Everyday')\n",
    "\n",
    "with rollback(con), logs():\n",
    "    con.execute(Products.insert(), { 'name': 'cake'})\n",
    "    for row in con.execute(sa.select(Products, case.label('remark'))):\n",
    "        print(row.id, row.name, row.remark)"
   ]
  },
  {
   "cell_type": "markdown",
   "id": "4d32ea12-8d01-4ccc-82df-4e87fb08caa2",
   "metadata": {
    "editable": true,
    "jp-MarkdownHeadingCollapsed": true,
    "slideshow": {
     "slide_type": ""
    },
    "tags": [
     "Extract"
    ]
   },
   "source": [
    "# Extract\n",
    "\n",
    "https://docs.sqlalchemy.org/en/20/core/sqlelement.html#sqlalchemy.sql.expression.extract"
   ]
  },
  {
   "cell_type": "markdown",
   "id": "8fa49306-06c7-45ad-92b2-552c31044ed7",
   "metadata": {
    "editable": true,
    "slideshow": {
     "slide_type": ""
    },
    "tags": [
     "Order By"
    ]
   },
   "source": [
    "# Order By\n"
   ]
  },
  {
   "cell_type": "code",
   "execution_count": null,
   "id": "33c496d7-e6a8-436d-a0e2-99d57b787eac",
   "metadata": {
    "editable": true,
    "slideshow": {
     "slide_type": ""
    },
    "tags": []
   },
   "outputs": [],
   "source": [
    "query = sa.select(Customers).order_by(Customers.c.id.asc())\n",
    "\n",
    "print(query)\n",
    "\n",
    "# nulls_first\n",
    "# asc(...), desc(...)"
   ]
  },
  {
   "cell_type": "code",
   "execution_count": null,
   "id": "a74080bf-54ee-4bc6-be4a-3982c8586833",
   "metadata": {},
   "outputs": [],
   "source": [
    "query = sa.select(Customers).order_by(Customers.c.name.asc().nulls_first())\n",
    "\n",
    "print(query)\n",
    "\n",
    "# nulls_first\n",
    "# asc(...), desc(...)"
   ]
  },
  {
   "cell_type": "code",
   "execution_count": null,
   "id": "c0b22b11-de24-432a-950e-0f43b9d3a6e2",
   "metadata": {},
   "outputs": [],
   "source": [
    "print(sa.select(Customers).where(Customers.c.name.contains('xyz')))"
   ]
  },
  {
   "cell_type": "markdown",
   "id": "b6ce6f35-179c-4713-aa4c-b794f80c6f1a",
   "metadata": {
    "editable": true,
    "slideshow": {
     "slide_type": ""
    },
    "tags": [
     "Group By"
    ]
   },
   "source": [
    "# Group By"
   ]
  },
  {
   "cell_type": "code",
   "execution_count": null,
   "id": "3135d419-026b-4e39-b6d7-203306b5cd2f",
   "metadata": {
    "editable": true,
    "slideshow": {
     "slide_type": ""
    },
    "tags": []
   },
   "outputs": [],
   "source": [
    "query = sa.select(\n",
    "        sa.func.count(Customers.c.id).label('my_count')\n",
    "    ).group_by(Customers.c.name)\n",
    "\n",
    "print(query)"
   ]
  },
  {
   "cell_type": "markdown",
   "id": "77b34725-c6e0-4a17-97d0-ac134b974633",
   "metadata": {
    "editable": true,
    "slideshow": {
     "slide_type": ""
    },
    "tags": [
     "Join",
     "Right Join"
    ]
   },
   "source": [
    "# Joins\n",
    "\n",
    "Many SQL Dialects provide their own shorthands for certain operations.<br>\n",
    "Remember that when debugging queries.\n",
    "\n",
    "Additionally, the `RIGHT JOIN` does not exist in SQLAlchemy.<br>\n",
    "Most SQLAlchemy developers will just tell you to reverse the position of the operands so a `LEFT JOIN` can be used instead.\n",
    "\n",
    "Developers can build their 'select' statments without defining the join statement beforehand.<br>\n",
    "This allows for statments to be written a bit more similar to regular SQL."
   ]
  },
  {
   "cell_type": "markdown",
   "id": "6bfc0575-8c03-4523-8074-7967a9a576cd",
   "metadata": {
    "editable": true,
    "slideshow": {
     "slide_type": ""
    },
    "tags": [
     "Join",
     "Inner Join"
    ]
   },
   "source": [
    "## Inner Join\n",
    "The Inner Join is the overlap between two tables.<br>\n",
    "SQLAlchemy writes this as `(SELECT).join(table, expr)`.\n",
    "\n",
    "- **Table:** The tableto join with\n",
    "- **Expr:** The 'on' expression, usually a column comparison.\n",
    "\n",
    "Developers can build their 'select' statements with defining the join statement beforehand.<br>\n",
    "\n",
    "```\n",
    "query = sa.select(Customers.c['name'], Orders.c['order_id'])\n",
    "\n",
    "```\n",
    "\n",
    "**Remember:** `JOIN` and `INNER JOIN` are the same thing.\n"
   ]
  },
  {
   "cell_type": "code",
   "execution_count": null,
   "id": "7a424e48-34de-44fb-854b-cb169b133b69",
   "metadata": {},
   "outputs": [],
   "source": [
    "query = sa.select(\n",
    "    Customers.c['name'], \n",
    "    Orders.c['id'].label('order_id')\n",
    ")\n",
    "query = query.join(Customers, Customers.c['id'] == Orders.c['id'])\n",
    "print(str(query))"
   ]
  },
  {
   "cell_type": "code",
   "execution_count": null,
   "id": "4e406dd7-11fa-4773-a14d-6cd63fd8e70e",
   "metadata": {},
   "outputs": [],
   "source": [
    "query = (\n",
    "    Orders.select()\n",
    "    .join(Customers, Customers.c['id'] == Orders.c['customer_id'])\n",
    ")\n",
    "with logs(), con.begin():\n",
    "    for row in con.execute(query):\n",
    "        print(row)"
   ]
  },
  {
   "cell_type": "markdown",
   "id": "cbb181e6-5c2e-4ca0-8e07-4fc50e772663",
   "metadata": {
    "editable": true,
    "slideshow": {
     "slide_type": ""
    },
    "tags": [
     "Left Join",
     "Join"
    ]
   },
   "source": [
    "## Left Join\n",
    "\n",
    "The Left Outer Join effectively extends the data of a table with that of another.<br>\n",
    "The syntax is similar to a regular join: `join(table, expr, isouter=True)`\n",
    "\n",
    "**Remember:** `LEFT JOIN` and `LEFT OUTER JOIN` are the same thing."
   ]
  },
  {
   "cell_type": "code",
   "execution_count": null,
   "id": "8140b0e6-6166-4b81-860b-f5582862b91e",
   "metadata": {},
   "outputs": [],
   "source": [
    "query = (\n",
    "    Customers.select()\n",
    "    .join(Orders, Customers.c.id == Orders.c.customer_id, isouter=True)\n",
    ")\n",
    "with logs(), con.begin():\n",
    "    for row in con.execute(query):\n",
    "        print(row)"
   ]
  },
  {
   "cell_type": "markdown",
   "id": "e5bc6725-7298-416d-b88d-58da20f9d106",
   "metadata": {
    "editable": true,
    "slideshow": {
     "slide_type": ""
    },
    "tags": [
     "Outer Join",
     "Join"
    ]
   },
   "source": [
    "## Outer Join\n",
    "`FULL OUTER JOIN` and `OUTER JOIN` are the same thing.\n",
    "\n",
    "`Expression.join(table, expr, full=True, isouter=True)`<br>\n",
    "`Expression.outerjoin(table)`"
   ]
  },
  {
   "cell_type": "code",
   "execution_count": null,
   "id": "2ff52c1a-56b6-43ec-9127-ac822706274e",
   "metadata": {},
   "outputs": [],
   "source": [
    "query = (\n",
    "    sa.Select(Customers, Orders)\n",
    "    .join(Customers, Customers.c['id'] == Orders.c['customer_id'], full=True, isouter=True)\n",
    ")\n",
    "with logs(), con.begin():\n",
    "    for row in con.execute(query):\n",
    "        print(row)"
   ]
  },
  {
   "cell_type": "markdown",
   "id": "ea0b8b23-86d2-4a35-9e53-9a121cb494c6",
   "metadata": {
    "editable": true,
    "slideshow": {
     "slide_type": ""
    },
    "tags": []
   },
   "source": [
    "## Cross Join / Cartesian Product\n",
    "Allegedly ``join(table, sa.literal(True))`` or ``(Tbl1, Tbl2).all()``"
   ]
  },
  {
   "cell_type": "code",
   "execution_count": null,
   "id": "5f33895f-9c1b-4e81-8a33-399fd9c5469f",
   "metadata": {},
   "outputs": [],
   "source": []
  },
  {
   "cell_type": "markdown",
   "id": "a3f79184-0259-4e24-9d6e-3754bb6a3360",
   "metadata": {
    "editable": true,
    "slideshow": {
     "slide_type": ""
    },
    "tags": [
     "Union",
     "Union All"
    ]
   },
   "source": [
    "### Union\n",
    "\n",
    "Remember that `UNION ALL` allows for deduplicate records, whereas `UNION` will not."
   ]
  },
  {
   "cell_type": "code",
   "execution_count": null,
   "id": "04a5a2fd-8c04-42b5-945f-0c55e0ecb8e7",
   "metadata": {},
   "outputs": [],
   "source": [
    "query_a = sa.select(Products.columns.id.label('x')).where(Products.columns.id == 1)\n",
    "query_b = sa.select(Products.columns.id.label('x')).where(Products.columns.id == 1)\n",
    "\n",
    "with logs(), con.begin():\n",
    "    for product in con.execute(sa.union_all(query_a, query_b)).all():\n",
    "        print(product)"
   ]
  },
  {
   "cell_type": "markdown",
   "id": "e728cdea-e1cd-4f43-adb9-c64b85493bc5",
   "metadata": {
    "editable": true,
    "slideshow": {
     "slide_type": ""
    },
    "tags": [
     "Except",
     "Intersect"
    ]
   },
   "source": [
    "# Except / Intersect\n",
    "The `except` and `intersect` clauses can be used reduce the results of a selection.<br>\n",
    "The syntax is the same as the UNION syntax, and follows the same rules:\n",
    "1. The number of columns must be the same.\n",
    "2. Columns must be of the same type\n",
    "\n",
    "- [Microsoft SQL](https://learn.microsoft.com/en-us/sql/t-sql/language-elements/set-operators-except-and-intersect-transact-sql?view=sql-server-ver16)\n",
    "- [SQLite](https://www.sqlite.org/lang_select.html)\n",
    "- [SQLAlchemy](https://docs.sqlalchemy.org/en/20/core/selectable.html#sqlalchemy.sql.expression.except_)\n",
    "\n",
    "In short:\n",
    "\n",
    "`<A> EXCEPT <B>` will take the result of A and remove entries also found in B.\n",
    "\n",
    "`<A> INTERSECT <B>` will take the result of A and remove entries not found in B.\n",
    "\n",
    "In SQLAlchemy, these two are not written exactly the same:\n",
    "\n",
    "The `except` clause comes with an underscore at the end, while `intersect` does not.\n",
    " \n",
    "\n",
    " "
   ]
  },
  {
   "cell_type": "code",
   "execution_count": null,
   "id": "460500a1-33a1-457b-9031-7d766900544e",
   "metadata": {},
   "outputs": [],
   "source": [
    "with logs(), con.begin():\n",
    "    A = sa.select(Products.c.id)\n",
    "    B = sa.select(Products.c.id).where(Products.c.id > 3)\n",
    "    query = A.except_(B)\n",
    "    for product in con.execute(query):\n",
    "        print(product)"
   ]
  },
  {
   "cell_type": "markdown",
   "id": "b10b8781-646e-4c4d-a67a-08475a123ea6",
   "metadata": {
    "editable": true,
    "slideshow": {
     "slide_type": ""
    },
    "tags": [
     "Subquery"
    ]
   },
   "source": [
    "# Subquery\n",
    "Not to be confused with Common Table Expressions and IN (...) expressions.<br>\n",
    "When needing to select columns from another select statement, consider it a subquery.<br>\n",
    "Subqueries can be given a name for clarity, or will be called `anon_*` be default.\n",
    "\n",
    "When a subquery has been made, treat it like any regular table.\n",
    "The columns can be accessed via `.c` or `.columns`.\n"
   ]
  },
  {
   "cell_type": "code",
   "execution_count": null,
   "id": "853bef42-6cd8-413c-a9e4-b3b3e6dcf8a0",
   "metadata": {},
   "outputs": [],
   "source": [
    "highest_id = sa.func.max(Customers.c.id).label('maxed')\n",
    "sub = sa.select(highest_id).subquery(name='x')\n",
    "query = sa.select(sub.c.maxed)\n",
    "\n",
    "with logs(), con.begin():\n",
    "    result = con.execute(query)\n",
    "    for row in result:\n",
    "        print(row)"
   ]
  },
  {
   "cell_type": "markdown",
   "id": "6de75d54-3d15-4320-866d-139497fa30b7",
   "metadata": {
    "editable": true,
    "slideshow": {
     "slide_type": ""
    },
    "tags": [
     "Having"
    ]
   },
   "source": [
    "# Having\n",
    "The 'having' clause is often used to filter after a group by.<br>\n",
    "\"select customers having at least 20 orders.\"\n",
    "\n",
    "These are often calculated columns.\n"
   ]
  },
  {
   "cell_type": "code",
   "execution_count": null,
   "id": "ba1534ce-15a7-4a1a-a1a0-057b7b468e67",
   "metadata": {},
   "outputs": [],
   "source": [
    "order_count = sa.func.count(Orders.c.id).label('order_count')\n",
    "\n",
    "query = (\n",
    "    sa.select(Customers, order_count)\n",
    "    .join(Orders, Orders.c.customer_id == Customers.c.id)\n",
    "    .group_by(Customers.c.id)\n",
    "    .having(order_count > 5)\n",
    ")\n",
    "\n",
    "with rollback(con):\n",
    "    customer_id = con.execute(sa.insert(Customers), {'id': 9, 'name': 'Jack'}).inserted_primary_key[0]\n",
    "    for i in range(8):\n",
    "        con.execute(sa.Insert(Orders), {'customer_id': customer_id})\n",
    "    \n",
    "    with logs():\n",
    "        for row in con.execute(query).mappings():\n",
    "            print(row)\n"
   ]
  },
  {
   "cell_type": "code",
   "execution_count": null,
   "id": "c4d5f04d-66f5-4523-9e3d-d959a7770861",
   "metadata": {},
   "outputs": [],
   "source": [
    "# Window"
   ]
  },
  {
   "cell_type": "code",
   "execution_count": null,
   "id": "e3017b9d-2918-43fe-b3fe-cd9e2a1cb478",
   "metadata": {},
   "outputs": [],
   "source": [
    "# UNION (ALL)"
   ]
  },
  {
   "cell_type": "code",
   "execution_count": null,
   "id": "301e596a-51b0-4298-b1e0-a331bd183064",
   "metadata": {},
   "outputs": [],
   "source": [
    "\n",
    "\n",
    "# WITH (expr) -> Common Table Expression (cte)"
   ]
  },
  {
   "cell_type": "markdown",
   "id": "358c9604-a0d1-4431-b654-b235486bfcbe",
   "metadata": {
    "editable": true,
    "slideshow": {
     "slide_type": ""
    },
    "tags": [
     "Streaming"
    ]
   },
   "source": [
    "# Streaming"
   ]
  },
  {
   "cell_type": "code",
   "execution_count": null,
   "id": "08225b02-e08e-42d8-ac99-d74417591d75",
   "metadata": {},
   "outputs": [],
   "source": [
    "# yield_per"
   ]
  },
  {
   "cell_type": "markdown",
   "id": "13c1cd93-c740-478e-8ebb-8724c2e3195b",
   "metadata": {
    "editable": true,
    "slideshow": {
     "slide_type": ""
    },
    "tags": [
     "With Hint"
    ]
   },
   "source": [
    "# With Hint\n"
   ]
  },
  {
   "cell_type": "code",
   "execution_count": null,
   "id": "5462a356-3215-4ba0-84cc-8308a652aa44",
   "metadata": {},
   "outputs": [],
   "source": [
    "from sqlalchemy.dialects import mssql, sqlite\n",
    "\n",
    "query = sa.select(Products)\n",
    "query = query.with_hint(Products, text='WITH(NOLOCK)', dialect_name='mssql')\n",
    "print('Microsoft SQL Server:')\n",
    "print(str(query.compile(dialect=mssql.dialect())).replace('\\n', ''))\n",
    "print('SQLite:')\n",
    "print(str(query.compile(dialect=sqlite.dialect())).replace('\\n', ''))\n"
   ]
  },
  {
   "cell_type": "markdown",
   "id": "aa33ae24-f1dd-4eb7-98a4-39af71585a1d",
   "metadata": {
    "editable": true,
    "slideshow": {
     "slide_type": ""
    },
    "tags": [
     "Row Number",
     "Partition By"
    ]
   },
   "source": [
    "# Row Number over Partition By\n"
   ]
  },
  {
   "cell_type": "code",
   "execution_count": null,
   "id": "23d0b408-4f35-409b-8636-efbd7aeff0f6",
   "metadata": {},
   "outputs": [],
   "source": [
    "query = sa.select(\n",
    "            Products.c.name,\n",
    "            sa.func.row_number().over(partition_by=Products.c.id, order_by=Products.c.name).label('X')\n",
    ")\n",
    "\n",
    "print(query)\n",
    "with con.begin():\n",
    "    for row in con.execute(query).mappings():\n",
    "        print(row)"
   ]
  },
  {
   "cell_type": "markdown",
   "id": "0fb821dd-be0b-4fb2-8bef-46d1ec08dcba",
   "metadata": {
    "editable": true,
    "slideshow": {
     "slide_type": ""
    },
    "tags": []
   },
   "source": [
    "# Alchemy: Text\n",
    "\n",
    "The 'text' system \n",
    "\n",
    "The `op` method can be used for custom **op**erations.<br>\n",
    "Using `op` often implies a dialect specific feature isn't available in SQLALchemy's implementation of the dialect.<br>\n",
    "In turn, SQLAlchemy will not immediately validate it and will *try* to accept it as-is.\n",
    "\n",
    "For example, a raw 'IN' syntax can be permformed like this:"
   ]
  },
  {
   "cell_type": "code",
   "execution_count": null,
   "id": "bbc5be8f-4e5e-40df-be6d-dbf9f20d6864",
   "metadata": {},
   "outputs": [],
   "source": [
    "all_ids = sa.text('(1,2,3,4)')\n",
    "query = sa.select(Customers).where(Customers.c.id.op('IN')(all_ids))\n",
    "with logs(), con.begin():\n",
    "    con.execute(query)"
   ]
  },
  {
   "cell_type": "markdown",
   "id": "90d00648-d197-44eb-af7d-a40a2e678eee",
   "metadata": {},
   "source": [
    "The content of `sa.text` could be replaced with anything, like a pythonic `sa.text(\"range(1,10)\")`.<br>\n",
    "It is not supported by SQLite, and it will error on server-side execution (instead of client-side validation)."
   ]
  },
  {
   "cell_type": "code",
   "execution_count": null,
   "id": "7fa9fb4d-2472-47f8-bf50-ef74147e90c4",
   "metadata": {},
   "outputs": [],
   "source": [
    "print(str(sa.text('xyz as abc')))"
   ]
  }
 ],
 "metadata": {
  "kernelspec": {
   "display_name": "Python 3 (ipykernel)",
   "language": "python",
   "name": "python3"
  },
  "language_info": {
   "codemirror_mode": {
    "name": "ipython",
    "version": 3
   },
   "file_extension": ".py",
   "mimetype": "text/x-python",
   "name": "python",
   "nbconvert_exporter": "python",
   "pygments_lexer": "ipython3",
   "version": "3.12.0"
  }
 },
 "nbformat": 4,
 "nbformat_minor": 5
}
