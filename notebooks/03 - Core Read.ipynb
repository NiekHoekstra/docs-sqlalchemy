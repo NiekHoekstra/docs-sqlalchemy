{
 "cells": [
  {
   "cell_type": "markdown",
   "id": "7b62d62f-6792-4ec9-b518-7873faa33283",
   "metadata": {},
   "source": [
    "# Core Read\n",
    "\n",
    "This Notebook focuses on the process of selecting data.\n",
    "\n",
    "Column transformations are found in \"10 - Column Transformations\"\n",
    "\n",
    "The following topics are covered:\n",
    "- Joins\n",
    "- Subquery\n",
    "- Group By\n",
    "- Having\n",
    "- Streaming\n",
    "- With Hint\n",
    "\n",
    "\n",
    "Further Reading:\n",
    "- [SELECT syntax](https://www.sqlite.org/lang_select.html) by SQLite\n",
    "- [\"Using SELECT Statements\"](https://docs.sqlalchemy.org/en/20/tutorial/data_select.html) by SQLAlchemy\n",
    "- [\"SQL Statements and Expressions API\"](https://docs.sqlalchemy.org/en/20/core/expression_api.html) by SQLAlchemy"
   ]
  },
  {
   "cell_type": "markdown",
   "id": "e37ea9de-8a74-41f9-9bf1-cafc4dc02111",
   "metadata": {},
   "source": [
    "## Tables\n",
    "- Product\n",
    "- Customer\n",
    "- Order\n",
    "- Orderline"
   ]
  },
  {
   "cell_type": "code",
   "execution_count": null,
   "id": "ce551fd5-ac8a-4f64-b11c-4fac70994c52",
   "metadata": {},
   "outputs": [],
   "source": [
    "import sqlalchemy as sa\n",
    "from utils import *\n",
    "\n",
    "base = sa.MetaData()\n",
    "Products = sa.Table('products', base, \n",
    "                        sa.Column('id', sa.INTEGER, primary_key=True, autoincrement=True),\n",
    "                        sa.Column('name', sa.VARCHAR(255), nullable=False, index=True),\n",
    "                        sa.Column('price', sa.DOUBLE, nullable=True)\n",
    "                    )\n",
    "\n",
    "Customers = sa.Table('customers', base, \n",
    "                        sa.Column('id', sa.INTEGER, primary_key=True, autoincrement=True),\n",
    "                        sa.Column('name', sa.VARCHAR(255)),\n",
    "                    )\n",
    "\n",
    "Orders = sa.Table('orders', base, \n",
    "                        sa.Column('id', sa.INTEGER, primary_key=True, autoincrement=True),\n",
    "                        sa.Column('customer_id', sa.INTEGER, sa.ForeignKey(Products.c['id']), nullable=False)\n",
    "                 )\n",
    "\n",
    "OrderLines = sa.Table('orderlines', base, \n",
    "                        sa.Column('order_id', sa.INTEGER, sa.ForeignKey(Orders.c['id'],  ondelete='CASCADE'), nullable=False),\n",
    "                        sa.Column('product_id', sa.INTEGER, sa.ForeignKey(Products.c['id']), nullable=False),\n",
    "                        sa.Column('quantity', sa.DOUBLE, nullable=False),\n",
    "                      # order_id and product_id should be unique (as a pair).\n",
    "                        sa.PrimaryKeyConstraint('order_id', 'product_id'),\n",
    "                     )"
   ]
  },
  {
   "cell_type": "code",
   "execution_count": null,
   "id": "496f79f6-2d11-4795-8290-6686b8072bdf",
   "metadata": {},
   "outputs": [],
   "source": [
    "engine = sa.create_engine('sqlite:///')\n",
    "con = engine.connect()\n",
    "base.create_all(engine)"
   ]
  },
  {
   "cell_type": "code",
   "execution_count": null,
   "id": "16bae834-43b2-4dff-9654-1c336c11903b",
   "metadata": {},
   "outputs": [],
   "source": [
    "print(repr(Customers.c.name))\n",
    "print(repr(Customers.c['name']))\n",
    "print(repr(Customers.columns.name))\n",
    "print(repr(Customers.columns['name']))"
   ]
  },
  {
   "cell_type": "markdown",
   "id": "d06c4746-fb67-4508-bedc-6c4cf2a19295",
   "metadata": {},
   "source": [
    "## Data\n",
    "Add a little bit of starting data."
   ]
  },
  {
   "cell_type": "code",
   "execution_count": null,
   "id": "c8a377fe-676e-4246-a1e0-e037733f9988",
   "metadata": {},
   "outputs": [],
   "source": [
    "with con.begin():\n",
    "    con.execute(Customers.insert(), [{'name': 'Alice'}, {'name': 'Bob'}])\n",
    "    con.execute(Products.insert(), [{'name': 'Cookie', 'price': 1}, { 'name': 'Ice Cream', 'price': 2}])"
   ]
  },
  {
   "cell_type": "code",
   "execution_count": null,
   "id": "ce387222-5673-41cc-9b36-067f956db2b2",
   "metadata": {},
   "outputs": [],
   "source": [
    "with con.begin() as t:\n",
    "    result = con.execute(Orders.insert(), {'customer_id': 1})\n",
    "    order_id = result.inserted_primary_key[0]\n",
    "    result = con.execute(OrderLines.insert(), [{'order_id': order_id, 'product_id': 1, 'quantity': 1}])"
   ]
  },
  {
   "cell_type": "markdown",
   "id": "99877f65-52e2-4eac-a6a3-69aec9684f04",
   "metadata": {},
   "source": [
    "# Basic Select"
   ]
  },
  {
   "cell_type": "code",
   "execution_count": null,
   "id": "a3c0f58a-af99-478d-a8a3-ecaaa65c69c8",
   "metadata": {},
   "outputs": [],
   "source": [
    "# Select All columns\n",
    "print('\\n--- A ---')\n",
    "print(Customers.select())\n",
    "\n",
    "print('\\n--- B ---')\n",
    "print(sa.select(Customers))\n",
    "\n",
    "# Select 1 column\n",
    "print('\\n--- C ---')\n",
    "print( sa.select( Customers.c['id']))"
   ]
  },
  {
   "cell_type": "markdown",
   "id": "6b0e618e-2c12-4562-adbb-917e516247f5",
   "metadata": {},
   "source": [
    "# Where"
   ]
  },
  {
   "cell_type": "code",
   "execution_count": null,
   "id": "61ccbcea-e28a-44eb-9907-76f248838396",
   "metadata": {},
   "outputs": [],
   "source": [
    "query = (\n",
    "    sa.select(Customers)\n",
    "    .where(\n",
    "        # default .where has an implied 'AND'\n",
    "        Customers.c['id'] == 0, \n",
    "        Customers.c['name'] == 'DoesNotExist'\n",
    "    )\n",
    ")\n",
    "print(query)\n",
    "print('--- SQL start ---')\n",
    "with logs(), con.begin():\n",
    "    for row in con.execute(query):\n",
    "        print('row:', row)\n",
    "print('--- SQL end ---')"
   ]
  },
  {
   "cell_type": "markdown",
   "id": "e3d29614-65ba-4e3b-b652-0feb279377dc",
   "metadata": {},
   "source": [
    "## Logical operators\n",
    "\n",
    "A lot of expression can be combined.\n",
    "\n",
    "Operation | Functional | Operator\n",
    "---|---|---\n",
    "OR | or_(a, b) | a \\| b \n",
    "AND | and_(a,b) | a & b\n",
    "NOT | not_(a) | ~a\n",
    "IS NULL | a.is_(None) | -\n",
    "IS NOT NULL | a.is_not(None) | -\n",
    "Contains | a.in_(tuple_or_expr) | -\n",
    "Any | any_(a, b, c) | -\n"
   ]
  },
  {
   "cell_type": "code",
   "execution_count": null,
   "id": "4e1993db-e4a6-4db9-a564-f3fc2e0d7c6e",
   "metadata": {},
   "outputs": [],
   "source": [
    "# OR\n",
    "or_1 = (Customers.c['id'] == 0) | (Customers.c['name'] == 'DoesNotExist')\n",
    "or_2 = sa.or_(Customers.c['id'] == 0,  Customers.c['name'] == 'DoesNotExist')\n",
    "print('1)', str(or_1))\n",
    "print('-----')\n",
    "print('2)', str(or_2))\n",
    "print('-----')\n",
    "query = (\n",
    "    sa.select(Customers)\n",
    "    .where(criteria)\n",
    ")\n",
    "print(query)\n",
    "print('--- SQL start ---')\n",
    "with logs(), con.begin():\n",
    "    for row in con.execute(query):\n",
    "        print('row:', row)\n",
    "print('--- SQL end ---')"
   ]
  },
  {
   "cell_type": "markdown",
   "id": "77b34725-c6e0-4a17-97d0-ac134b974633",
   "metadata": {},
   "source": [
    "# Joins\n",
    "\n",
    "Many SQL Dialects provide their own shorthands for certain operations.<br>\n",
    "Remember that when debugging queries.\n",
    "\n",
    "Additionally, the `RIGHT JOIN` does not exist in SQLAlchemy.<br>\n",
    "Most SQLAlchemy developers will just tell you to reverse the position of the operands so a `LEFT JOIN` can be used instead.\n",
    "\n",
    "Developers can build their 'select' statments without defining the join statement beforehand.<br>\n",
    "This allows for statments to be written a bit more similar to regular SQL."
   ]
  },
  {
   "cell_type": "markdown",
   "id": "6bfc0575-8c03-4523-8074-7967a9a576cd",
   "metadata": {},
   "source": [
    "## Inner Join\n",
    "The Inner Join is the overlap between two tables.<br>\n",
    "SQLAlchemy writes this as `(SELECT).join(table, expr)`.\n",
    "\n",
    "- **Table:** The tableto join with\n",
    "- **Expr:** The 'on' expression, usually a column comparison.\n",
    "\n",
    "Developers can build their 'select' statements with defining the join statement beforehand.<br>\n",
    "\n",
    "```\n",
    "query = sa.select(Customers.c['name'], Orders.c['order_id'])\n",
    "\n",
    "```\n",
    "\n",
    "**Remember:** `JOIN` and `INNER JOIN` are the same thing.\n"
   ]
  },
  {
   "cell_type": "code",
   "execution_count": null,
   "id": "7a424e48-34de-44fb-854b-cb169b133b69",
   "metadata": {},
   "outputs": [],
   "source": [
    "query = sa.select(\n",
    "    Customers.c['name'], \n",
    "    Orders.c['id'].label('order_id')\n",
    ")\n",
    "query = query.join(Customers, Customers.c['id'] == Orders.c['id'])\n",
    "print(str(query))"
   ]
  },
  {
   "cell_type": "code",
   "execution_count": null,
   "id": "4e406dd7-11fa-4773-a14d-6cd63fd8e70e",
   "metadata": {},
   "outputs": [],
   "source": [
    "query = (\n",
    "    Orders.select()\n",
    "    .join(Customers, Customers.c['id'] == Orders.c['customer_id'])\n",
    ")\n",
    "with logs(), con.begin():\n",
    "    for row in con.execute(q):\n",
    "        print(row)"
   ]
  },
  {
   "cell_type": "markdown",
   "id": "cbb181e6-5c2e-4ca0-8e07-4fc50e772663",
   "metadata": {},
   "source": [
    "## Left Join\n",
    "\n",
    "The Left Outer Join effectively extends the data of a table with that of another.<br>\n",
    "The syntax is similar to a regular join: `join(table, expr, isouter=True)`\n",
    "\n",
    "**Remember:** `LEFT JOIN` and `LEFT OUTER JOIN` are the same thing."
   ]
  },
  {
   "cell_type": "code",
   "execution_count": null,
   "id": "8140b0e6-6166-4b81-860b-f5582862b91e",
   "metadata": {},
   "outputs": [],
   "source": []
  },
  {
   "cell_type": "markdown",
   "id": "e5bc6725-7298-416d-b88d-58da20f9d106",
   "metadata": {},
   "source": [
    "## Outer Join\n",
    "`FULL OUTER JOIN` and `OUTER JOIN` are the same thing.\n",
    "\n",
    "`join(table, expr, full=True, isouter=True)`"
   ]
  },
  {
   "cell_type": "code",
   "execution_count": null,
   "id": "2ff52c1a-56b6-43ec-9127-ac822706274e",
   "metadata": {},
   "outputs": [],
   "source": []
  },
  {
   "cell_type": "markdown",
   "id": "ea0b8b23-86d2-4a35-9e53-9a121cb494c6",
   "metadata": {},
   "source": [
    "## Cross Join / Cartesian Product\n",
    "Allegedly ``join(table, sa.literal(True))`` or ``(Tbl1, Tbl2).all()``"
   ]
  },
  {
   "cell_type": "code",
   "execution_count": null,
   "id": "460500a1-33a1-457b-9031-7d766900544e",
   "metadata": {},
   "outputs": [],
   "source": []
  },
  {
   "cell_type": "markdown",
   "id": "b10b8781-646e-4c4d-a67a-08475a123ea6",
   "metadata": {},
   "source": [
    "# Subquery"
   ]
  },
  {
   "cell_type": "code",
   "execution_count": null,
   "id": "853bef42-6cd8-413c-a9e4-b3b3e6dcf8a0",
   "metadata": {},
   "outputs": [],
   "source": []
  },
  {
   "cell_type": "markdown",
   "id": "b6ce6f35-179c-4713-aa4c-b794f80c6f1a",
   "metadata": {},
   "source": [
    "# Group By"
   ]
  },
  {
   "cell_type": "code",
   "execution_count": null,
   "id": "3135d419-026b-4e39-b6d7-203306b5cd2f",
   "metadata": {},
   "outputs": [],
   "source": [
    "query = sa.select(\n",
    "        sa.func.count(Customers.c['id']).label('my_count')\n",
    "    ).group_by(Customers.c['name'])\n",
    "\n",
    "print(query)"
   ]
  },
  {
   "cell_type": "markdown",
   "id": "6de75d54-3d15-4320-866d-139497fa30b7",
   "metadata": {},
   "source": [
    "# Having"
   ]
  },
  {
   "cell_type": "code",
   "execution_count": null,
   "id": "ba1534ce-15a7-4a1a-a1a0-057b7b468e67",
   "metadata": {},
   "outputs": [],
   "source": []
  },
  {
   "cell_type": "code",
   "execution_count": null,
   "id": "c4d5f04d-66f5-4523-9e3d-d959a7770861",
   "metadata": {},
   "outputs": [],
   "source": [
    "# Window"
   ]
  },
  {
   "cell_type": "code",
   "execution_count": null,
   "id": "e3017b9d-2918-43fe-b3fe-cd9e2a1cb478",
   "metadata": {},
   "outputs": [],
   "source": [
    "# UNION (ALL)"
   ]
  },
  {
   "cell_type": "code",
   "execution_count": null,
   "id": "301e596a-51b0-4298-b1e0-a331bd183064",
   "metadata": {},
   "outputs": [],
   "source": [
    "# INTERSECT ?#\n",
    "# EXCEPT ? https://www.sqlite.org/lang_select.html\n",
    "# https://docs.sqlalchemy.org/en/20/core/selectable.html\n",
    "\n",
    "# WITH (expr) -> Common Table Expression (cte)"
   ]
  },
  {
   "cell_type": "markdown",
   "id": "358c9604-a0d1-4431-b654-b235486bfcbe",
   "metadata": {},
   "source": [
    "# Streaming"
   ]
  },
  {
   "cell_type": "code",
   "execution_count": null,
   "id": "08225b02-e08e-42d8-ac99-d74417591d75",
   "metadata": {},
   "outputs": [],
   "source": [
    "# yield_per"
   ]
  },
  {
   "cell_type": "markdown",
   "id": "13c1cd93-c740-478e-8ebb-8724c2e3195b",
   "metadata": {},
   "source": [
    "# With Hint\n"
   ]
  },
  {
   "cell_type": "code",
   "execution_count": null,
   "id": "5462a356-3215-4ba0-84cc-8308a652aa44",
   "metadata": {},
   "outputs": [],
   "source": [
    "from sqlalchemy.dialects import mssql, sqlite\n",
    "\n",
    "query = sa.select(Products)\n",
    "query = query.with_hint(Products, text='WITH(NOLOCK)', dialect_name='mssql')\n",
    "print('Microsoft SQL Server:')\n",
    "print(str(query.compile(dialect=mssql.dialect())).replace('\\n', ''))\n",
    "print('SQLite:')\n",
    "print(str(query.compile(dialect=sqlite.dialect())).replace('\\n', ''))\n"
   ]
  }
 ],
 "metadata": {
  "kernelspec": {
   "display_name": "Python 3 (ipykernel)",
   "language": "python",
   "name": "python3"
  },
  "language_info": {
   "codemirror_mode": {
    "name": "ipython",
    "version": 3
   },
   "file_extension": ".py",
   "mimetype": "text/x-python",
   "name": "python",
   "nbconvert_exporter": "python",
   "pygments_lexer": "ipython3",
   "version": "3.12.0"
  }
 },
 "nbformat": 4,
 "nbformat_minor": 5
}
