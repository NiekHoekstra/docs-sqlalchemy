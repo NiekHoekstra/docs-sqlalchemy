{
 "cells": [
  {
   "cell_type": "markdown",
   "id": "2d9a0746-0f45-4edf-aba1-908e23ea77aa",
   "metadata": {
    "editable": true,
    "slideshow": {
     "slide_type": ""
    },
    "tags": []
   },
   "source": [
    "# Core Update\n",
    "\n",
    "This Notebook focuses on the process of modifying data.\n",
    "\n",
    "The following topics are covered:\n",
    "- Values\n",
    "- Returning\n",
    "- Update ... From\n",
    "\n",
    "\n",
    "Further Reading:\n",
    "- [UPDATE syntax](https://www.sqlite.org/lang_update.html) by SQLite\n",
    "- [\"Using UPDATE and DELETE Statements\"](https://docs.sqlalchemy.org/en/20/tutorial/data_update.html) by SQLAlchemy"
   ]
  },
  {
   "cell_type": "markdown",
   "id": "0aec67b3-ce21-4fb6-9bc4-19a18104afbb",
   "metadata": {},
   "source": [
    "# Setup"
   ]
  },
  {
   "cell_type": "code",
   "execution_count": null,
   "id": "01384a71-c79b-46fa-bfb8-5c1c47b19eb9",
   "metadata": {},
   "outputs": [],
   "source": [
    "import sqlalchemy as sa\n",
    "from utils import *\n",
    "\n",
    "base = sa.MetaData()\n",
    "Products = sa.Table(\n",
    "    'products',\n",
    "    base,\n",
    "    sa.Column('id', sa.INTEGER, primary_key=True, autoincrement=True),\n",
    "    sa.Column('name', sa.VARCHAR(255), nullable=False, index=True),\n",
    "    sa.Column('price', sa.DOUBLE, nullable=True),\n",
    "    sa.Column('extra', sa.DOUBLE, nullable=True)\n",
    ")\n",
    "Staging = sa.Table(\n",
    "    'staging',\n",
    "    base,\n",
    "    sa.Column('id', sa.INTEGER, primary_key=True, autoincrement=False), # -- False\n",
    "    sa.Column('name', sa.VARCHAR(255), nullable=False, index=True),\n",
    "    sa.Column('price', sa.DOUBLE, nullable=True),\n",
    "    sa.Column('extra', sa.DOUBLE, nullable=True)\n",
    ")\n",
    "\n",
    "engine = sa.create_engine('sqlite:///')\n",
    "con = engine.connect()\n",
    "base.create_all(engine)"
   ]
  },
  {
   "cell_type": "markdown",
   "id": "cba706ca-f58b-4ae0-bafb-cb4b34b13d32",
   "metadata": {},
   "source": [
    "# Basic Update"
   ]
  },
  {
   "cell_type": "code",
   "execution_count": null,
   "id": "f08f79f6-565b-483c-8041-f3fbc0f523dd",
   "metadata": {},
   "outputs": [],
   "source": [
    "with con.begin() as t:\n",
    "    print('-- Inserting records --')\n",
    "    con.execute(Products.insert(), [{'name': 'Apple'}, {'name': 'Android'}])\n",
    "    for r in con.execute(Products.select()).mappings():\n",
    "        print(r)\n",
    "\n",
    "    print('\\n-- Updating records (Android) --')\n",
    "    result = con.execute(Products.update().values(price=400).where(Products.c.name=='Android'))\n",
    "    print(f'{result.rowcount} row(s) affected.')\n",
    "    for r in con.execute(Products.select()).mappings():\n",
    "        print(r)\n",
    "    print('\\n-- Updating records (Extra) --')\n",
    "    with logs():\n",
    "        con.execute(Products.update().values(extra=Products.c.price).values(price=80))\n",
    "    print('---')\n",
    "    for r in con.execute(Products.select()).mappings():\n",
    "        print(r)\n",
    "    t.rollback()"
   ]
  },
  {
   "cell_type": "markdown",
   "id": "cea8a46c-0679-45b2-a525-566b72bc53f3",
   "metadata": {
    "editable": true,
    "slideshow": {
     "slide_type": ""
    },
    "tags": []
   },
   "source": [
    "# Values\n",
    "\n",
    "Products.insert().values(column=value)\n",
    "\n",
    "The `values()` method can be repeated, with each call adding columns and values to the query.<br>\n",
    "When a column is already part of the update statement, the old value is overwritten.\n"
   ]
  },
  {
   "cell_type": "code",
   "execution_count": null,
   "id": "cb3c6dce-08f9-4193-a41b-4eaf9535bd86",
   "metadata": {},
   "outputs": [],
   "source": []
  },
  {
   "cell_type": "markdown",
   "id": "e4f015e4-7bf1-41f1-9d1f-c0bb166749e8",
   "metadata": {},
   "source": [
    "## A bit more rigid\n"
   ]
  },
  {
   "cell_type": "code",
   "execution_count": null,
   "id": "dd3f0d8a-597c-4677-831b-eb78ac3fa32c",
   "metadata": {},
   "outputs": [],
   "source": [
    "with rollback(con), logs():\n",
    "    _price = Products.c.price.key\n",
    "    data = {_price:400}\n",
    "    print('\\n-- Updating records (Android) --')\n",
    "    \n",
    "    result = con.execute(Products.update().values(name='Apple').values(data).values(name='XYZ').where(Products.c.name=='Android'))"
   ]
  },
  {
   "cell_type": "markdown",
   "id": "418741b0-c952-4607-bfa1-d8290737757e",
   "metadata": {},
   "source": [
    "# Returning\n"
   ]
  },
  {
   "cell_type": "code",
   "execution_count": null,
   "id": "ef6fe160-1209-408d-b57b-b5ffc6c5a2ea",
   "metadata": {},
   "outputs": [],
   "source": []
  },
  {
   "cell_type": "markdown",
   "id": "9d43ae95-b97b-4209-8bbf-e310d9a2ef8d",
   "metadata": {
    "editable": true,
    "slideshow": {
     "slide_type": ""
    },
    "tags": [
     "Update-From"
    ]
   },
   "source": [
    "# Update From\n",
    "Most DBMS support updating with some sort of join in it.<br>\n",
    "It is usually written as `UPDATE ... FROM`.<br>\n",
    "Traditionally, this would us a subquery, but Update-From is becoming commonplace.\n",
    "\n",
    "- [Update From at SQLAlchemy](https://docs.sqlalchemy.org/en/20/tutorial/data_update.html#update-from)\n",
    "\n",
    "This uses a WHERE statement that effectively acts like a join.<br>\n",
    "The following query performs the following action:\n",
    "1. Create an apple.\n",
    "2. Copy it from products to Staging.\n",
    "3. Apply an uppercase transformation to all data on staging\n",
    "4. Apply the update to Products, *from* staging."
   ]
  },
  {
   "cell_type": "code",
   "execution_count": null,
   "id": "08811699-7f8b-4a42-9845-684c0d13c50b",
   "metadata": {},
   "outputs": [],
   "source": [
    "with rollback(con):\n",
    "    con.execute(sa.insert(Products), {'name': 'Apple'})\n",
    "    \n",
    "    for entry in con.execute(sa.select(Products)):\n",
    "        print(entry)\n",
    "\n",
    "    # INSERT INTO staging SELECT [...] FROM Products\n",
    "    q = (\n",
    "        sa.insert(Staging)\n",
    "        .from_select([Products.c.id, Products.c.name, Products.c.price, Products.c.extra], Products)\n",
    "    )\n",
    "    con.execute(q)\n",
    "\n",
    "    # Put the names to uppercase (in staging)\n",
    "    q = sa.update(Staging).values(name=sa.func.upper(Staging.c.name))\n",
    "    con.execute(q)\n",
    "\n",
    "    # Copy the data back to Products\n",
    "    q = sa.update(Products).where(Staging.c.id == Products.c.id).values(name=Staging.c.name)\n",
    "    with logs():\n",
    "        con.execute(q)\n",
    "    for entry in con.execute(sa.select(Products)):\n",
    "        print(entry)"
   ]
  }
 ],
 "metadata": {
  "kernelspec": {
   "display_name": "Python 3 (ipykernel)",
   "language": "python",
   "name": "python3"
  },
  "language_info": {
   "codemirror_mode": {
    "name": "ipython",
    "version": 3
   },
   "file_extension": ".py",
   "mimetype": "text/x-python",
   "name": "python",
   "nbconvert_exporter": "python",
   "pygments_lexer": "ipython3",
   "version": "3.12.0"
  }
 },
 "nbformat": 4,
 "nbformat_minor": 5
}
