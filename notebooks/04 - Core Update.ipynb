{
 "cells": [
  {
   "cell_type": "markdown",
   "id": "2d9a0746-0f45-4edf-aba1-908e23ea77aa",
   "metadata": {},
   "source": [
    "# Core Update\n",
    "\n",
    "This Notebook focuses on the process of modifying data.\n",
    "\n",
    "\n",
    "The following topics are covered:\n",
    "- Joins\n",
    "- Subquery\n",
    "- In\n",
    "\n",
    "\n",
    "Further Reading:\n",
    "- [UPDATE syntax](https://www.sqlite.org/lang_update.html) by SQLite\n",
    "- [\"Using UPDATE and DELETE Statements\"](https://docs.sqlalchemy.org/en/20/tutorial/data_update.html) by SQLAlchemy"
   ]
  },
  {
   "cell_type": "code",
   "execution_count": null,
   "id": "01384a71-c79b-46fa-bfb8-5c1c47b19eb9",
   "metadata": {},
   "outputs": [],
   "source": []
  }
 ],
 "metadata": {
  "kernelspec": {
   "display_name": "Python 3 (ipykernel)",
   "language": "python",
   "name": "python3"
  },
  "language_info": {
   "codemirror_mode": {
    "name": "ipython",
    "version": 3
   },
   "file_extension": ".py",
   "mimetype": "text/x-python",
   "name": "python",
   "nbconvert_exporter": "python",
   "pygments_lexer": "ipython3",
   "version": "3.12.0"
  }
 },
 "nbformat": 4,
 "nbformat_minor": 5
}
