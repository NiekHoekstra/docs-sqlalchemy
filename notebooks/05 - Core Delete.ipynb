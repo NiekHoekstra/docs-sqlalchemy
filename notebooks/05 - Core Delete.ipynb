{
 "cells": [
  {
   "cell_type": "markdown",
   "id": "1ac86456-4e1e-456b-a141-30a5830c1add",
   "metadata": {},
   "source": [
    "# Core Delete\n",
    "\n",
    "This Notebook focuses on the process of deleting data.\n",
    "\n",
    "\n",
    "The following topics are covered:\n",
    "- .\n",
    "- .\n",
    "\n",
    "\n",
    "Further Reading:\n",
    "- [DELETE syntax](https://www.sqlite.org/lang_delete.html) by SQLite\n",
    "- [\"Using UPDATE and DELETE Statements\"](https://docs.sqlalchemy.org/en/20/tutorial/data_update.html) by SQLAlchemy\n",
    "\n"
   ]
  },
  {
   "cell_type": "code",
   "execution_count": null,
   "id": "0ae56970-9965-4ce8-84d1-3ad123685e4c",
   "metadata": {},
   "outputs": [],
   "source": []
  }
 ],
 "metadata": {
  "kernelspec": {
   "display_name": "Python 3 (ipykernel)",
   "language": "python",
   "name": "python3"
  },
  "language_info": {
   "codemirror_mode": {
    "name": "ipython",
    "version": 3
   },
   "file_extension": ".py",
   "mimetype": "text/x-python",
   "name": "python",
   "nbconvert_exporter": "python",
   "pygments_lexer": "ipython3",
   "version": "3.12.0"
  }
 },
 "nbformat": 4,
 "nbformat_minor": 5
}
