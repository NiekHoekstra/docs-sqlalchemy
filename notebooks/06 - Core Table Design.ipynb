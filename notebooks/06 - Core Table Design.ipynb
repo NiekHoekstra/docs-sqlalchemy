{
 "cells": [
  {
   "cell_type": "markdown",
   "id": "195ac847-8673-414a-80e3-c3ede635d981",
   "metadata": {},
   "source": [
    "# Core Table Design\n",
    "\n",
    "When designing a table for an existing database, the ``create_all`` step can be skipped.<br>\n",
    "When a SQLAlchemy column does not match the Database column, it might *tolerate* it.\n",
    "\n",
    "For example:\n",
    "\n",
    "> On the Python side, the ID column is VARCHAR(255).<br>\n",
    "> On the Database side, the ID column is a UUID.\n",
    ">\n",
    "> As long as Python sends the strings in the format of a UUID, the code will work.<br>\n",
    "> When SQLAlchemy receives data in an unexpected format, it will try to convert it to string.<br>\n",
    "> This is useful when the database uses a datatype not supported by SQLAlchemy,<br>\n",
    "> but the developer can compensate for it.\n",
    "\n"
   ]
  },
  {
   "cell_type": "code",
   "execution_count": 1,
   "id": "9380cb4f-793b-4f70-a6bb-1433c6bbe4a8",
   "metadata": {},
   "outputs": [],
   "source": [
    "import sqlalchemy as sa"
   ]
  },
  {
   "cell_type": "code",
   "execution_count": null,
   "id": "17698e82-528d-4472-ab6d-53c8288cd060",
   "metadata": {},
   "outputs": [],
   "source": []
  },
  {
   "cell_type": "markdown",
   "id": "7eedc7b9-03a9-47e7-9032-23bbd5ec80eb",
   "metadata": {},
   "source": [
    "# Metadata"
   ]
  },
  {
   "cell_type": "code",
   "execution_count": null,
   "id": "40c9ce63-8cbe-4779-a898-317ecc79932d",
   "metadata": {},
   "outputs": [],
   "source": []
  },
  {
   "cell_type": "markdown",
   "id": "654454e9-a037-4f0c-8517-76e1c09cd16c",
   "metadata": {},
   "source": [
    "# Data Type"
   ]
  },
  {
   "cell_type": "code",
   "execution_count": null,
   "id": "537bf89f-3128-4f56-abbb-021c02aeddf5",
   "metadata": {},
   "outputs": [],
   "source": []
  },
  {
   "cell_type": "markdown",
   "id": "72f87682-89f8-4fff-8f19-55ba7c097438",
   "metadata": {},
   "source": []
  },
  {
   "cell_type": "code",
   "execution_count": null,
   "id": "9163caa3-30c2-4374-88d8-c02388c65b80",
   "metadata": {},
   "outputs": [],
   "source": []
  },
  {
   "cell_type": "markdown",
   "id": "063f5afe-3e35-41e3-ba65-66241545163c",
   "metadata": {},
   "source": [
    "# Server Defaults"
   ]
  },
  {
   "cell_type": "code",
   "execution_count": null,
   "id": "1e504b86-119f-4a99-9368-d44a21b6bc53",
   "metadata": {},
   "outputs": [],
   "source": []
  },
  {
   "cell_type": "markdown",
   "id": "5c00a5e1-9522-4f7a-a41d-a7da61f16b45",
   "metadata": {},
   "source": [
    "## Identity / AutoIncrement"
   ]
  },
  {
   "cell_type": "code",
   "execution_count": null,
   "id": "e447eb60-0993-4b1d-a76b-dfa697621644",
   "metadata": {},
   "outputs": [],
   "source": []
  },
  {
   "cell_type": "markdown",
   "id": "f9e5e085-ccb1-41e5-86d1-0947a1ac9a37",
   "metadata": {},
   "source": [
    "## On Insert"
   ]
  },
  {
   "cell_type": "code",
   "execution_count": null,
   "id": "70554b4b-9462-4102-bcaf-b03f1a9ee9eb",
   "metadata": {},
   "outputs": [],
   "source": []
  },
  {
   "cell_type": "markdown",
   "id": "b8dceb32-12a0-4455-867d-719c37887a50",
   "metadata": {},
   "source": [
    "## On Update"
   ]
  },
  {
   "cell_type": "code",
   "execution_count": null,
   "id": "bcd9191a-d337-4461-8d41-fd3ca9d478c7",
   "metadata": {},
   "outputs": [],
   "source": []
  },
  {
   "cell_type": "markdown",
   "id": "0e79d90b-ecb0-417c-9b8d-72ec04b13b21",
   "metadata": {},
   "source": [
    "# Constraints"
   ]
  },
  {
   "cell_type": "markdown",
   "id": "cbb260c2-d31d-48be-bc7e-846c77cd5cc0",
   "metadata": {},
   "source": [
    "## Primary Key"
   ]
  },
  {
   "cell_type": "code",
   "execution_count": null,
   "id": "4d2295ef-2540-440e-be66-0fc35db80b41",
   "metadata": {},
   "outputs": [],
   "source": []
  },
  {
   "cell_type": "code",
   "execution_count": null,
   "id": "db2f1db2-d08c-4cd0-9c41-dbcc9830113f",
   "metadata": {},
   "outputs": [],
   "source": []
  },
  {
   "cell_type": "markdown",
   "id": "a4976c56-1b16-4d19-a5f2-f1da0931f247",
   "metadata": {},
   "source": [
    "## Foreign key"
   ]
  },
  {
   "cell_type": "code",
   "execution_count": null,
   "id": "247ce970-9044-497d-b4be-1a384b15b687",
   "metadata": {},
   "outputs": [],
   "source": []
  },
  {
   "cell_type": "markdown",
   "id": "aa9839b3-d004-4f86-8812-74884ff370f9",
   "metadata": {},
   "source": [
    "## Unique"
   ]
  },
  {
   "cell_type": "code",
   "execution_count": null,
   "id": "7b3b0f25-4dc6-4764-89c3-791facdecb18",
   "metadata": {},
   "outputs": [],
   "source": []
  },
  {
   "cell_type": "code",
   "execution_count": null,
   "id": "380c5103-2bc5-4233-9769-d372de51d1b5",
   "metadata": {},
   "outputs": [],
   "source": []
  },
  {
   "cell_type": "markdown",
   "id": "5abb777b-7c26-4282-9336-7040458f5936",
   "metadata": {},
   "source": [
    "## Check "
   ]
  },
  {
   "cell_type": "code",
   "execution_count": null,
   "id": "dda42a19-8377-4791-a0b4-13633d484421",
   "metadata": {},
   "outputs": [],
   "source": []
  },
  {
   "cell_type": "markdown",
   "id": "cd98cdff-c0fb-461e-b82c-cc77a59ae496",
   "metadata": {},
   "source": [
    "## Index"
   ]
  },
  {
   "cell_type": "code",
   "execution_count": null,
   "id": "b5e6c897-2d7a-4132-8fc9-cf0f4240cb20",
   "metadata": {},
   "outputs": [],
   "source": []
  }
 ],
 "metadata": {
  "kernelspec": {
   "display_name": "Python 3 (ipykernel)",
   "language": "python",
   "name": "python3"
  },
  "language_info": {
   "codemirror_mode": {
    "name": "ipython",
    "version": 3
   },
   "file_extension": ".py",
   "mimetype": "text/x-python",
   "name": "python",
   "nbconvert_exporter": "python",
   "pygments_lexer": "ipython3",
   "version": "3.12.0"
  }
 },
 "nbformat": 4,
 "nbformat_minor": 5
}
