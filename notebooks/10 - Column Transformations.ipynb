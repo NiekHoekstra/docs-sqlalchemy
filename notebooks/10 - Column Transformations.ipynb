{
 "cells": [
  {
   "cell_type": "markdown",
   "id": "4ecafa3e-13c8-423a-8480-8c66148a93e4",
   "metadata": {},
   "source": [
    "# Columns\n",
    "\n",
    "- JSON\n",
    "- Server Default\n",
    "- DateTime\n",
    "- IN\n",
    "- String Concat"
   ]
  },
  {
   "cell_type": "code",
   "execution_count": 1,
   "id": "2a29dc92-e1e7-43e3-a2d4-80890f9cb4d1",
   "metadata": {},
   "outputs": [],
   "source": [
    "import sqlalchemy as sa\n",
    "from utils import *"
   ]
  },
  {
   "cell_type": "code",
   "execution_count": 2,
   "id": "bf55908c-1907-41af-95a5-99c5e533da7b",
   "metadata": {},
   "outputs": [],
   "source": [
    "metadata_obj = sa.MetaData()\n",
    "Products = sa.Table('products', metadata_obj, \n",
    "                sa.Column('id', sa.Integer, primary_key=True, autoincrement=True),\n",
    "                sa.Column('name', sa.VARCHAR(255), default=None, nullable=True),\n",
    "                sa.Column('meta', sa.JSON, default=None, nullable=True),\n",
    "                sa.Column('extra', sa.TEXT, default=None, nullable=True)\n",
    "    )\n"
   ]
  },
  {
   "cell_type": "code",
   "execution_count": 3,
   "id": "280cdea1-672f-45ba-8d49-551d97d1b125",
   "metadata": {},
   "outputs": [],
   "source": [
    "engine = sa.create_engine('sqlite://')\n",
    "con = engine.connect()"
   ]
  },
  {
   "cell_type": "code",
   "execution_count": 4,
   "id": "7c08ac20-b653-4f6f-a71f-e01a8e02abf3",
   "metadata": {},
   "outputs": [],
   "source": [
    "metadata_obj.create_all(con)\n",
    "if con.in_transaction():\n",
    "    con.commit()"
   ]
  },
  {
   "cell_type": "markdown",
   "id": "54ff63e1-4857-432d-9372-0cf705131a53",
   "metadata": {},
   "source": [
    "# JSON"
   ]
  },
  {
   "cell_type": "markdown",
   "id": "5e5ab7ce-6af9-4889-9af6-054e408ff239",
   "metadata": {},
   "source": [
    "\n",
    "\n",
    "    Comparator.as_string() - return the element as a string\n",
    "\n",
    "    Comparator.as_boolean() - return the element as a boolean\n",
    "\n",
    "    Comparator.as_float() - return the element as a float\n",
    "\n",
    "    Comparator.as_integer() - return the element as an integer\n"
   ]
  },
  {
   "cell_type": "code",
   "execution_count": 5,
   "id": "b58aca6a-4b5f-4fe1-bf99-c7678d909e33",
   "metadata": {},
   "outputs": [],
   "source": [
    "with con.begin() as t:\n",
    "    apple_meta = {'released': 2010}\n",
    "    pear_meta = {'released': 2020, 'details': {'cpu_cores': 4}, 'tags': ['X', 'Y']}\n",
    "    con.execute(Products.insert(), [\n",
    "        {'name': 'Apple', 'meta': apple_meta},\n",
    "        {'name': 'Pear', 'meta': pear_meta},\n",
    "    ])"
   ]
  },
  {
   "cell_type": "code",
   "execution_count": 6,
   "id": "66350cb1-499e-41cf-9f55-18de9edbc4b9",
   "metadata": {},
   "outputs": [
    {
     "name": "stdout",
     "output_type": "stream",
     "text": [
      "SELECT products.id, products.name, products.meta, products.extra \n",
      "FROM products \n",
      "WHERE JSON_EXTRACT(products.meta, ?) > ?\n",
      "[generated in 0.00099s] ('$.\"released\"', 2011)\n",
      "Pear 4\n"
     ]
    }
   ],
   "source": [
    "# Top-Level members\n",
    "with con.begin() as t, logs():\n",
    "    query = (\n",
    "        Products.select()\n",
    "        .where(\n",
    "            Products.c.meta['released'].as_integer()> 2011\n",
    "        )\n",
    "    )\n",
    "    for row in con.execute(query).mappings():\n",
    "        _meta = row['meta']\n",
    "        print(row['name'], _meta.get('details', {}).get('cpu_cores'))\n",
    "        # print('>', row,)"
   ]
  },
  {
   "cell_type": "code",
   "execution_count": 45,
   "id": "02cf529b-e26b-4f7f-9608-6a8d2bc85b66",
   "metadata": {},
   "outputs": [
    {
     "name": "stdout",
     "output_type": "stream",
     "text": [
      "<function json_getitem_op at 0x0000021BE2DB51C0>\n"
     ]
    }
   ],
   "source": [
    "print(Products.c.meta['tags'].operator)"
   ]
  },
  {
   "cell_type": "code",
   "execution_count": 11,
   "id": "dbc0ed8b-a182-421e-867e-09ae8d3b167f",
   "metadata": {},
   "outputs": [
    {
     "data": {
      "text/plain": [
       "<sqlalchemy.sql.elements.BinaryExpression object at 0x0000019C8F4F87D0>"
      ]
     },
     "execution_count": 11,
     "metadata": {},
     "output_type": "execute_result"
    }
   ],
   "source": [
    "x.as_integer()"
   ]
  },
  {
   "cell_type": "code",
   "execution_count": 47,
   "id": "5fd15ac7-b648-4389-ada4-2378617cc77f",
   "metadata": {},
   "outputs": [
    {
     "name": "stdout",
     "output_type": "stream",
     "text": [
      "SELECT products.id, products.name, products.meta, products.extra \n",
      "FROM products \n",
      "WHERE json_extract(products.meta, ?) = ?\n",
      "[cached since 970.1s ago] ('$.\"tags\"[0]', 'X')\n",
      "> {'id': 2, 'name': 'Pear', 'meta': {'released': 2020, 'details': {'cpu_cores': 4}, 'tags': ['X', 'Y']}, 'extra': None}\n"
     ]
    }
   ],
   "source": [
    "# Deeper members \n",
    "\n",
    "with con.begin() as t, logs():\n",
    "    expr = '$.\"released\"'\n",
    "    expr = '$.\"details\".\"cpu_cores\"' # works\n",
    "    expr ='$.details.cpu_cores'  # works\n",
    "    expr = '$.tags[0]' # works\n",
    "    expr = '$.\"tags\"[0]' # works\n",
    "    \n",
    "    query = (\n",
    "        Products.select()\n",
    "        .where(\n",
    "            # sa.text(f'JSON_EXTRACT(products.meta, \\'{expr}\\') == \"X\"')\n",
    "            # Products.c.meta[\"details\", \"cpu_cores\"].as_integer() == 4\n",
    "            sa.func.json_extract(Products.c.meta, expr) == 'X'\n",
    "            # Products.c.meta[('tags', 1)] == 'X'\n",
    "        )\n",
    "    )\n",
    "    for row in con.execute(query).mappings():\n",
    "        print('>', row)"
   ]
  },
  {
   "cell_type": "code",
   "execution_count": 28,
   "id": "c3b96d72-038e-4a5d-b6e1-8b2a329212e2",
   "metadata": {},
   "outputs": [
    {
     "name": "stdout",
     "output_type": "stream",
     "text": [
      "UPDATE products SET extra=products.meta\n",
      "[cached since 362.1s ago] ()\n",
      "SELECT products.id, products.name, products.meta, products.extra \n",
      "FROM products \n",
      "WHERE JSON_EXTRACT(products.extra, ?) = ?\n",
      "[generated in 0.00094s] ('$.\"released\"', 2020)\n",
      "(2, 'Pear', {'released': 2020}, '{\"released\": 2020}')\n"
     ]
    }
   ],
   "source": [
    "with con.begin() as t:\n",
    "    query = sa.update(Products).values(extra=Products.c['meta'])\n",
    "    with logs():    \n",
    "        con.execute(query)\n",
    "    col = sa.type_coerce(Products.c.extra, sa.JSON)\n",
    "    query = sa.select(Products).where(col['released'].as_integer() == 2020)\n",
    "    with logs():\n",
    "        for row in con.execute(query):\n",
    "            print(row)\n",
    "    t.rollback()"
   ]
  },
  {
   "cell_type": "code",
   "execution_count": 7,
   "id": "27b83482-30f0-4f7b-9591-542cc40635e0",
   "metadata": {},
   "outputs": [
    {
     "name": "stdout",
     "output_type": "stream",
     "text": [
      "{'anon_1': 2010}\n",
      "{'anon_1': 2020}\n"
     ]
    }
   ],
   "source": [
    "with con.begin() as t:\n",
    "    query = sa.select(Products.c['meta']['released'])\n",
    "    for row in con.execute(query).mappings():\n",
    "        print(row)"
   ]
  },
  {
   "cell_type": "code",
   "execution_count": null,
   "id": "691a5df3-8889-4c51-b8b6-3b54e1b1afeb",
   "metadata": {},
   "outputs": [],
   "source": []
  }
 ],
 "metadata": {
  "kernelspec": {
   "display_name": "Python 3 (ipykernel)",
   "language": "python",
   "name": "python3"
  },
  "language_info": {
   "codemirror_mode": {
    "name": "ipython",
    "version": 3
   },
   "file_extension": ".py",
   "mimetype": "text/x-python",
   "name": "python",
   "nbconvert_exporter": "python",
   "pygments_lexer": "ipython3",
   "version": "3.12.0"
  }
 },
 "nbformat": 4,
 "nbformat_minor": 5
}
