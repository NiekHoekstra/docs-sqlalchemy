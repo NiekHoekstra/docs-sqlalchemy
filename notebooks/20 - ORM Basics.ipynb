{
 "cells": [
  {
   "cell_type": "markdown",
   "id": "db63e8a5-8355-48fb-b176-7a82161fb145",
   "metadata": {},
   "source": [
    "# SQLAlchemy ORM\n",
    "This notebook covers the following:\n",
    "\n",
    "- Model (basic fields)\n",
    "- Insert\n",
    "- Select\n",
    "- Update\n",
    "- Delete\n",
    "\n",
    "The syntax used here is geared towards SQLAlchemy 2.0, but is likely compatible with most of 1.4.\n",
    "Any 1.4 specific edge cases should be noted."
   ]
  },
  {
   "cell_type": "markdown",
   "id": "fc11f476-4ff8-4c39-9365-6487c8a373bf",
   "metadata": {},
   "source": [
    "## Setup"
   ]
  },
  {
   "cell_type": "code",
   "execution_count": null,
   "id": "1595b88c-04a3-4544-b5ba-f2bebe1ea737",
   "metadata": {},
   "outputs": [],
   "source": [
    "import sqlalchemy as sa\n",
    "from sqlalchemy import orm\n",
    "print('SQLAlchemy Version:', sa.__version__)"
   ]
  },
  {
   "cell_type": "code",
   "execution_count": null,
   "id": "7b96a1c8-8fbb-4403-8a1b-db084899b688",
   "metadata": {},
   "outputs": [],
   "source": [
    "engine = sa.create_engine('sqlite://')"
   ]
  },
  {
   "cell_type": "code",
   "execution_count": null,
   "id": "08682b60-2351-45a5-851b-becb8287ed47",
   "metadata": {},
   "outputs": [],
   "source": [
    "# Creating a metadata object, which is usually shared between objects belonging to the same database.\n",
    "# More advanced features allow Metadata to be tied to a specific database.\n",
    "meta = sa.MetaData()"
   ]
  },
  {
   "cell_type": "code",
   "execution_count": null,
   "id": "2000b94f-7485-4372-b923-acefc08dd891",
   "metadata": {},
   "outputs": [],
   "source": [
    "from contextlib import contextmanager\n",
    "import logging\n",
    "import sys\n",
    "\n",
    "handler = logging.StreamHandler(sys.stdout)\n",
    "handler.setLevel(logging.WARN)\n",
    "\n",
    "logger = logging.getLogger('sqlalchemy.engine')\n",
    "logger.setLevel(logging.DEBUG)\n",
    "logger.addHandler(handler)\n",
    "\n",
    "@contextmanager\n",
    "def logs(level=logging.INFO):\n",
    "    state = handler.level\n",
    "    handler.setLevel(level)\n",
    "    try:\n",
    "        yield\n",
    "    finally:\n",
    "        handler.setLevel(state)"
   ]
  },
  {
   "cell_type": "markdown",
   "id": "3704b123-a031-48c1-9ad5-1c39833c082e",
   "metadata": {},
   "source": [
    "## Model\n",
    "Defining a model with the ORM is *relatively* simple, but complex problems will create complex solutions.\n",
    "\n",
    "1. Base\n",
    "2. Model\n",
    "3. Columns\n",
    "\n",
    "**1:** Most Model class will inherit from a 'Base' class of some sort.\n",
    "This is often done using a 'DeclarativeBase', can do interesting things like binding models to a specific a Database.\n",
    "\n",
    "**2:** The model inherits from the Base class, usually defines a table name, followed by one or more columns.\n",
    "\n",
    "**3:** Each column is assigned like a class variable would be.\n",
    "The column name may be specified and, if omitted, will default to the name of the class variable it's assigned to.\n",
    "The Metaclass (or effectively the DeclarativeBase) performs the transformations to make this work.\n",
    "\n",
    "**Note:** SQLAlchemy has a ``column`` function and a ``Column`` class.\n",
    "Column definitions in the ORM use the class variant.\n",
    "Using the function variant isn't *harmful* (it just errors-out), but it's good to know it's a common typo.\n",
    "\n",
    "```python\n",
    "class MyClass(Base):\n",
    "    __tablename__ = 'my_table'\n",
    "    name = sa.Column(sa.VARCHAR(255))  # Will use the column \"name\" in SQL.\n",
    "```\n",
    "\n",
    "SQLAlchemy tries not to set defaults, so anything implied/improvised by the database itself will take effect.\n",
    "This can create uncertainty about default value, nullable values, and database cascades."
   ]
  },
  {
   "cell_type": "code",
   "execution_count": null,
   "id": "ec53f57b-c410-4ce3-b616-69e9a8ef45cd",
   "metadata": {},
   "outputs": [],
   "source": [
    "# Then create a base class from which all model implementations will inherit.\n",
    "# This also allows child classes to be 'registered', letting them to be discovered for migrations more easily.\n",
    "class Base(orm.DeclarativeBase):\n",
    "    metadata = meta"
   ]
  },
  {
   "cell_type": "code",
   "execution_count": null,
   "id": "b862e2ce-7928-41b8-949b-bbcdf2e79e52",
   "metadata": {},
   "outputs": [],
   "source": [
    "class Customer(Base):\n",
    "    __tablename__ = 'customers'\n",
    "    id = sa.Column('id', sa.Integer, primary_key=True, autoincrement=True)\n",
    "    name = sa.Column('name', sa.VARCHAR(255), default=None, nullable=True)"
   ]
  },
  {
   "cell_type": "markdown",
   "id": "7b3eaebb-888c-4408-9c9c-5f43d195670a",
   "metadata": {},
   "source": [
    "### Instance member vs Class member\n",
    "SQLAlchemy utilizes the feature of class members.\n",
    "\n",
    "Using the `Customer` model above as an example, accessing the `.name` on an instance will give the expected value (a string).\n",
    "\n",
    "When accessing it via the class, as `Customer.name`, it returns an instance of `InstrumentedAttribute`.\n",
    "\n",
    "That `InstrumentedAttribute` can be used to build a query.\n",
    "When used in expressions (like `Customer.id < 5`) it returns an SQL-compatible Expression.\n",
    "This is how access via class is used to create parts of a query.\n",
    "This is further explained in the section about 'Select'."
   ]
  },
  {
   "cell_type": "markdown",
   "id": "bad9fd17-2b61-4eaa-aed2-a905921d9b74",
   "metadata": {},
   "source": [
    "### Default Values\n",
    "(onupdate, server_default, default)\n"
   ]
  },
  {
   "cell_type": "code",
   "execution_count": null,
   "id": "55e69936-5d6f-4dc1-b8bd-4d7205755323",
   "metadata": {},
   "outputs": [],
   "source": [
    "class Product(Base):\n",
    "    __tablename__ = 'products'\n",
    "    id = sa.Column('id', sa.Integer, primary_key=True, autoincrement=True)\n",
    "    name = sa.Column('name', sa.VARCHAR(255), default=None, nullable=True)\n",
    "    price = sa.Column('price', sa.Double)\n",
    "    deleted = sa.Column('deleted', sa.Boolean, default=False)\n",
    "    created = sa.Column('created', sa.DateTime, server_default=sa.text('current_timestamp'))  # SQLite specific\n",
    "    updated = sa.Column('updated', sa.DateTime, onupdate=sa.func.now())  # Application Logic\n"
   ]
  },
  {
   "cell_type": "code",
   "execution_count": null,
   "id": "d38a4688-46af-4b8b-9e32-0ce6953f93b1",
   "metadata": {},
   "outputs": [],
   "source": [
    "con = engine.connect()\n",
    "Base.metadata.create_all(con)"
   ]
  },
  {
   "cell_type": "code",
   "execution_count": null,
   "id": "19956760-fc6c-4113-95e1-98f2eee16f6a",
   "metadata": {},
   "outputs": [],
   "source": [
    "for row in con.execute(sa.select(Product)):\n",
    "    print(row)\n",
    "print(con.in_transaction())"
   ]
  },
  {
   "cell_type": "markdown",
   "id": "59668549-8012-4bcd-bdc9-06483e7a00ea",
   "metadata": {},
   "source": [
    "## Session(maker)\n",
    "The standard Connection object is perfectly compatible with model based queries.<br>\n",
    "When a standard connection returns an ORM-object, that returned object lacks state management.<br>\n",
    "That is what sessions are looking to remedy.\n",
    "\n",
    "Note that performing an 'execute' on the raw connection will start a transaction on the connection.\n",
    "Creating a session might error when the connection is already in a transaction.\n",
    "This behavior might vary if the backing engine supports \"nested transactions\".\n",
    "\n",
    "A commonly used utility in SQLAlchemy is the `sqlalchemy.orm.sessionmaker`.\n",
    "This a new class (not instance) with some preconfigured elements, making it a factory for a session class.\n",
    "This obscures the backing session class (which may be desirable).\n",
    "\n",
    "Using the sessionmaker can standardise how Sessions are managed (like autoflush behavior) in a project.\n",
    "The alternative would be using `functools.partial`, but the subclass (defining a new class) is likely more recognizable while debugging.\n",
    "\n",
    "Using a raw Session class is still possible, but not recommended.\n",
    "These notebooks are still pretty 'raw' examples, and might use a raw Session class as a result.\n",
    "\n",
    "## Transactions\n",
    "Do note that sessions are NOT the same as transactions.\n",
    "Adding objects to a session\n",
    "\n",
    "```python\n",
    "with Session(con) as session:\n",
    "    with session.begin() as transaction:\n",
    "        ...\n",
    "```\n",
    "\n",
    "When leaving a session, objects are usually discarded... unless a transaction is already running."
   ]
  },
  {
   "cell_type": "code",
   "execution_count": null,
   "id": "5d9fa881-b852-420a-89c5-462989884cc4",
   "metadata": {},
   "outputs": [],
   "source": [
    "if con.in_transaction():\n",
    "    con.commit()\n",
    "print(con.in_transaction())\n",
    "print('dialect', con.dialect.name)"
   ]
  },
  {
   "cell_type": "markdown",
   "id": "b5e53252-b997-46b2-974d-800f0723b1f6",
   "metadata": {},
   "source": [
    "## Insert\n",
    "Before diving into `sqlalchemy.select(...)` statements, there has to be data added to the database.\n",
    "\n",
    "**Note:** It is desirable to explicitly commit (in general).\n",
    "\n",
    "For the sake of this notebook, the automatic rollback gets used everywhere.\n",
    "This way SQL queries can be shown (via `with logs()`) without completely tainting the database."
   ]
  },
  {
   "cell_type": "code",
   "execution_count": null,
   "id": "68e8da3c-4e9f-4b36-bcb8-cc14983612b9",
   "metadata": {},
   "outputs": [],
   "source": [
    "with orm.Session(con) as s:\n",
    "    obj = sa.insert(Customer).values([dict(name='jack'), dict(name='john')])\n",
    "    s.execute(obj)\n",
    "    # s.commit()\n",
    "with orm.Session(con) as s:\n",
    "    for row in s.execute(sa.select(Customer)):\n",
    "        print(row)"
   ]
  },
  {
   "cell_type": "markdown",
   "id": "f6a3967d-d2eb-4c07-9e9f-c69e520fe172",
   "metadata": {},
   "source": [
    "### Using Instances (and object-lifetime / expire_on_commit)\n",
    "Most ORMs are centered around instances, and SQLAlchemy offers simular features.\n",
    "\n",
    "When an instance is initiallized manually, it is considered a new instance.\n",
    "\n",
    "Instances do not have a ``.save()`` method, and instead SQLAlchemy provides a ``session.add(instance)`` system.\n",
    "\n",
    "**However:** When the session has been comitted, the instances are considered 'expired'.\n",
    "That means further use of the instances will cause a 'refetch' of data from the database."
   ]
  },
  {
   "cell_type": "code",
   "execution_count": null,
   "id": "4dea9403-fec4-49e7-a8e8-0757974a9a65",
   "metadata": {},
   "outputs": [],
   "source": [
    "with logs(), orm.Session(con) as session:\n",
    "    customer = Customer(name='Jack')\n",
    "    apple = Product(name='Apple')\n",
    "    pear = Product(name='Pear')\n",
    "    print(apple.id, apple)\n",
    "    session.add(customer)\n",
    "    session.add(apple)\n",
    "    session.add(pear)\n",
    "    session.commit()\n",
    "    # **Note:** Turn on logging to see the queries fired between print statements.\n",
    "    print('--- divider, queries below got executed on demand ---')\n",
    "    print('>>', customer.name)\n",
    "    print('>>', apple.name)\n",
    "    print('>>', pear.name)"
   ]
  },
  {
   "cell_type": "markdown",
   "id": "88b28168-41d4-4ed7-9d1e-4bb2c793111a",
   "metadata": {},
   "source": [
    "The alternative is turning off 'expire_on_commit'.\n",
    "The idea is that the objects are \"close enough\", that they don't need refetching.\n",
    "Do note that the ``flush()/commit ()`` does not optimize the query, and is inserting in multiple steps so the ID does get returned."
   ]
  },
  {
   "cell_type": "code",
   "execution_count": null,
   "id": "3741702d-1d63-460d-9814-226167b4824f",
   "metadata": {},
   "outputs": [],
   "source": [
    "with logs():\n",
    "    # Toggle expire_on_commit to see how it will error-out.\n",
    "    with orm.Session(con, expire_on_commit=False) as session:\n",
    "        customer = Customer(name='Jack')\n",
    "        apple = Product(name='Apple')\n",
    "        pear = Product(name='Pear')\n",
    "        session.add_all([customer, apple, pear])\n",
    "        session.flush()\n",
    "        session.commit()\n",
    "\n",
    "    print('--- out of session scope---')\n",
    "    print(apple.name)\n",
    "    print(apple.id, apple.name)\n",
    "    print(pear.id, pear.name)"
   ]
  },
  {
   "cell_type": "markdown",
   "id": "671b1588-2d64-4d70-ba0f-400c6f0f92d5",
   "metadata": {},
   "source": [
    "### Bulk Insert\n",
    "\n",
    "Should performance become a bottleneck, there are two alternatives.\n",
    "1. Use dictionaries to insert data `sa.insert(Product).values([...]) -> Result`, which can still return a row count.\n",
    "2. Use `bulk_save_objects(...) -> None`, this is conventient for objects but returns no row count\n",
    "\n",
    "Understand that both methods will not update their input data/objects with the primary keys of the created objects*.\n",
    "\n",
    "\\* Postgres is the exception to this, but it is recommended to upgrade to SQLAlchemy 2.0 for this to be fully supported.\n",
    "[TODO: look at insert-many-values](https://docs.sqlalchemy.org/en/20/core/connections.html#insert-many-values-behavior-for-insert-statements)"
   ]
  },
  {
   "cell_type": "code",
   "execution_count": null,
   "id": "fb04c9f7-8f83-4f6c-a45c-c5d245eff3e5",
   "metadata": {},
   "outputs": [],
   "source": [
    "with logs(), orm.Session(con) as session:\n",
    "    customer = Customer(name='Jack')\n",
    "    apple = Product(name='Apple')\n",
    "    pear = Product(name='Pear')\n",
    "    session.add(customer)\n",
    "    session.bulk_save_objects([apple, pear])"
   ]
  },
  {
   "cell_type": "code",
   "execution_count": null,
   "id": "ab049f8c-be3f-42bd-b2cc-4a92d2e979ea",
   "metadata": {},
   "outputs": [],
   "source": [
    "with logs(), orm.Session(con) as s:\n",
    "    stmt = sa.insert(Product).values([dict(name='Carrot'), dict(name='Potato')])\n",
    "    result = s.execute(stmt)\n",
    "    print(result.rowcount)"
   ]
  },
  {
   "cell_type": "markdown",
   "id": "22e2b203-1735-4f7e-a781-24f4040890e4",
   "metadata": {},
   "source": [
    "## Select\n",
    "With data in the tables, it's time to go on (and on) about selecting data.\n",
    "SQLAlchemy tries to be consistent in its querying API, but the two approaches (ORM based and table-column based) are at odds.\n",
    "\n",
    "When calling ``.execute``, a result object is returned.\n",
    "\n",
    "This result is often iterable and each item returns a `Row` object (`sqlalchemy.engine.row.Row`).\n",
    "This object can automatically be 'unpacked' like a tuple.\n",
    "\n",
    "The size of this tuple is equal to the number of *positional* arguments put in `select(...)`.\n",
    "That also means that a singular column gets put in a very odd tuple.\n"
   ]
  },
  {
   "cell_type": "code",
   "execution_count": null,
   "id": "0d84a50d-37e1-47a1-8372-7449e99f7ce6",
   "metadata": {},
   "outputs": [],
   "source": [
    "# Row approach\n",
    "with orm.Session(con) as s:\n",
    "    result = s.execute(sa.select(Product.id, Product.name))\n",
    "    for row  in result:\n",
    "        print(type(row), row[0], row[1])"
   ]
  },
  {
   "cell_type": "code",
   "execution_count": null,
   "id": "9604a06f-0e60-4aac-bd3a-01df4ff088c4",
   "metadata": {},
   "outputs": [],
   "source": [
    "# Two Columns, selecting ID and name (unpacking it like a tuple)\n",
    "with orm.Session(con) as s:\n",
    "    result = s.execute(sa.select(Product.id, Product.name))\n",
    "    for product_id, product_name  in result:\n",
    "        print(product_id, product_name)"
   ]
  },
  {
   "cell_type": "markdown",
   "id": "5e2e8904-164b-45f2-8efb-fccc34545081",
   "metadata": {},
   "source": [
    "It is also possible to get the values from the row like a dictionary.\n",
    "\n",
    "This makes them accesible by their field names, or by using the class member corresponding to the query.\n",
    "\n",
    "This only requires calling `.mappings` on the result object."
   ]
  },
  {
   "cell_type": "code",
   "execution_count": null,
   "id": "21bb0446-1526-48dd-857e-0086a3cd3309",
   "metadata": {},
   "outputs": [],
   "source": [
    "# Two Columns, selecting ID and name using RowMappigns.\n",
    "with orm.Session(con) as s:\n",
    "    result = s.execute(sa.select(Product.id, Product.name))\n",
    "    for entry in result.mappings():\n",
    "        print(type(entry), entry[Product.name], entry['name'])"
   ]
  },
  {
   "cell_type": "code",
   "execution_count": null,
   "id": "e90b0997-b066-42f4-bf46-82d83be0518d",
   "metadata": {},
   "outputs": [],
   "source": [
    "# One Column\n",
    "with orm.Session(con) as s:\n",
    "    result = s.execute(sa.select(Product.name))\n",
    "    for product_name, in result:  # <-- Extremely ugly trailing comma after 'product_name'\n",
    "        print(product_name)"
   ]
  },
  {
   "cell_type": "markdown",
   "id": "53fa1aaa-951b-4bcc-a3c3-c154750ebfae",
   "metadata": {},
   "source": [
    "### Scalars\n",
    "The final example in the cell above shows an extremely ugly trailing comma.\n",
    "That trailing comma can be removed by using scalar(s).\n",
    "\n",
    "Using a scalar effectively means only the first column will be used.\n",
    "\n",
    "**Note:** these transformations are only applied *after* fetching data.\n",
    "Even the singular `.scalar` does not limit how much data the server will return.\n",
    "Although scalars are available for both the Session object and the Result object,\n",
    "both will still query for all the data.\n",
    "\n",
    "| Method | Meaning |\n",
    "|--------|---------|\n",
    "| `.scalars()` | First column of every row |\n",
    "| `.scalar()` | First column of first row\\* |\n",
    "\n",
    "\\* This still consumes the entire result."
   ]
  },
  {
   "cell_type": "code",
   "execution_count": null,
   "id": "9a5b5d3b-6bde-43a9-a648-fedecf830f5f",
   "metadata": {},
   "outputs": [],
   "source": [
    "with orm.Session(con) as s:\n",
    "    result = s.execute(sa.select(Product.name))\n",
    "    for product_name in result.scalars():  # And the trailing comma is now gone.\n",
    "        print(product_name)"
   ]
  },
  {
   "cell_type": "code",
   "execution_count": null,
   "id": "ba8f5462-ca57-4a36-a2a1-c4cb6614d687",
   "metadata": {},
   "outputs": [],
   "source": [
    "# .scalar() on result\n",
    "with logs(logging.DEBUG), orm.Session(con) as s:\n",
    "    result = s.execute(sa.select(Product.id, Product.name))\n",
    "    print(result.scalar())"
   ]
  },
  {
   "cell_type": "code",
   "execution_count": null,
   "id": "32e5eeab-399d-403c-928b-2c8eafe9c4e9",
   "metadata": {},
   "outputs": [],
   "source": [
    "# The scalar is also available on the session, but it STILL executes the entire query.\n",
    "# You can see the data being returned in the (debug level) logs below.\n",
    "with logs(logging.DEBUG), orm.Session(con) as s:\n",
    "    query = sa.select(Product.id, Product.name)\n",
    "    result = s.scalar(sa.select(Product.id, Product.name))\n",
    "    print(result)"
   ]
  },
  {
   "cell_type": "markdown",
   "id": "584fc7bb-5d98-40ff-97f6-71a254e027e7",
   "metadata": {},
   "source": [
    "### ORM Scalars \n",
    "The ORM acts a little bit different when it comes to scalars.\n",
    "\n",
    "**TLDR:** The model class is the only field in the select statement, treat it like a regular field.\n",
    "That means it's safe to use ``scalars()`` to prevent the awkward tuple situation."
   ]
  },
  {
   "cell_type": "code",
   "execution_count": null,
   "id": "c2362937-fd28-4f3b-978a-5758840318f8",
   "metadata": {
    "scrolled": true
   },
   "outputs": [],
   "source": [
    "with orm.Session(con) as s:\n",
    "    result = s.execute(sa.select(Product))\n",
    "    for item in result.scalars():\n",
    "        print(type(item).__name__, item.id, item.name)\n",
    "    "
   ]
  },
  {
   "cell_type": "markdown",
   "id": "311ad9f3-3aaa-404d-82bc-2e9cfb6e7a02",
   "metadata": {},
   "source": [
    "### Where / Filter\n",
    "The SQL 'where' is available asboth `.where(...)` and `.filter(...)` (which is just an alias).\n",
    "\n",
    "The way SQLAlchemy expresses filtering on columns is by using the class member that represents it.\n",
    "\n",
    "**Note:** When interacting with boolean fields, it is necessary to use the equals symbol rather than 'is'.\n",
    "The class member cannot override an 'is' operation to provide the proper transformation."
   ]
  },
  {
   "cell_type": "code",
   "execution_count": null,
   "id": "8b27c08a-935c-41a2-a110-99d2e78800b9",
   "metadata": {},
   "outputs": [],
   "source": [
    "with orm.Session(engine) as session:\n",
    "    query = sa.select(Product).where(Product.name == 'Apple' )\n",
    "    for entry in session.execute(query).scalars():\n",
    "        print(entry.id, entry.name, entry.deleted)\n"
   ]
  },
  {
   "cell_type": "markdown",
   "id": "1e91c5bf-dcce-4ea9-9257-063608d1a35a",
   "metadata": {},
   "source": [
    "----------\n",
    "There are a lot of ways these expressions can be combined.\n",
    "1. The `.where` statement will automatically apply 'AND' to its positional arguments.\n",
    "2. Usage of the ampersand (a bitwise AND) will create a \"BinaryExpression\" which can be applied.\n",
    "3. Usage of `sa.and_` effectively accompliushes the same result.\n",
    "   "
   ]
  },
  {
   "cell_type": "code",
   "execution_count": null,
   "id": "7ee733b5-5956-4063-a82c-2a716fb4a254",
   "metadata": {},
   "outputs": [],
   "source": [
    "apples_only = Product.name == 'Apple'\n",
    "not_deleted = Product.deleted == False  # Don't use \"is\" for boolean fields.\n",
    "print('Apples:', str(apples_only))\n",
    "print('Available:', str(not_deleted))\n",
    "print('---')\n",
    "\n",
    "method_2 = apples_only & not_deleted\n",
    "method_3 = sa.and_(apples_only, not_deleted) # This function accepts many more positional arguments.\n",
    "\n",
    "print('1:', str(sa.select(Product).where(apples_only, not_deleted)).replace('\\n', ''))\n",
    "print('2:', str(sa.select(Product).where(method_2)).replace('\\n', ''))\n",
    "print('3:', str(sa.select(Product).where(method_3)).replace('\\n', ''))"
   ]
  },
  {
   "cell_type": "markdown",
   "id": "6137a635-a238-4052-a8b8-6e287d53ea4a",
   "metadata": {},
   "source": [
    "----------\n",
    "Expression can also be inverted. This can be useful to recycle specific expressions."
   ]
  },
  {
   "cell_type": "code",
   "execution_count": null,
   "id": "5192bb4a-da25-4aa1-9fa2-cd1c150d9b6c",
   "metadata": {},
   "outputs": [],
   "source": [
    "apples_only = Product.name == 'Apple'\n",
    "print('A', str(apples_only))\n",
    "print('B', str(~apples_only))"
   ]
  },
  {
   "cell_type": "code",
   "execution_count": null,
   "id": "504a36fa-fbd8-41d9-9f00-59d67988c53d",
   "metadata": {},
   "outputs": [],
   "source": [
    "expr = Product.name.in_(('Apple', 'Pear'))\n",
    "print('Some expressions do not convert to strings very well. >>', expr)\n",
    "with logs(), orm.Session(engine) as s:\n",
    "    for item in s.execute(sa.select(Product).where(expr)).scalars():\n",
    "        print(item.name)"
   ]
  },
  {
   "cell_type": "markdown",
   "id": "ebd924bf-ae09-41ea-bc71-8cf136dd1c00",
   "metadata": {},
   "source": [
    "### Being clever with (basic) Statements (code reuse)\n",
    "Many SQLAlchemy queries can be written without a session or engine attached to it.\n",
    "The session and engine only get involved when execution becomes interesting.\n",
    "\n",
    "The query building blocks are lightweight, and could easily be reused.\n",
    "Each transformation ends up returning a completely new object, meaning the old object remains untouched.\n",
    "That old object usually gets discarded, but it could be recycled as a building block on its own.\n",
    "This can be useful in teams to keep queries consistent."
   ]
  },
  {
   "cell_type": "code",
   "execution_count": null,
   "id": "c525af53-9296-4ea7-8cdb-03706f4dd274",
   "metadata": {},
   "outputs": [],
   "source": [
    "# Building Block\n",
    "# Query for products which have not been marked as 'deleted'.\n",
    "products = sa.select(Product).where(Product.deleted == False)\n",
    "print('GET products:')\n",
    "print(str(products))\n",
    "with orm.Session(engine) as session:\n",
    "    for entry in session.execute(products).scalars():\n",
    "        print(entry.id)\n",
    "# Recycling the where clause and flipping it, to remove the products which weren't part of the regular overview.\n",
    "print(sa.delete(Product).where(~products.whereclause))"
   ]
  },
  {
   "cell_type": "markdown",
   "id": "f12754ea-c6ca-4624-bba5-f6681d093ead",
   "metadata": {},
   "source": [
    "### Distinct"
   ]
  },
  {
   "cell_type": "code",
   "execution_count": null,
   "id": "482246c8-1f94-4583-bf31-5ae1b5584f54",
   "metadata": {},
   "outputs": [],
   "source": [
    "with logs(), orm.Session(engine) as s:\n",
    "    result = s.execute(sa.select(Product.name).distinct()).scalars()\n",
    "    print(list(result))"
   ]
  },
  {
   "cell_type": "markdown",
   "id": "e6f409a8-9b1c-40b5-a5c4-3fb961815d06",
   "metadata": {},
   "source": [
    "### Result Assertions (one_or_none)\n",
    "The Result object can also be used to provide some semantics.\n",
    "\n",
    "For example, the Result object has a `one()` method which ensures that only one entry is returned.\n",
    "That means it will raise an error when no records are found, or multiple records are found.\n",
    "\n",
    "These errors are `sqlalchemy.exc.NoResultFound` and `sqlalchemy.exc.MultipleResultsFound` respectively.\n",
    "\n",
    "- `one() -> Row`\n",
    "- `one_or_none() -> Optional[Row]`\n",
    "- `scalar_one() -> T`, equivalent to `.scalars().one()`\n",
    "- `scalar_one_or_none() -> Optional[T]`, equivalent to `.scalar().one_or_none()`\n",
    "- `first()` -> `one_or_none()`"
   ]
  },
  {
   "cell_type": "code",
   "execution_count": null,
   "id": "4e969de1-ec67-40e1-a4ef-868a2264dc48",
   "metadata": {},
   "outputs": [],
   "source": [
    "with orm.Session(engine) as s:\n",
    "    result = s.execute(sa.select(Product).where(Product.name == 'Apple'))\n",
    "    value = result.one()\n",
    "    print(value.name)"
   ]
  },
  {
   "cell_type": "markdown",
   "id": "7fbbbd13-2122-4b9f-a687-7e67194af3c3",
   "metadata": {},
   "source": [
    "### Order By\n",
    "Just like regular SQL, rows can be sorted by specific columns."
   ]
  },
  {
   "cell_type": "code",
   "execution_count": null,
   "id": "f32e8fae-020d-4d08-888d-895c23396af4",
   "metadata": {},
   "outputs": [],
   "source": [
    "query = (\n",
    "    sa.select(Product.id)\n",
    "    .order_by(Product.id.desc(), Product.name.asc()) \n",
    ")\n",
    "print(str(query))"
   ]
  },
  {
   "cell_type": "markdown",
   "id": "5788e32f-0aeb-4ec9-bf74-bb979e13256b",
   "metadata": {},
   "source": [
    "### Group By"
   ]
  },
  {
   "cell_type": "code",
   "execution_count": null,
   "id": "d483688e-ce63-4b55-b09f-a23de6bc189c",
   "metadata": {},
   "outputs": [],
   "source": [
    "with orm.Session(con) as s:\n",
    "    # Inserting an extra apple so 'group by' actually does something.\n",
    "    s.execute(sa.insert(Product).values(name='Apple'))\n",
    "    query = sa.select(Product.name, sa.func.count(Product.name)).group_by(Product.name)\n",
    "    for item in s.execute(query).mappings():\n",
    "        print(item)\n"
   ]
  },
  {
   "cell_type": "code",
   "execution_count": null,
   "id": "64101971-246e-4ddf-a9a5-5f6df64ced30",
   "metadata": {},
   "outputs": [],
   "source": [
    "with orm.Session(con) as s:\n",
    "    # Inserting an extra apple so 'group by' actually does something.\n",
    "    s.execute(sa.insert(Product).values(name='Apple'))\n",
    "    count_column = sa.func.count(Product.name).label('Total_Products')\n",
    "    query = sa.select(Product.name, count_column).group_by(Product.name)\n",
    "    for item in s.execute(query).mappings():\n",
    "        # It can still be accessed as long as it's the right calculated column.\n",
    "        print(item[Product.name], item[count_column])"
   ]
  },
  {
   "cell_type": "code",
   "execution_count": null,
   "id": "c755d1d3-daee-408b-9426-82ab7caee2e2",
   "metadata": {},
   "outputs": [],
   "source": [
    "with orm.Session(engine) as s:\n",
    "    query = sa.select(Product)\n",
    "    # it = session.execute(query.with_only_columns(sa.func.count(Product.id).label('count')))\n",
    "    it = s.execute(sa.select(sa.func.count(Product.id).label('count')))\n",
    "    print(it.scalar())"
   ]
  },
  {
   "cell_type": "markdown",
   "id": "dc5d610b-8e9e-4f9f-b0ad-23072cc77790",
   "metadata": {},
   "source": [
    "### Calculated Columns"
   ]
  },
  {
   "cell_type": "code",
   "execution_count": null,
   "id": "225f04f8-ce75-45ca-98a3-587dd33f518a",
   "metadata": {},
   "outputs": [],
   "source": [
    "with logs(), orm.Session(engine) as s:\n",
    "    result = s.execute(sa.select(Product.name +' = '+ Product.name))\n",
    "    for item in result.mappings():\n",
    "        print(item)"
   ]
  },
  {
   "cell_type": "markdown",
   "id": "f97019c9-34ed-4e7c-8855-c41db132e753",
   "metadata": {},
   "source": [
    "### Defer Columns (Lazy Loaded Columns)\n",
    "It's also possible to completely omit columns from the query, even if they're part of the model.\n",
    "\n",
    "This is usually called 'deferred loading'.\n",
    "Things like deferred loading come in useful to steer the ORM.\n",
    "Database columns that are defined as TEXT in SQL can be slow when there are a lot of them.\n",
    "When there is a relationship between two SQLAlchemy models, it can prevent eager loading.\n",
    "\n",
    "Select.only_columns\n",
    "\n",
    "Select.with_only_columns\n",
    "\n",
    "Select.reduce_columns"
   ]
  },
  {
   "cell_type": "code",
   "execution_count": null,
   "id": "9a97d2ba-5e40-4f85-a7ac-31eef31b9987",
   "metadata": {},
   "outputs": [],
   "source": [
    "with logs(), orm.Session(engine) as s:\n",
    "    query = (\n",
    "        sa.select(Product)\n",
    "        .options(sa.orm.defer(Product.name, raiseload=True))\n",
    "    )\n",
    "    query.reduce_columns\n",
    "    for item in s.execute(query).scalars():\n",
    "        print(item.id)\n",
    "        try:\n",
    "            print(item.name)\n",
    "        except sa.exc.InvalidRequestError as ex:\n",
    "            print('(blocked lazy load)', str(ex))"
   ]
  },
  {
   "cell_type": "markdown",
   "id": "66c40c8c-c594-430d-b8e5-95c516859f5f",
   "metadata": {},
   "source": [
    "## Update"
   ]
  },
  {
   "cell_type": "code",
   "execution_count": null,
   "id": "c4816b8f-01c8-4311-bbb1-eeddfc3aa5e4",
   "metadata": {},
   "outputs": [],
   "source": [
    "q =  sa.update(Product).where(Product.name == 'Apple')"
   ]
  },
  {
   "cell_type": "code",
   "execution_count": null,
   "id": "d1481ee3-c3ce-4d1b-9bb1-2cd9a4d3158b",
   "metadata": {},
   "outputs": [],
   "source": [
    "q.values("
   ]
  },
  {
   "cell_type": "code",
   "execution_count": null,
   "id": "39e741e0-8404-459a-aa76-fd95dc4f3a71",
   "metadata": {},
   "outputs": [],
   "source": [
    "with orm.Session(con) as s:\n",
    "    soft_delete_apples = sa.update(Product).where(Product.name == 'Apple').values({Product.deleted: True})\n",
    "    result = s.execute(soft_delete_apples)\n",
    "    print(result.rowcount, 'rows soft-deleted')\n",
    "    \n",
    "    undelete_all = sa.update(Product).where(Product.deleted == True).values({'deleted': False}) \n",
    "    result = s.execute(undelete_all)\n",
    "    print(result.rowcount, 'rows affected')"
   ]
  },
  {
   "cell_type": "markdown",
   "id": "e82a8197-eea9-4263-b54d-cf292a0afa5f",
   "metadata": {},
   "source": [
    "## Delete\n"
   ]
  },
  {
   "cell_type": "code",
   "execution_count": null,
   "id": "8bbde4fe-3e72-401c-a99b-6c992d9c8776",
   "metadata": {},
   "outputs": [],
   "source": [
    "with orm.Session(con) as s:\n",
    "    s.execute(sa.delete(Customer))\n",
    "    s.execute(sa.delete(Product))\n",
    "    s.commit()"
   ]
  },
  {
   "cell_type": "code",
   "execution_count": null,
   "id": "3b44bc63-ec6d-47d2-84b9-1b1709fd67eb",
   "metadata": {},
   "outputs": [],
   "source": []
  }
 ],
 "metadata": {
  "kernelspec": {
   "display_name": "Python 3 (ipykernel)",
   "language": "python",
   "name": "python3"
  },
  "language_info": {
   "codemirror_mode": {
    "name": "ipython",
    "version": 3
   },
   "file_extension": ".py",
   "mimetype": "text/x-python",
   "name": "python",
   "nbconvert_exporter": "python",
   "pygments_lexer": "ipython3",
   "version": "3.12.0"
  }
 },
 "nbformat": 4,
 "nbformat_minor": 5
}
