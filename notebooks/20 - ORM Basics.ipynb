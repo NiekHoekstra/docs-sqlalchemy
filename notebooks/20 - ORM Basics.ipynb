{
 "cells": [
  {
   "cell_type": "markdown",
   "id": "db63e8a5-8355-48fb-b176-7a82161fb145",
   "metadata": {},
   "source": [
    "# ORM Basics\n",
    "This notebook covers the following:\n",
    "\n",
    "- Model (basic fields)\n",
    "- Add\n",
    "- Select\n",
    "- Update\n",
    "- Delete\n",
    "\n",
    "The syntax used here is geared towards SQLAlchemy 2.0, but is likely compatible with most of 1.4.\n",
    "Any 1.4 specific edge cases should be noted."
   ]
  },
  {
   "cell_type": "markdown",
   "id": "fc11f476-4ff8-4c39-9365-6487c8a373bf",
   "metadata": {},
   "source": [
    "# Setup"
   ]
  },
  {
   "cell_type": "code",
   "execution_count": 1,
   "id": "1595b88c-04a3-4544-b5ba-f2bebe1ea737",
   "metadata": {},
   "outputs": [
    {
     "name": "stdout",
     "output_type": "stream",
     "text": [
      "SQLAlchemy Version: 2.0.29\n"
     ]
    }
   ],
   "source": [
    "import sqlalchemy as sa\n",
    "from sqlalchemy import orm\n",
    "print('SQLAlchemy Version:', sa.__version__)"
   ]
  },
  {
   "cell_type": "code",
   "execution_count": 2,
   "id": "2000b94f-7485-4372-b923-acefc08dd891",
   "metadata": {},
   "outputs": [],
   "source": [
    "from contextlib import contextmanager\n",
    "import logging\n",
    "import sys\n",
    "\n",
    "handler = logging.StreamHandler(sys.stdout)\n",
    "handler.setLevel(logging.WARN)\n",
    "\n",
    "logger = logging.getLogger('sqlalchemy.engine')\n",
    "logger.setLevel(logging.DEBUG)\n",
    "logger.addHandler(handler)\n",
    "\n",
    "@contextmanager\n",
    "def logs(level=logging.INFO):\n",
    "    state = handler.level\n",
    "    handler.setLevel(level)\n",
    "    try:\n",
    "        yield\n",
    "    finally:\n",
    "        handler.setLevel(state)"
   ]
  },
  {
   "cell_type": "code",
   "execution_count": 3,
   "id": "7b96a1c8-8fbb-4403-8a1b-db084899b688",
   "metadata": {},
   "outputs": [],
   "source": [
    "engine = sa.create_engine('sqlite://')\n",
    "con = engine.connect()"
   ]
  },
  {
   "cell_type": "markdown",
   "id": "3704b123-a031-48c1-9ad5-1c39833c082e",
   "metadata": {},
   "source": [
    "# Model\n",
    "Defining a model with the ORM is *relatively* simple, but some preparation is required.\n",
    "\n",
    "SQLAlchemy provides a \"DeclarativeBase\" class.<br>\n",
    "This class offers functionality to define columns \"in a declarative manner\".<br>\n",
    "This means specifying columns works similar to a Python dataclass.\n",
    "\n",
    "Just like SQLAlchemy Core, the ORM side of things also uses Metadata.<br>\n",
    "It is common to first create a Base class can hold metadata with regards to Catalog/Database, Schema, and *certain* Table information.<br>\n",
    "For example, when MicrosoftSQL Server is used, this also allows a single connection to be used for multiple databases.\n",
    "\n",
    "\n",
    "**DeclarativeBase(SQLAlchemy)**<br>\n",
    "This is the class that enabled ORM-model syntax.\n",
    "\n",
    "**Base(Your Project, inherits from DeclarativeBase)**<br>\n",
    "Holds metadata which ties specific model classes together.<br>\n",
    "When using multiple databases, there might be multiple \"Base\" classes.\n",
    "\n",
    "**MyModel(Your Project, inherits from Base)**<br>\n",
    "This is where the table name and columns are actually defined.<br>\n",
    "By inheriting from \"Base\", it can easilty be tied to a specific database.\n",
    "\n",
    "**Note:** SQLAlchemy has a ``column`` function and a ``Column`` class.\n",
    "Column definitions in the ORM use the class variant.\n",
    "Using the function variant isn't *harmful* (it just errors-out), but it's good to know it's a common typo.\n",
    "\n",
    "```python\n",
    "import sqlalchemy as sa\n",
    "from sqlalchemy import orm\n",
    "\n",
    "class Base(orm.DeclarativeBase):\n",
    "    \"\"\"Base class, needs no further values for simple setups.\"\"\"\n",
    "    pass\n",
    "\n",
    "class AdvancedBase(orm.DeclarativeBase):\n",
    "    metadata = sa.MetaData(schema='[Database].[dbo]')\n",
    "    \n",
    "class MyClass(Base):\n",
    "    __tablename__ = 'my_table'\n",
    "    name = sa.Column(sa.VARCHAR(255))  # Will use the column \"name\" in SQL.\n",
    "```\n",
    "Each column is assigned like a class variable would be.<br>\n",
    "The column name may be specified and, if omitted, will default to the name of the class variable it's assigned to.<br>\n",
    "The Metaclass (or effectively the DeclarativeBase) performs the transformations to make this work.\n",
    "\n",
    "SQLAlchemy tries not to set defaults, so anything implied/improvised by the database itself will take effect.<br>\n",
    "This can create uncertainty about default value, nullable values, and database cascades."
   ]
  },
  {
   "cell_type": "code",
   "execution_count": 4,
   "id": "ec53f57b-c410-4ce3-b616-69e9a8ef45cd",
   "metadata": {},
   "outputs": [],
   "source": [
    "# Create a base class from which all model implementations will inherit.\n",
    "# This also allows child classes to be 'registered', letting them to be discovered for migrations more easily.\n",
    "class Base(orm.DeclarativeBase):\n",
    "    pass"
   ]
  },
  {
   "cell_type": "code",
   "execution_count": 5,
   "id": "b862e2ce-7928-41b8-949b-bbcdf2e79e52",
   "metadata": {},
   "outputs": [],
   "source": [
    "class Customer(Base):\n",
    "    __tablename__ = 'customers'\n",
    "    id = sa.Column('id', sa.Integer, primary_key=True, autoincrement=True)\n",
    "    name = sa.Column('name', sa.VARCHAR(255), default=None, nullable=True)\n",
    "\n",
    "    def __repr__(self):\n",
    "        return f'{type(self).__name__}(id={self.id}, name={self.name})'\n",
    "\n",
    "Base.metadata.create_all(engine)"
   ]
  },
  {
   "cell_type": "markdown",
   "id": "5ca7f0db-a2c8-486d-956d-d333b1505dee",
   "metadata": {},
   "source": [
    "-----\n",
    "SQLAlchemy uses a Session system to manage its ORM features.<br>\n",
    "The session is layered on top of the regular SQLAlchemy connection.<br>\n",
    "When using ORM objects, make sure to use the ``Session.execute`` and NOT ``Connection.execute``.\n",
    "\n",
    "# Adding data\n",
    "The session system adds a little bit of extra functionality.<br>\n",
    "When creating an instance of an ORM model, it can be *added* to a session.<br>\n",
    "\n",
    "When an object is added to a session, it is tracked as 'new'.<br>\n",
    "When code leaves the associated \"with\" statement, the session will try to save the new object to the database.\n",
    "\n",
    "Data can also be added in a way similar to Core functionality, further explained in the \"ORM Create\" notebook."
   ]
  },
  {
   "cell_type": "code",
   "execution_count": 6,
   "id": "7815a5aa-b620-4c82-a0fb-4efee0d236c7",
   "metadata": {},
   "outputs": [],
   "source": [
    "with orm.Session(con) as s, s.begin():\n",
    "    new_customer = Customer(name='jack')\n",
    "    s.add(new_customer)"
   ]
  },
  {
   "cell_type": "code",
   "execution_count": 7,
   "id": "170de053-a928-45d5-b8b5-d9b47db51d27",
   "metadata": {},
   "outputs": [
    {
     "name": "stdout",
     "output_type": "stream",
     "text": [
      "Customer(id=1, name=jack)\n"
     ]
    }
   ],
   "source": [
    "# Read the data, similar to table queries (but not exactly)\n",
    "with orm.Session(con) as s, s.begin():\n",
    "    result =  s.execute(sa.select(Customer))\n",
    "    for row in result:\n",
    "        print(row[0])"
   ]
  },
  {
   "cell_type": "markdown",
   "id": "c469461d-4401-48d9-822d-4daa026aa6fb",
   "metadata": {},
   "source": [
    "-----\n",
    "The select query above can be a bit confusing.<br>\n",
    "In order to explain what's going on, it's a good idea to start with a bit of backgrounds.\n",
    "\n",
    "``sa.select(*columns) -> sa.Select`` provides the basic \"select\" statement.<br>\n",
    "Although an ORM model consists of multiple fields, it is treated as one field by the Session system.\n",
    "\n",
    "``Session.execute(query) -> Result`` takes the ORM based query and returns a custom iterator.\n",
    "\n",
    "``for row in results:`` tries to iterate over the result object.<br>\n",
    "By default, it will try to return tuples.<br>\n",
    "The number of items in ``sa.select(...)`` should always match the size of the tuple in the result.\n",
    "\n",
    "## Cleaner Query\n",
    "\n",
    "When iterating over the rows, the code keeps using the first column by its numeric index.<br>\n",
    "This isn't very clean.<br>\n",
    "SQL has something called a \"scalar\", which means \"the first column\".<br>\n",
    "SQLAlchemy has some syntax sugar for this on the Result object.\n",
    "\n",
    "``Result.scalar()`` first column of the first row (additional rows cannot be read afterwards)\n",
    "\n",
    "``Result.scalars()`` first column of all rows.\n",
    "\n",
    "When expecting multiple rows, just pick ``Result.scalars()``.\n",
    "\n",
    "**Technical Note:** Technically speaking, it's not a scalar. One ORM object consists of multiple columns.<br>\n",
    "However, ``sa.select()`` only got one argument. \n"
   ]
  },
  {
   "cell_type": "code",
   "execution_count": 8,
   "id": "48eaa710-cad4-402d-8d01-db742a3008f9",
   "metadata": {},
   "outputs": [
    {
     "name": "stdout",
     "output_type": "stream",
     "text": [
      "Customer(id=1, name=jack)\n"
     ]
    }
   ],
   "source": [
    "with orm.Session(con) as s, s.begin():\n",
    "    result =  s.execute(sa.select(Customer))\n",
    "    for customer in result.scalars():\n",
    "        print(customer)"
   ]
  },
  {
   "cell_type": "markdown",
   "id": "73e04711-c002-4b51-ae14-daa28ff7fc8d",
   "metadata": {},
   "source": [
    "# Sessions\n",
    "The previous examples glossed over the Session for a reason.<br>\n",
    "The session can be rather vague about *when* it is saving data, or rolling back.\n",
    "\n",
    "The following code keeps changing the name of an existing customer.<br>\n",
    "The thing to look for is a chunk of logging that both has an 'UPDATE' and a 'COMMIT'.\n",
    "\n",
    "SQLAlchemy recommends using a `sqlalchemy.orm.sessionmaker`.<br>\n",
    "This is ignored for now.\n",
    "\n",
    "The deep indentention exists for demonstration purposes.\n"
   ]
  },
  {
   "cell_type": "code",
   "execution_count": 79,
   "id": "6b802f54-268f-4873-b520-834340092085",
   "metadata": {},
   "outputs": [
    {
     "name": "stdout",
     "output_type": "stream",
     "text": [
      "Connection > Session\n",
      "\n",
      "BEGIN (implicit)\n",
      "SELECT customers.id, customers.name \n",
      "FROM customers\n",
      "[cached since 8229s ago] ()\n",
      "Hello Dave\n",
      "leaving session\n",
      "ROLLBACK\n",
      "--\n",
      "\n",
      "Connection > Session > SessionTransaction\n",
      "\n",
      "BEGIN (implicit)\n",
      "SELECT customers.id, customers.name \n",
      "FROM customers\n",
      "[cached since 8229s ago] ()\n",
      "Hello Dave\n",
      "leaving session-transaction\n",
      "UPDATE customers SET name=? WHERE customers.id = ?\n",
      "[cached since 8134s ago] ('Jack', 1)\n",
      "COMMIT\n",
      "leaving session\n",
      "--\n",
      "\n",
      "Connection > Transaction > Session\n",
      "\n",
      "BEGIN (implicit)\n",
      "SELECT customers.id, customers.name \n",
      "FROM customers\n",
      "[cached since 8229s ago] ()\n",
      "Hello Jack\n",
      "leaving session\n",
      "leaving transaction\n",
      "COMMIT\n",
      "--\n",
      "\n",
      "Connection> Transaction > Session > SessionTransaction\n",
      "\n",
      "BEGIN (implicit)\n",
      "SELECT customers.id, customers.name \n",
      "FROM customers\n",
      "[cached since 8229s ago] ()\n",
      "Hello Jack\n",
      "leaving session-transaction\n",
      "UPDATE customers SET name=? WHERE customers.id = ?\n",
      "[cached since 8134s ago] ('Dave', 1)\n",
      "leaving session\n",
      "leaving transaction\n",
      "COMMIT\n"
     ]
    }
   ],
   "source": [
    "name_change = {'Dave': 'Jack', 'Jack': 'Dave'}\n",
    "\n",
    "print('Connection > Session\\n')\n",
    "with logs():\n",
    "    with orm.Session(con) as s:\n",
    "        customer = s.scalar(sa.select(Customer))\n",
    "        print('Hello', customer.name)\n",
    "        customer.name = name_change[customer.name]\n",
    "        print('leaving session')\n",
    "\n",
    "print('--\\n\\nConnection > Session > SessionTransaction\\n')\n",
    "with logs():\n",
    "    with orm.Session(con) as s:\n",
    "        with s.begin() as session_transaction:\n",
    "            customer = s.scalar(sa.select(Customer))\n",
    "            print('Hello', customer.name)\n",
    "            customer.name = name_change[customer.name]\n",
    "            print('leaving session-transaction')\n",
    "        print('leaving session')\n",
    "\n",
    "print('--\\n\\nConnection > Transaction > Session\\n')\n",
    "with logs():\n",
    "    with con.begin() as transaction:\n",
    "        with orm.Session(con) as s:\n",
    "            customer = s.scalar(sa.select(Customer))\n",
    "            print('Hello', customer.name)\n",
    "            customer.name = name_change[customer.name]\n",
    "            print('leaving session')\n",
    "        print('leaving transaction')\n",
    "\n",
    "print('--\\n\\nConnection> Transaction > Session > SessionTransaction\\n')\n",
    "with logs():\n",
    "    with con.begin() as transaction:\n",
    "        with orm.Session(con) as s:\n",
    "            with s.begin() as session_transaction:\n",
    "                customer = s.scalar(sa.select(Customer))\n",
    "                print('Hello', customer.name)\n",
    "                customer.name = name_change[customer.name]\n",
    "                print('leaving session-transaction')\n",
    "            print('leaving session')\n",
    "        print('leaving transaction')\n"
   ]
  },
  {
   "cell_type": "markdown",
   "id": "bc2fecc6-8b87-4e2c-9fff-d2f13098d927",
   "metadata": {},
   "source": [
    "-----\n",
    "In conclusion, starting a SessionTransaction (by using `session.begin()`) is the only surefire way to get data committed properly.<br>\n",
    "Although not extremely clean, this can be setup in one line:\n",
    "```python\n",
    "with con.transaction(), Session(con) as session, session.begin():\n",
    "    ...\n",
    "```\n",
    "\n",
    "If a SessionTransaction cannot be started in this manner, calling `session.commit()` will execute the necessary update queries.<br>\n",
    "These updates still have to be comitted by using either `connection.commit()` or automatically through the transaction from `connection.begin()`.\n",
    "\n"
   ]
  },
  {
   "cell_type": "markdown",
   "id": "7b3eaebb-888c-4408-9c9c-5f43d195670a",
   "metadata": {},
   "source": [
    "### Instance member vs Class member\n",
    "SQLAlchemy utilizes the feature of class members.\n",
    "\n",
    "Using the `Customer` model above as an example, accessing the `.name` on an instance will give the expected value (a string).\n",
    "\n",
    "When accessing it via the class, as `Customer.name`, it returns an instance of `InstrumentedAttribute`.\n",
    "\n",
    "That `InstrumentedAttribute` can be used to build a query.\n",
    "When used in expressions (like `Customer.id < 5`) it returns an SQL-compatible Expression.\n",
    "This is how access via class is used to create parts of a query.\n",
    "This is further explained in the section about 'Select'."
   ]
  },
  {
   "cell_type": "code",
   "execution_count": 14,
   "id": "10d3e702-b915-43b6-9a0a-b0c6c857a9bb",
   "metadata": {},
   "outputs": [
    {
     "name": "stdout",
     "output_type": "stream",
     "text": [
      "BEGIN (implicit)\n",
      "SELECT customers.id, customers.name \n",
      "FROM customers\n",
      "[cached since 30.55s ago] ()\n",
      "Customer(id=1, name=jack)\n",
      "ROLLBACK\n"
     ]
    }
   ],
   "source": [
    "with logs(), orm.Session(con) as s:\n",
    "    result =  s.execute(sa.select(Customer))\n",
    "    for customer in result.scalars():\n",
    "        print(customer)"
   ]
  },
  {
   "cell_type": "markdown",
   "id": "bad9fd17-2b61-4eaa-aed2-a905921d9b74",
   "metadata": {},
   "source": [
    "### Default Values\n",
    "(onupdate, server_default, default)\n"
   ]
  },
  {
   "cell_type": "code",
   "execution_count": 81,
   "id": "55e69936-5d6f-4dc1-b8bd-4d7205755323",
   "metadata": {},
   "outputs": [],
   "source": [
    "class Product(Base):\n",
    "    __tablename__ = 'products'\n",
    "    id = sa.Column('id', sa.Integer, primary_key=True, autoincrement=True)\n",
    "    name = sa.Column('name', sa.VARCHAR(255), default=None, nullable=True)\n",
    "    price = sa.Column('price', sa.Double)\n",
    "    deleted = sa.Column('deleted', sa.Boolean, default=False)\n",
    "    created = sa.Column('created', sa.DateTime, server_default=sa.text('current_timestamp'))  # SQLite specific\n",
    "    updated = sa.Column('updated', sa.DateTime, onupdate=sa.func.now())  # Application Logic\n"
   ]
  },
  {
   "cell_type": "code",
   "execution_count": 8,
   "id": "d38a4688-46af-4b8b-9e32-0ce6953f93b1",
   "metadata": {},
   "outputs": [],
   "source": [
    "con = engine.connect()\n",
    "Base.metadata.create_all(con)"
   ]
  },
  {
   "cell_type": "code",
   "execution_count": 15,
   "id": "19956760-fc6c-4113-95e1-98f2eee16f6a",
   "metadata": {},
   "outputs": [
    {
     "name": "stdout",
     "output_type": "stream",
     "text": [
      "(1, 'jack')\n",
      "(2, 'john')\n",
      "(3, 'jack')\n",
      "(4, 'john')\n",
      "True\n"
     ]
    }
   ],
   "source": [
    "for row in con.execute(sa.select(Customer)):\n",
    "    print(row)\n",
    "print(con.in_transaction())"
   ]
  },
  {
   "cell_type": "code",
   "execution_count": null,
   "id": "5d9fa881-b852-420a-89c5-462989884cc4",
   "metadata": {},
   "outputs": [],
   "source": [
    "if con.in_transaction():\n",
    "    con.commit()\n",
    "print(con.in_transaction())\n",
    "print('dialect', con.dialect.name)"
   ]
  },
  {
   "cell_type": "markdown",
   "id": "b5e53252-b997-46b2-974d-800f0723b1f6",
   "metadata": {},
   "source": [
    "## Insert\n",
    "Before diving into `sqlalchemy.select(...)` statements, there has to be data added to the database.\n",
    "\n",
    "**Note:** It is desirable to explicitly commit (in general).\n",
    "\n",
    "For the sake of this notebook, the automatic rollback gets used everywhere.\n",
    "This way SQL queries can be shown (via `with logs()`) without completely tainting the database."
   ]
  },
  {
   "cell_type": "code",
   "execution_count": 16,
   "id": "68e8da3c-4e9f-4b36-bcb8-cc14983612b9",
   "metadata": {},
   "outputs": [
    {
     "name": "stdout",
     "output_type": "stream",
     "text": [
      "(<__main__.Customer object at 0x0000023049891130>,)\n",
      "(<__main__.Customer object at 0x0000023049891160>,)\n",
      "(<__main__.Customer object at 0x0000023049891190>,)\n",
      "(<__main__.Customer object at 0x00000230498911C0>,)\n",
      "(<__main__.Customer object at 0x00000230498911F0>,)\n",
      "(<__main__.Customer object at 0x0000023049891220>,)\n"
     ]
    }
   ],
   "source": [
    "with orm.Session(con) as s:\n",
    "    obj = sa.insert(Customer).values([dict(name='jack'), dict(name='john')])\n",
    "    s.execute(obj)\n",
    "    # s.commit()\n",
    "with orm.Session(con) as s:\n",
    "    for row in s.execute(sa.select(Customer)):\n",
    "        print(row)"
   ]
  },
  {
   "cell_type": "markdown",
   "id": "f6a3967d-d2eb-4c07-9e9f-c69e520fe172",
   "metadata": {},
   "source": [
    "### Using Instances (and object-lifetime / expire_on_commit)\n",
    "Most ORMs are centered around instances, and SQLAlchemy offers simular features.\n",
    "\n",
    "When an instance is initiallized manually, it is considered a new instance.\n",
    "\n",
    "Instances do not have a ``.save()`` method, and instead SQLAlchemy provides a ``session.add(instance)`` system.\n",
    "\n",
    "**However:** When the session has been comitted, the instances are considered 'expired'.\n",
    "That means further use of the instances will cause a 'refetch' of data from the database."
   ]
  },
  {
   "cell_type": "code",
   "execution_count": null,
   "id": "4dea9403-fec4-49e7-a8e8-0757974a9a65",
   "metadata": {},
   "outputs": [],
   "source": [
    "with logs(), orm.Session(con) as session:\n",
    "    customer = Customer(name='Jack')\n",
    "    apple = Product(name='Apple')\n",
    "    pear = Product(name='Pear')\n",
    "    print(apple.id, apple)\n",
    "    session.add(customer)\n",
    "    session.add(apple)\n",
    "    session.add(pear)\n",
    "    session.commit()\n",
    "    # **Note:** Turn on logging to see the queries fired between print statements.\n",
    "    print('--- divider, queries below got executed on demand ---')\n",
    "    print('>>', customer.name)\n",
    "    print('>>', apple.name)\n",
    "    print('>>', pear.name)"
   ]
  },
  {
   "cell_type": "markdown",
   "id": "88b28168-41d4-4ed7-9d1e-4bb2c793111a",
   "metadata": {},
   "source": [
    "The alternative is turning off 'expire_on_commit'.\n",
    "The idea is that the objects are \"close enough\", that they don't need refetching.\n",
    "Do note that the ``flush()/commit ()`` does not optimize the query, and is inserting in multiple steps so the ID does get returned."
   ]
  },
  {
   "cell_type": "code",
   "execution_count": 82,
   "id": "3741702d-1d63-460d-9814-226167b4824f",
   "metadata": {},
   "outputs": [
    {
     "name": "stdout",
     "output_type": "stream",
     "text": [
      "BEGIN (implicit)\n",
      "INSERT INTO customers (name) VALUES (?)\n",
      "[cached since 9603s ago] ('Jack',)\n",
      "INSERT INTO products (name, price, deleted, updated) VALUES (?, ?, ?, ?) RETURNING id, created\n",
      "[generated in 0.00030s (insertmanyvalues) 1/2 (ordered; batch not supported)] ('Apple', None, 0, None)\n",
      "ROLLBACK\n"
     ]
    },
    {
     "ename": "OperationalError",
     "evalue": "(sqlite3.OperationalError) no such table: products\n[SQL: INSERT INTO products (name, price, deleted, updated) VALUES (?, ?, ?, ?) RETURNING id, created]\n[parameters: ('Apple', None, 0, None)]\n(Background on this error at: https://sqlalche.me/e/20/e3q8)",
     "output_type": "error",
     "traceback": [
      "\u001b[1;31m---------------------------------------------------------------------------\u001b[0m",
      "\u001b[1;31mOperationalError\u001b[0m                          Traceback (most recent call last)",
      "File \u001b[1;32mD:\\Cloud\\Git\\docs-sqlalchemy\\venv\\Lib\\site-packages\\sqlalchemy\\engine\\base.py:2120\u001b[0m, in \u001b[0;36mConnection._exec_insertmany_context\u001b[1;34m(self, dialect, context)\u001b[0m\n\u001b[0;32m   2119\u001b[0m     \u001b[38;5;28;01melse\u001b[39;00m:\n\u001b[1;32m-> 2120\u001b[0m         \u001b[43mdialect\u001b[49m\u001b[38;5;241;43m.\u001b[39;49m\u001b[43mdo_execute\u001b[49m\u001b[43m(\u001b[49m\n\u001b[0;32m   2121\u001b[0m \u001b[43m            \u001b[49m\u001b[43mcursor\u001b[49m\u001b[43m,\u001b[49m\n\u001b[0;32m   2122\u001b[0m \u001b[43m            \u001b[49m\u001b[43msub_stmt\u001b[49m\u001b[43m,\u001b[49m\n\u001b[0;32m   2123\u001b[0m \u001b[43m            \u001b[49m\u001b[43msub_params\u001b[49m\u001b[43m,\u001b[49m\n\u001b[0;32m   2124\u001b[0m \u001b[43m            \u001b[49m\u001b[43mcontext\u001b[49m\u001b[43m,\u001b[49m\n\u001b[0;32m   2125\u001b[0m \u001b[43m        \u001b[49m\u001b[43m)\u001b[49m\n\u001b[0;32m   2127\u001b[0m \u001b[38;5;28;01mexcept\u001b[39;00m \u001b[38;5;167;01mBaseException\u001b[39;00m \u001b[38;5;28;01mas\u001b[39;00m e:\n",
      "File \u001b[1;32mD:\\Cloud\\Git\\docs-sqlalchemy\\venv\\Lib\\site-packages\\sqlalchemy\\engine\\default.py:919\u001b[0m, in \u001b[0;36mDefaultDialect.do_execute\u001b[1;34m(self, cursor, statement, parameters, context)\u001b[0m\n\u001b[0;32m    918\u001b[0m \u001b[38;5;28;01mdef\u001b[39;00m \u001b[38;5;21mdo_execute\u001b[39m(\u001b[38;5;28mself\u001b[39m, cursor, statement, parameters, context\u001b[38;5;241m=\u001b[39m\u001b[38;5;28;01mNone\u001b[39;00m):\n\u001b[1;32m--> 919\u001b[0m     \u001b[43mcursor\u001b[49m\u001b[38;5;241;43m.\u001b[39;49m\u001b[43mexecute\u001b[49m\u001b[43m(\u001b[49m\u001b[43mstatement\u001b[49m\u001b[43m,\u001b[49m\u001b[43m \u001b[49m\u001b[43mparameters\u001b[49m\u001b[43m)\u001b[49m\n",
      "\u001b[1;31mOperationalError\u001b[0m: no such table: products",
      "\nThe above exception was the direct cause of the following exception:\n",
      "\u001b[1;31mOperationalError\u001b[0m                          Traceback (most recent call last)",
      "Cell \u001b[1;32mIn[82], line 8\u001b[0m\n\u001b[0;32m      6\u001b[0m     pear \u001b[38;5;241m=\u001b[39m Product(name\u001b[38;5;241m=\u001b[39m\u001b[38;5;124m'\u001b[39m\u001b[38;5;124mPear\u001b[39m\u001b[38;5;124m'\u001b[39m)\n\u001b[0;32m      7\u001b[0m     session\u001b[38;5;241m.\u001b[39madd_all([customer, apple, pear])\n\u001b[1;32m----> 8\u001b[0m     \u001b[43msession\u001b[49m\u001b[38;5;241;43m.\u001b[39;49m\u001b[43mflush\u001b[49m\u001b[43m(\u001b[49m\u001b[43m)\u001b[49m\n\u001b[0;32m      9\u001b[0m     session\u001b[38;5;241m.\u001b[39mcommit()\n\u001b[0;32m     11\u001b[0m \u001b[38;5;28mprint\u001b[39m(\u001b[38;5;124m'\u001b[39m\u001b[38;5;124m--- out of session scope---\u001b[39m\u001b[38;5;124m'\u001b[39m)\n",
      "File \u001b[1;32mD:\\Cloud\\Git\\docs-sqlalchemy\\venv\\Lib\\site-packages\\sqlalchemy\\orm\\session.py:4296\u001b[0m, in \u001b[0;36mSession.flush\u001b[1;34m(self, objects)\u001b[0m\n\u001b[0;32m   4294\u001b[0m \u001b[38;5;28;01mtry\u001b[39;00m:\n\u001b[0;32m   4295\u001b[0m     \u001b[38;5;28mself\u001b[39m\u001b[38;5;241m.\u001b[39m_flushing \u001b[38;5;241m=\u001b[39m \u001b[38;5;28;01mTrue\u001b[39;00m\n\u001b[1;32m-> 4296\u001b[0m     \u001b[38;5;28;43mself\u001b[39;49m\u001b[38;5;241;43m.\u001b[39;49m\u001b[43m_flush\u001b[49m\u001b[43m(\u001b[49m\u001b[43mobjects\u001b[49m\u001b[43m)\u001b[49m\n\u001b[0;32m   4297\u001b[0m \u001b[38;5;28;01mfinally\u001b[39;00m:\n\u001b[0;32m   4298\u001b[0m     \u001b[38;5;28mself\u001b[39m\u001b[38;5;241m.\u001b[39m_flushing \u001b[38;5;241m=\u001b[39m \u001b[38;5;28;01mFalse\u001b[39;00m\n",
      "File \u001b[1;32mD:\\Cloud\\Git\\docs-sqlalchemy\\venv\\Lib\\site-packages\\sqlalchemy\\orm\\session.py:4431\u001b[0m, in \u001b[0;36mSession._flush\u001b[1;34m(self, objects)\u001b[0m\n\u001b[0;32m   4428\u001b[0m     transaction\u001b[38;5;241m.\u001b[39mcommit()\n\u001b[0;32m   4430\u001b[0m \u001b[38;5;28;01mexcept\u001b[39;00m:\n\u001b[1;32m-> 4431\u001b[0m \u001b[43m    \u001b[49m\u001b[38;5;28;43;01mwith\u001b[39;49;00m\u001b[43m \u001b[49m\u001b[43mutil\u001b[49m\u001b[38;5;241;43m.\u001b[39;49m\u001b[43msafe_reraise\u001b[49m\u001b[43m(\u001b[49m\u001b[43m)\u001b[49m\u001b[43m:\u001b[49m\n\u001b[0;32m   4432\u001b[0m \u001b[43m        \u001b[49m\u001b[43mtransaction\u001b[49m\u001b[38;5;241;43m.\u001b[39;49m\u001b[43mrollback\u001b[49m\u001b[43m(\u001b[49m\u001b[43m_capture_exception\u001b[49m\u001b[38;5;241;43m=\u001b[39;49m\u001b[38;5;28;43;01mTrue\u001b[39;49;00m\u001b[43m)\u001b[49m\n",
      "File \u001b[1;32mD:\\Cloud\\Git\\docs-sqlalchemy\\venv\\Lib\\site-packages\\sqlalchemy\\util\\langhelpers.py:146\u001b[0m, in \u001b[0;36msafe_reraise.__exit__\u001b[1;34m(self, type_, value, traceback)\u001b[0m\n\u001b[0;32m    144\u001b[0m     \u001b[38;5;28;01massert\u001b[39;00m exc_value \u001b[38;5;129;01mis\u001b[39;00m \u001b[38;5;129;01mnot\u001b[39;00m \u001b[38;5;28;01mNone\u001b[39;00m\n\u001b[0;32m    145\u001b[0m     \u001b[38;5;28mself\u001b[39m\u001b[38;5;241m.\u001b[39m_exc_info \u001b[38;5;241m=\u001b[39m \u001b[38;5;28;01mNone\u001b[39;00m  \u001b[38;5;66;03m# remove potential circular references\u001b[39;00m\n\u001b[1;32m--> 146\u001b[0m     \u001b[38;5;28;01mraise\u001b[39;00m exc_value\u001b[38;5;241m.\u001b[39mwith_traceback(exc_tb)\n\u001b[0;32m    147\u001b[0m \u001b[38;5;28;01melse\u001b[39;00m:\n\u001b[0;32m    148\u001b[0m     \u001b[38;5;28mself\u001b[39m\u001b[38;5;241m.\u001b[39m_exc_info \u001b[38;5;241m=\u001b[39m \u001b[38;5;28;01mNone\u001b[39;00m  \u001b[38;5;66;03m# remove potential circular references\u001b[39;00m\n",
      "File \u001b[1;32mD:\\Cloud\\Git\\docs-sqlalchemy\\venv\\Lib\\site-packages\\sqlalchemy\\orm\\session.py:4392\u001b[0m, in \u001b[0;36mSession._flush\u001b[1;34m(self, objects)\u001b[0m\n\u001b[0;32m   4390\u001b[0m \u001b[38;5;28mself\u001b[39m\u001b[38;5;241m.\u001b[39m_warn_on_events \u001b[38;5;241m=\u001b[39m \u001b[38;5;28;01mTrue\u001b[39;00m\n\u001b[0;32m   4391\u001b[0m \u001b[38;5;28;01mtry\u001b[39;00m:\n\u001b[1;32m-> 4392\u001b[0m     \u001b[43mflush_context\u001b[49m\u001b[38;5;241;43m.\u001b[39;49m\u001b[43mexecute\u001b[49m\u001b[43m(\u001b[49m\u001b[43m)\u001b[49m\n\u001b[0;32m   4393\u001b[0m \u001b[38;5;28;01mfinally\u001b[39;00m:\n\u001b[0;32m   4394\u001b[0m     \u001b[38;5;28mself\u001b[39m\u001b[38;5;241m.\u001b[39m_warn_on_events \u001b[38;5;241m=\u001b[39m \u001b[38;5;28;01mFalse\u001b[39;00m\n",
      "File \u001b[1;32mD:\\Cloud\\Git\\docs-sqlalchemy\\venv\\Lib\\site-packages\\sqlalchemy\\orm\\unitofwork.py:466\u001b[0m, in \u001b[0;36mUOWTransaction.execute\u001b[1;34m(self)\u001b[0m\n\u001b[0;32m    464\u001b[0m \u001b[38;5;28;01melse\u001b[39;00m:\n\u001b[0;32m    465\u001b[0m     \u001b[38;5;28;01mfor\u001b[39;00m rec \u001b[38;5;129;01min\u001b[39;00m topological\u001b[38;5;241m.\u001b[39msort(\u001b[38;5;28mself\u001b[39m\u001b[38;5;241m.\u001b[39mdependencies, postsort_actions):\n\u001b[1;32m--> 466\u001b[0m         \u001b[43mrec\u001b[49m\u001b[38;5;241;43m.\u001b[39;49m\u001b[43mexecute\u001b[49m\u001b[43m(\u001b[49m\u001b[38;5;28;43mself\u001b[39;49m\u001b[43m)\u001b[49m\n",
      "File \u001b[1;32mD:\\Cloud\\Git\\docs-sqlalchemy\\venv\\Lib\\site-packages\\sqlalchemy\\orm\\unitofwork.py:642\u001b[0m, in \u001b[0;36mSaveUpdateAll.execute\u001b[1;34m(self, uow)\u001b[0m\n\u001b[0;32m    640\u001b[0m \u001b[38;5;129m@util\u001b[39m\u001b[38;5;241m.\u001b[39mpreload_module(\u001b[38;5;124m\"\u001b[39m\u001b[38;5;124msqlalchemy.orm.persistence\u001b[39m\u001b[38;5;124m\"\u001b[39m)\n\u001b[0;32m    641\u001b[0m \u001b[38;5;28;01mdef\u001b[39;00m \u001b[38;5;21mexecute\u001b[39m(\u001b[38;5;28mself\u001b[39m, uow):\n\u001b[1;32m--> 642\u001b[0m     \u001b[43mutil\u001b[49m\u001b[38;5;241;43m.\u001b[39;49m\u001b[43mpreloaded\u001b[49m\u001b[38;5;241;43m.\u001b[39;49m\u001b[43morm_persistence\u001b[49m\u001b[38;5;241;43m.\u001b[39;49m\u001b[43msave_obj\u001b[49m\u001b[43m(\u001b[49m\n\u001b[0;32m    643\u001b[0m \u001b[43m        \u001b[49m\u001b[38;5;28;43mself\u001b[39;49m\u001b[38;5;241;43m.\u001b[39;49m\u001b[43mmapper\u001b[49m\u001b[43m,\u001b[49m\n\u001b[0;32m    644\u001b[0m \u001b[43m        \u001b[49m\u001b[43muow\u001b[49m\u001b[38;5;241;43m.\u001b[39;49m\u001b[43mstates_for_mapper_hierarchy\u001b[49m\u001b[43m(\u001b[49m\u001b[38;5;28;43mself\u001b[39;49m\u001b[38;5;241;43m.\u001b[39;49m\u001b[43mmapper\u001b[49m\u001b[43m,\u001b[49m\u001b[43m \u001b[49m\u001b[38;5;28;43;01mFalse\u001b[39;49;00m\u001b[43m,\u001b[49m\u001b[43m \u001b[49m\u001b[38;5;28;43;01mFalse\u001b[39;49;00m\u001b[43m)\u001b[49m\u001b[43m,\u001b[49m\n\u001b[0;32m    645\u001b[0m \u001b[43m        \u001b[49m\u001b[43muow\u001b[49m\u001b[43m,\u001b[49m\n\u001b[0;32m    646\u001b[0m \u001b[43m    \u001b[49m\u001b[43m)\u001b[49m\n",
      "File \u001b[1;32mD:\\Cloud\\Git\\docs-sqlalchemy\\venv\\Lib\\site-packages\\sqlalchemy\\orm\\persistence.py:93\u001b[0m, in \u001b[0;36msave_obj\u001b[1;34m(base_mapper, states, uowtransaction, single)\u001b[0m\n\u001b[0;32m     81\u001b[0m     update \u001b[38;5;241m=\u001b[39m _collect_update_commands(\n\u001b[0;32m     82\u001b[0m         uowtransaction, table, states_to_update\n\u001b[0;32m     83\u001b[0m     )\n\u001b[0;32m     85\u001b[0m     _emit_update_statements(\n\u001b[0;32m     86\u001b[0m         base_mapper,\n\u001b[0;32m     87\u001b[0m         uowtransaction,\n\u001b[1;32m   (...)\u001b[0m\n\u001b[0;32m     90\u001b[0m         update,\n\u001b[0;32m     91\u001b[0m     )\n\u001b[1;32m---> 93\u001b[0m     \u001b[43m_emit_insert_statements\u001b[49m\u001b[43m(\u001b[49m\n\u001b[0;32m     94\u001b[0m \u001b[43m        \u001b[49m\u001b[43mbase_mapper\u001b[49m\u001b[43m,\u001b[49m\n\u001b[0;32m     95\u001b[0m \u001b[43m        \u001b[49m\u001b[43muowtransaction\u001b[49m\u001b[43m,\u001b[49m\n\u001b[0;32m     96\u001b[0m \u001b[43m        \u001b[49m\u001b[43mmapper\u001b[49m\u001b[43m,\u001b[49m\n\u001b[0;32m     97\u001b[0m \u001b[43m        \u001b[49m\u001b[43mtable\u001b[49m\u001b[43m,\u001b[49m\n\u001b[0;32m     98\u001b[0m \u001b[43m        \u001b[49m\u001b[43minsert\u001b[49m\u001b[43m,\u001b[49m\n\u001b[0;32m     99\u001b[0m \u001b[43m    \u001b[49m\u001b[43m)\u001b[49m\n\u001b[0;32m    101\u001b[0m _finalize_insert_update_commands(\n\u001b[0;32m    102\u001b[0m     base_mapper,\n\u001b[0;32m    103\u001b[0m     uowtransaction,\n\u001b[1;32m   (...)\u001b[0m\n\u001b[0;32m    119\u001b[0m     ),\n\u001b[0;32m    120\u001b[0m )\n",
      "File \u001b[1;32mD:\\Cloud\\Git\\docs-sqlalchemy\\venv\\Lib\\site-packages\\sqlalchemy\\orm\\persistence.py:1143\u001b[0m, in \u001b[0;36m_emit_insert_statements\u001b[1;34m(base_mapper, uowtransaction, mapper, table, insert, bookkeeping, use_orm_insert_stmt, execution_options)\u001b[0m\n\u001b[0;32m   1140\u001b[0m \u001b[38;5;28;01mif\u001b[39;00m do_executemany:\n\u001b[0;32m   1141\u001b[0m     multiparams \u001b[38;5;241m=\u001b[39m [rec[\u001b[38;5;241m2\u001b[39m] \u001b[38;5;28;01mfor\u001b[39;00m rec \u001b[38;5;129;01min\u001b[39;00m records]\n\u001b[1;32m-> 1143\u001b[0m     result \u001b[38;5;241m=\u001b[39m \u001b[43mconnection\u001b[49m\u001b[38;5;241;43m.\u001b[39;49m\u001b[43mexecute\u001b[49m\u001b[43m(\u001b[49m\n\u001b[0;32m   1144\u001b[0m \u001b[43m        \u001b[49m\u001b[43mstatement\u001b[49m\u001b[43m,\u001b[49m\u001b[43m \u001b[49m\u001b[43mmultiparams\u001b[49m\u001b[43m,\u001b[49m\u001b[43m \u001b[49m\u001b[43mexecution_options\u001b[49m\u001b[38;5;241;43m=\u001b[39;49m\u001b[43mexecution_options\u001b[49m\n\u001b[0;32m   1145\u001b[0m \u001b[43m    \u001b[49m\u001b[43m)\u001b[49m\n\u001b[0;32m   1147\u001b[0m     \u001b[38;5;28;01mif\u001b[39;00m use_orm_insert_stmt \u001b[38;5;129;01mis\u001b[39;00m \u001b[38;5;129;01mnot\u001b[39;00m \u001b[38;5;28;01mNone\u001b[39;00m:\n\u001b[0;32m   1148\u001b[0m         \u001b[38;5;28;01mif\u001b[39;00m return_result \u001b[38;5;129;01mis\u001b[39;00m \u001b[38;5;28;01mNone\u001b[39;00m:\n",
      "File \u001b[1;32mD:\\Cloud\\Git\\docs-sqlalchemy\\venv\\Lib\\site-packages\\sqlalchemy\\engine\\base.py:1422\u001b[0m, in \u001b[0;36mConnection.execute\u001b[1;34m(self, statement, parameters, execution_options)\u001b[0m\n\u001b[0;32m   1420\u001b[0m     \u001b[38;5;28;01mraise\u001b[39;00m exc\u001b[38;5;241m.\u001b[39mObjectNotExecutableError(statement) \u001b[38;5;28;01mfrom\u001b[39;00m \u001b[38;5;21;01merr\u001b[39;00m\n\u001b[0;32m   1421\u001b[0m \u001b[38;5;28;01melse\u001b[39;00m:\n\u001b[1;32m-> 1422\u001b[0m     \u001b[38;5;28;01mreturn\u001b[39;00m \u001b[43mmeth\u001b[49m\u001b[43m(\u001b[49m\n\u001b[0;32m   1423\u001b[0m \u001b[43m        \u001b[49m\u001b[38;5;28;43mself\u001b[39;49m\u001b[43m,\u001b[49m\n\u001b[0;32m   1424\u001b[0m \u001b[43m        \u001b[49m\u001b[43mdistilled_parameters\u001b[49m\u001b[43m,\u001b[49m\n\u001b[0;32m   1425\u001b[0m \u001b[43m        \u001b[49m\u001b[43mexecution_options\u001b[49m\u001b[43m \u001b[49m\u001b[38;5;129;43;01mor\u001b[39;49;00m\u001b[43m \u001b[49m\u001b[43mNO_OPTIONS\u001b[49m\u001b[43m,\u001b[49m\n\u001b[0;32m   1426\u001b[0m \u001b[43m    \u001b[49m\u001b[43m)\u001b[49m\n",
      "File \u001b[1;32mD:\\Cloud\\Git\\docs-sqlalchemy\\venv\\Lib\\site-packages\\sqlalchemy\\sql\\elements.py:514\u001b[0m, in \u001b[0;36mClauseElement._execute_on_connection\u001b[1;34m(self, connection, distilled_params, execution_options)\u001b[0m\n\u001b[0;32m    512\u001b[0m     \u001b[38;5;28;01mif\u001b[39;00m TYPE_CHECKING:\n\u001b[0;32m    513\u001b[0m         \u001b[38;5;28;01massert\u001b[39;00m \u001b[38;5;28misinstance\u001b[39m(\u001b[38;5;28mself\u001b[39m, Executable)\n\u001b[1;32m--> 514\u001b[0m     \u001b[38;5;28;01mreturn\u001b[39;00m \u001b[43mconnection\u001b[49m\u001b[38;5;241;43m.\u001b[39;49m\u001b[43m_execute_clauseelement\u001b[49m\u001b[43m(\u001b[49m\n\u001b[0;32m    515\u001b[0m \u001b[43m        \u001b[49m\u001b[38;5;28;43mself\u001b[39;49m\u001b[43m,\u001b[49m\u001b[43m \u001b[49m\u001b[43mdistilled_params\u001b[49m\u001b[43m,\u001b[49m\u001b[43m \u001b[49m\u001b[43mexecution_options\u001b[49m\n\u001b[0;32m    516\u001b[0m \u001b[43m    \u001b[49m\u001b[43m)\u001b[49m\n\u001b[0;32m    517\u001b[0m \u001b[38;5;28;01melse\u001b[39;00m:\n\u001b[0;32m    518\u001b[0m     \u001b[38;5;28;01mraise\u001b[39;00m exc\u001b[38;5;241m.\u001b[39mObjectNotExecutableError(\u001b[38;5;28mself\u001b[39m)\n",
      "File \u001b[1;32mD:\\Cloud\\Git\\docs-sqlalchemy\\venv\\Lib\\site-packages\\sqlalchemy\\engine\\base.py:1644\u001b[0m, in \u001b[0;36mConnection._execute_clauseelement\u001b[1;34m(self, elem, distilled_parameters, execution_options)\u001b[0m\n\u001b[0;32m   1632\u001b[0m compiled_cache: Optional[CompiledCacheType] \u001b[38;5;241m=\u001b[39m execution_options\u001b[38;5;241m.\u001b[39mget(\n\u001b[0;32m   1633\u001b[0m     \u001b[38;5;124m\"\u001b[39m\u001b[38;5;124mcompiled_cache\u001b[39m\u001b[38;5;124m\"\u001b[39m, \u001b[38;5;28mself\u001b[39m\u001b[38;5;241m.\u001b[39mengine\u001b[38;5;241m.\u001b[39m_compiled_cache\n\u001b[0;32m   1634\u001b[0m )\n\u001b[0;32m   1636\u001b[0m compiled_sql, extracted_params, cache_hit \u001b[38;5;241m=\u001b[39m elem\u001b[38;5;241m.\u001b[39m_compile_w_cache(\n\u001b[0;32m   1637\u001b[0m     dialect\u001b[38;5;241m=\u001b[39mdialect,\n\u001b[0;32m   1638\u001b[0m     compiled_cache\u001b[38;5;241m=\u001b[39mcompiled_cache,\n\u001b[1;32m   (...)\u001b[0m\n\u001b[0;32m   1642\u001b[0m     linting\u001b[38;5;241m=\u001b[39m\u001b[38;5;28mself\u001b[39m\u001b[38;5;241m.\u001b[39mdialect\u001b[38;5;241m.\u001b[39mcompiler_linting \u001b[38;5;241m|\u001b[39m compiler\u001b[38;5;241m.\u001b[39mWARN_LINTING,\n\u001b[0;32m   1643\u001b[0m )\n\u001b[1;32m-> 1644\u001b[0m ret \u001b[38;5;241m=\u001b[39m \u001b[38;5;28;43mself\u001b[39;49m\u001b[38;5;241;43m.\u001b[39;49m\u001b[43m_execute_context\u001b[49m\u001b[43m(\u001b[49m\n\u001b[0;32m   1645\u001b[0m \u001b[43m    \u001b[49m\u001b[43mdialect\u001b[49m\u001b[43m,\u001b[49m\n\u001b[0;32m   1646\u001b[0m \u001b[43m    \u001b[49m\u001b[43mdialect\u001b[49m\u001b[38;5;241;43m.\u001b[39;49m\u001b[43mexecution_ctx_cls\u001b[49m\u001b[38;5;241;43m.\u001b[39;49m\u001b[43m_init_compiled\u001b[49m\u001b[43m,\u001b[49m\n\u001b[0;32m   1647\u001b[0m \u001b[43m    \u001b[49m\u001b[43mcompiled_sql\u001b[49m\u001b[43m,\u001b[49m\n\u001b[0;32m   1648\u001b[0m \u001b[43m    \u001b[49m\u001b[43mdistilled_parameters\u001b[49m\u001b[43m,\u001b[49m\n\u001b[0;32m   1649\u001b[0m \u001b[43m    \u001b[49m\u001b[43mexecution_options\u001b[49m\u001b[43m,\u001b[49m\n\u001b[0;32m   1650\u001b[0m \u001b[43m    \u001b[49m\u001b[43mcompiled_sql\u001b[49m\u001b[43m,\u001b[49m\n\u001b[0;32m   1651\u001b[0m \u001b[43m    \u001b[49m\u001b[43mdistilled_parameters\u001b[49m\u001b[43m,\u001b[49m\n\u001b[0;32m   1652\u001b[0m \u001b[43m    \u001b[49m\u001b[43melem\u001b[49m\u001b[43m,\u001b[49m\n\u001b[0;32m   1653\u001b[0m \u001b[43m    \u001b[49m\u001b[43mextracted_params\u001b[49m\u001b[43m,\u001b[49m\n\u001b[0;32m   1654\u001b[0m \u001b[43m    \u001b[49m\u001b[43mcache_hit\u001b[49m\u001b[38;5;241;43m=\u001b[39;49m\u001b[43mcache_hit\u001b[49m\u001b[43m,\u001b[49m\n\u001b[0;32m   1655\u001b[0m \u001b[43m\u001b[49m\u001b[43m)\u001b[49m\n\u001b[0;32m   1656\u001b[0m \u001b[38;5;28;01mif\u001b[39;00m has_events:\n\u001b[0;32m   1657\u001b[0m     \u001b[38;5;28mself\u001b[39m\u001b[38;5;241m.\u001b[39mdispatch\u001b[38;5;241m.\u001b[39mafter_execute(\n\u001b[0;32m   1658\u001b[0m         \u001b[38;5;28mself\u001b[39m,\n\u001b[0;32m   1659\u001b[0m         elem,\n\u001b[1;32m   (...)\u001b[0m\n\u001b[0;32m   1663\u001b[0m         ret,\n\u001b[0;32m   1664\u001b[0m     )\n",
      "File \u001b[1;32mD:\\Cloud\\Git\\docs-sqlalchemy\\venv\\Lib\\site-packages\\sqlalchemy\\engine\\base.py:1848\u001b[0m, in \u001b[0;36mConnection._execute_context\u001b[1;34m(self, dialect, constructor, statement, parameters, execution_options, *args, **kw)\u001b[0m\n\u001b[0;32m   1845\u001b[0m context\u001b[38;5;241m.\u001b[39mpre_exec()\n\u001b[0;32m   1847\u001b[0m \u001b[38;5;28;01mif\u001b[39;00m context\u001b[38;5;241m.\u001b[39mexecute_style \u001b[38;5;129;01mis\u001b[39;00m ExecuteStyle\u001b[38;5;241m.\u001b[39mINSERTMANYVALUES:\n\u001b[1;32m-> 1848\u001b[0m     \u001b[38;5;28;01mreturn\u001b[39;00m \u001b[38;5;28;43mself\u001b[39;49m\u001b[38;5;241;43m.\u001b[39;49m\u001b[43m_exec_insertmany_context\u001b[49m\u001b[43m(\u001b[49m\u001b[43mdialect\u001b[49m\u001b[43m,\u001b[49m\u001b[43m \u001b[49m\u001b[43mcontext\u001b[49m\u001b[43m)\u001b[49m\n\u001b[0;32m   1849\u001b[0m \u001b[38;5;28;01melse\u001b[39;00m:\n\u001b[0;32m   1850\u001b[0m     \u001b[38;5;28;01mreturn\u001b[39;00m \u001b[38;5;28mself\u001b[39m\u001b[38;5;241m.\u001b[39m_exec_single_context(\n\u001b[0;32m   1851\u001b[0m         dialect, context, statement, parameters\n\u001b[0;32m   1852\u001b[0m     )\n",
      "File \u001b[1;32mD:\\Cloud\\Git\\docs-sqlalchemy\\venv\\Lib\\site-packages\\sqlalchemy\\engine\\base.py:2128\u001b[0m, in \u001b[0;36mConnection._exec_insertmany_context\u001b[1;34m(self, dialect, context)\u001b[0m\n\u001b[0;32m   2120\u001b[0m         dialect\u001b[38;5;241m.\u001b[39mdo_execute(\n\u001b[0;32m   2121\u001b[0m             cursor,\n\u001b[0;32m   2122\u001b[0m             sub_stmt,\n\u001b[0;32m   2123\u001b[0m             sub_params,\n\u001b[0;32m   2124\u001b[0m             context,\n\u001b[0;32m   2125\u001b[0m         )\n\u001b[0;32m   2127\u001b[0m \u001b[38;5;28;01mexcept\u001b[39;00m \u001b[38;5;167;01mBaseException\u001b[39;00m \u001b[38;5;28;01mas\u001b[39;00m e:\n\u001b[1;32m-> 2128\u001b[0m     \u001b[38;5;28;43mself\u001b[39;49m\u001b[38;5;241;43m.\u001b[39;49m\u001b[43m_handle_dbapi_exception\u001b[49m\u001b[43m(\u001b[49m\n\u001b[0;32m   2129\u001b[0m \u001b[43m        \u001b[49m\u001b[43me\u001b[49m\u001b[43m,\u001b[49m\n\u001b[0;32m   2130\u001b[0m \u001b[43m        \u001b[49m\u001b[43msql_util\u001b[49m\u001b[38;5;241;43m.\u001b[39;49m\u001b[43m_long_statement\u001b[49m\u001b[43m(\u001b[49m\u001b[43msub_stmt\u001b[49m\u001b[43m)\u001b[49m\u001b[43m,\u001b[49m\n\u001b[0;32m   2131\u001b[0m \u001b[43m        \u001b[49m\u001b[43msub_params\u001b[49m\u001b[43m,\u001b[49m\n\u001b[0;32m   2132\u001b[0m \u001b[43m        \u001b[49m\u001b[43mcursor\u001b[49m\u001b[43m,\u001b[49m\n\u001b[0;32m   2133\u001b[0m \u001b[43m        \u001b[49m\u001b[43mcontext\u001b[49m\u001b[43m,\u001b[49m\n\u001b[0;32m   2134\u001b[0m \u001b[43m        \u001b[49m\u001b[43mis_sub_exec\u001b[49m\u001b[38;5;241;43m=\u001b[39;49m\u001b[38;5;28;43;01mTrue\u001b[39;49;00m\u001b[43m,\u001b[49m\n\u001b[0;32m   2135\u001b[0m \u001b[43m    \u001b[49m\u001b[43m)\u001b[49m\n\u001b[0;32m   2137\u001b[0m \u001b[38;5;28;01mif\u001b[39;00m engine_events:\n\u001b[0;32m   2138\u001b[0m     \u001b[38;5;28mself\u001b[39m\u001b[38;5;241m.\u001b[39mdispatch\u001b[38;5;241m.\u001b[39mafter_cursor_execute(\n\u001b[0;32m   2139\u001b[0m         \u001b[38;5;28mself\u001b[39m,\n\u001b[0;32m   2140\u001b[0m         cursor,\n\u001b[1;32m   (...)\u001b[0m\n\u001b[0;32m   2144\u001b[0m         context\u001b[38;5;241m.\u001b[39mexecutemany,\n\u001b[0;32m   2145\u001b[0m     )\n",
      "File \u001b[1;32mD:\\Cloud\\Git\\docs-sqlalchemy\\venv\\Lib\\site-packages\\sqlalchemy\\engine\\base.py:2357\u001b[0m, in \u001b[0;36mConnection._handle_dbapi_exception\u001b[1;34m(self, e, statement, parameters, cursor, context, is_sub_exec)\u001b[0m\n\u001b[0;32m   2355\u001b[0m \u001b[38;5;28;01melif\u001b[39;00m should_wrap:\n\u001b[0;32m   2356\u001b[0m     \u001b[38;5;28;01massert\u001b[39;00m sqlalchemy_exception \u001b[38;5;129;01mis\u001b[39;00m \u001b[38;5;129;01mnot\u001b[39;00m \u001b[38;5;28;01mNone\u001b[39;00m\n\u001b[1;32m-> 2357\u001b[0m     \u001b[38;5;28;01mraise\u001b[39;00m sqlalchemy_exception\u001b[38;5;241m.\u001b[39mwith_traceback(exc_info[\u001b[38;5;241m2\u001b[39m]) \u001b[38;5;28;01mfrom\u001b[39;00m \u001b[38;5;21;01me\u001b[39;00m\n\u001b[0;32m   2358\u001b[0m \u001b[38;5;28;01melse\u001b[39;00m:\n\u001b[0;32m   2359\u001b[0m     \u001b[38;5;28;01massert\u001b[39;00m exc_info[\u001b[38;5;241m1\u001b[39m] \u001b[38;5;129;01mis\u001b[39;00m \u001b[38;5;129;01mnot\u001b[39;00m \u001b[38;5;28;01mNone\u001b[39;00m\n",
      "File \u001b[1;32mD:\\Cloud\\Git\\docs-sqlalchemy\\venv\\Lib\\site-packages\\sqlalchemy\\engine\\base.py:2120\u001b[0m, in \u001b[0;36mConnection._exec_insertmany_context\u001b[1;34m(self, dialect, context)\u001b[0m\n\u001b[0;32m   2118\u001b[0m             \u001b[38;5;28;01mbreak\u001b[39;00m\n\u001b[0;32m   2119\u001b[0m     \u001b[38;5;28;01melse\u001b[39;00m:\n\u001b[1;32m-> 2120\u001b[0m         \u001b[43mdialect\u001b[49m\u001b[38;5;241;43m.\u001b[39;49m\u001b[43mdo_execute\u001b[49m\u001b[43m(\u001b[49m\n\u001b[0;32m   2121\u001b[0m \u001b[43m            \u001b[49m\u001b[43mcursor\u001b[49m\u001b[43m,\u001b[49m\n\u001b[0;32m   2122\u001b[0m \u001b[43m            \u001b[49m\u001b[43msub_stmt\u001b[49m\u001b[43m,\u001b[49m\n\u001b[0;32m   2123\u001b[0m \u001b[43m            \u001b[49m\u001b[43msub_params\u001b[49m\u001b[43m,\u001b[49m\n\u001b[0;32m   2124\u001b[0m \u001b[43m            \u001b[49m\u001b[43mcontext\u001b[49m\u001b[43m,\u001b[49m\n\u001b[0;32m   2125\u001b[0m \u001b[43m        \u001b[49m\u001b[43m)\u001b[49m\n\u001b[0;32m   2127\u001b[0m \u001b[38;5;28;01mexcept\u001b[39;00m \u001b[38;5;167;01mBaseException\u001b[39;00m \u001b[38;5;28;01mas\u001b[39;00m e:\n\u001b[0;32m   2128\u001b[0m     \u001b[38;5;28mself\u001b[39m\u001b[38;5;241m.\u001b[39m_handle_dbapi_exception(\n\u001b[0;32m   2129\u001b[0m         e,\n\u001b[0;32m   2130\u001b[0m         sql_util\u001b[38;5;241m.\u001b[39m_long_statement(sub_stmt),\n\u001b[1;32m   (...)\u001b[0m\n\u001b[0;32m   2134\u001b[0m         is_sub_exec\u001b[38;5;241m=\u001b[39m\u001b[38;5;28;01mTrue\u001b[39;00m,\n\u001b[0;32m   2135\u001b[0m     )\n",
      "File \u001b[1;32mD:\\Cloud\\Git\\docs-sqlalchemy\\venv\\Lib\\site-packages\\sqlalchemy\\engine\\default.py:919\u001b[0m, in \u001b[0;36mDefaultDialect.do_execute\u001b[1;34m(self, cursor, statement, parameters, context)\u001b[0m\n\u001b[0;32m    918\u001b[0m \u001b[38;5;28;01mdef\u001b[39;00m \u001b[38;5;21mdo_execute\u001b[39m(\u001b[38;5;28mself\u001b[39m, cursor, statement, parameters, context\u001b[38;5;241m=\u001b[39m\u001b[38;5;28;01mNone\u001b[39;00m):\n\u001b[1;32m--> 919\u001b[0m     \u001b[43mcursor\u001b[49m\u001b[38;5;241;43m.\u001b[39;49m\u001b[43mexecute\u001b[49m\u001b[43m(\u001b[49m\u001b[43mstatement\u001b[49m\u001b[43m,\u001b[49m\u001b[43m \u001b[49m\u001b[43mparameters\u001b[49m\u001b[43m)\u001b[49m\n",
      "\u001b[1;31mOperationalError\u001b[0m: (sqlite3.OperationalError) no such table: products\n[SQL: INSERT INTO products (name, price, deleted, updated) VALUES (?, ?, ?, ?) RETURNING id, created]\n[parameters: ('Apple', None, 0, None)]\n(Background on this error at: https://sqlalche.me/e/20/e3q8)"
     ]
    }
   ],
   "source": [
    "with logs():\n",
    "    # Toggle expire_on_commit to see how it will error-out.\n",
    "    with orm.Session(con, expire_on_commit=False) as session:\n",
    "        customer = Customer(name='Jack')\n",
    "        apple = Product(name='Apple')\n",
    "        pear = Product(name='Pear')\n",
    "        session.add_all([customer, apple, pear])\n",
    "        session.flush()\n",
    "        session.commit()\n",
    "\n",
    "    print('--- out of session scope---')\n",
    "    print(apple.name)\n",
    "    print(apple.id, apple.name)\n",
    "    print(pear.id, pear.name)"
   ]
  },
  {
   "cell_type": "markdown",
   "id": "671b1588-2d64-4d70-ba0f-400c6f0f92d5",
   "metadata": {},
   "source": [
    "### Bulk Insert\n",
    "\n",
    "Should performance become a bottleneck, there are two alternatives.\n",
    "1. Use dictionaries to insert data `sa.insert(Product).values([...]) -> Result`, which can still return a row count.\n",
    "2. Use `bulk_save_objects(...) -> None`, this is conventient for objects but returns no row count\n",
    "\n",
    "Understand that both methods will not update their input data/objects with the primary keys of the created objects*.\n",
    "\n",
    "\\* Postgres is the exception to this, but it is recommended to upgrade to SQLAlchemy 2.0 for this to be fully supported.\n",
    "[TODO: look at insert-many-values](https://docs.sqlalchemy.org/en/20/core/connections.html#insert-many-values-behavior-for-insert-statements)"
   ]
  },
  {
   "cell_type": "code",
   "execution_count": 80,
   "id": "fb04c9f7-8f83-4f6c-a45c-c5d245eff3e5",
   "metadata": {},
   "outputs": [
    {
     "ename": "NameError",
     "evalue": "name 'Product' is not defined",
     "output_type": "error",
     "traceback": [
      "\u001b[1;31m---------------------------------------------------------------------------\u001b[0m",
      "\u001b[1;31mNameError\u001b[0m                                 Traceback (most recent call last)",
      "Cell \u001b[1;32mIn[80], line 3\u001b[0m\n\u001b[0;32m      1\u001b[0m \u001b[38;5;28;01mwith\u001b[39;00m logs(), orm\u001b[38;5;241m.\u001b[39mSession(con) \u001b[38;5;28;01mas\u001b[39;00m session:\n\u001b[0;32m      2\u001b[0m     customer \u001b[38;5;241m=\u001b[39m Customer(name\u001b[38;5;241m=\u001b[39m\u001b[38;5;124m'\u001b[39m\u001b[38;5;124mJack\u001b[39m\u001b[38;5;124m'\u001b[39m)\n\u001b[1;32m----> 3\u001b[0m     apple \u001b[38;5;241m=\u001b[39m \u001b[43mProduct\u001b[49m(name\u001b[38;5;241m=\u001b[39m\u001b[38;5;124m'\u001b[39m\u001b[38;5;124mApple\u001b[39m\u001b[38;5;124m'\u001b[39m)\n\u001b[0;32m      4\u001b[0m     pear \u001b[38;5;241m=\u001b[39m Product(name\u001b[38;5;241m=\u001b[39m\u001b[38;5;124m'\u001b[39m\u001b[38;5;124mPear\u001b[39m\u001b[38;5;124m'\u001b[39m)\n\u001b[0;32m      5\u001b[0m     session\u001b[38;5;241m.\u001b[39madd(customer)\n",
      "\u001b[1;31mNameError\u001b[0m: name 'Product' is not defined"
     ]
    }
   ],
   "source": [
    "with logs(), orm.Session(con) as session:\n",
    "    customer = Customer(name='Jack')\n",
    "    apple = Product(name='Apple')\n",
    "    pear = Product(name='Pear')\n",
    "    session.add(customer)\n",
    "    session.bulk_save_objects([apple, pear])"
   ]
  },
  {
   "cell_type": "code",
   "execution_count": null,
   "id": "ab049f8c-be3f-42bd-b2cc-4a92d2e979ea",
   "metadata": {},
   "outputs": [],
   "source": [
    "with logs(), orm.Session(con) as s:\n",
    "    stmt = sa.insert(Product).values([dict(name='Carrot'), dict(name='Potato')])\n",
    "    result = s.execute(stmt)\n",
    "    print(result.rowcount)"
   ]
  },
  {
   "cell_type": "markdown",
   "id": "22e2b203-1735-4f7e-a781-24f4040890e4",
   "metadata": {},
   "source": [
    "## Select\n",
    "With data in the tables, it's time to go on (and on) about selecting data.\n",
    "SQLAlchemy tries to be consistent in its querying API, but the two approaches (ORM based and table-column based) are at odds.\n",
    "\n",
    "When calling ``.execute``, a result object is returned.\n",
    "\n",
    "This result is often iterable and each item returns a `Row` object (`sqlalchemy.engine.row.Row`).\n",
    "This object can automatically be 'unpacked' like a tuple.\n",
    "\n",
    "The size of this tuple is equal to the number of *positional* arguments put in `select(...)`.\n",
    "That also means that a singular column gets put in a very odd tuple.\n"
   ]
  },
  {
   "cell_type": "code",
   "execution_count": null,
   "id": "0d84a50d-37e1-47a1-8372-7449e99f7ce6",
   "metadata": {},
   "outputs": [],
   "source": [
    "# Row approach\n",
    "with orm.Session(con) as s:\n",
    "    result = s.execute(sa.select(Product.id, Product.name))\n",
    "    for row  in result:\n",
    "        print(type(row), row[0], row[1])"
   ]
  },
  {
   "cell_type": "code",
   "execution_count": null,
   "id": "9604a06f-0e60-4aac-bd3a-01df4ff088c4",
   "metadata": {},
   "outputs": [],
   "source": [
    "# Two Columns, selecting ID and name (unpacking it like a tuple)\n",
    "with orm.Session(con) as s:\n",
    "    result = s.execute(sa.select(Product.id, Product.name))\n",
    "    for product_id, product_name  in result:\n",
    "        print(product_id, product_name)"
   ]
  },
  {
   "cell_type": "markdown",
   "id": "5e2e8904-164b-45f2-8efb-fccc34545081",
   "metadata": {},
   "source": [
    "It is also possible to get the values from the row like a dictionary.\n",
    "\n",
    "This makes them accesible by their field names, or by using the class member corresponding to the query.\n",
    "\n",
    "This only requires calling `.mappings` on the result object."
   ]
  },
  {
   "cell_type": "code",
   "execution_count": null,
   "id": "21bb0446-1526-48dd-857e-0086a3cd3309",
   "metadata": {},
   "outputs": [],
   "source": [
    "# Two Columns, selecting ID and name using RowMappigns.\n",
    "with orm.Session(con) as s:\n",
    "    result = s.execute(sa.select(Product.id, Product.name))\n",
    "    for entry in result.mappings():\n",
    "        print(type(entry), entry[Product.name], entry['name'])"
   ]
  },
  {
   "cell_type": "code",
   "execution_count": null,
   "id": "e90b0997-b066-42f4-bf46-82d83be0518d",
   "metadata": {},
   "outputs": [],
   "source": [
    "# One Column\n",
    "with orm.Session(con) as s:\n",
    "    result = s.execute(sa.select(Product.name))\n",
    "    for product_name, in result:  # <-- Extremely ugly trailing comma after 'product_name'\n",
    "        print(product_name)"
   ]
  },
  {
   "cell_type": "markdown",
   "id": "53fa1aaa-951b-4bcc-a3c3-c154750ebfae",
   "metadata": {},
   "source": [
    "### Scalars\n",
    "The final example in the cell above shows an extremely ugly trailing comma.\n",
    "That trailing comma can be removed by using scalar(s).\n",
    "\n",
    "Using a scalar effectively means only the first column will be used.\n",
    "\n",
    "**Note:** these transformations are only applied *after* fetching data.\n",
    "Even the singular `.scalar` does not limit how much data the server will return.\n",
    "Although scalars are available for both the Session object and the Result object,\n",
    "both will still query for all the data.\n",
    "\n",
    "| Method | Meaning |\n",
    "|--------|---------|\n",
    "| `.scalars()` | First column of every row |\n",
    "| `.scalar()` | First column of first row\\* |\n",
    "\n",
    "\\* This still consumes the entire result."
   ]
  },
  {
   "cell_type": "code",
   "execution_count": null,
   "id": "9a5b5d3b-6bde-43a9-a648-fedecf830f5f",
   "metadata": {},
   "outputs": [],
   "source": [
    "with orm.Session(con) as s:\n",
    "    result = s.execute(sa.select(Product.name))\n",
    "    for product_name in result.scalars():  # And the trailing comma is now gone.\n",
    "        print(product_name)"
   ]
  },
  {
   "cell_type": "code",
   "execution_count": null,
   "id": "ba8f5462-ca57-4a36-a2a1-c4cb6614d687",
   "metadata": {},
   "outputs": [],
   "source": [
    "# .scalar() on result\n",
    "with logs(logging.DEBUG), orm.Session(con) as s:\n",
    "    result = s.execute(sa.select(Product.id, Product.name))\n",
    "    print(result.scalar())"
   ]
  },
  {
   "cell_type": "code",
   "execution_count": null,
   "id": "32e5eeab-399d-403c-928b-2c8eafe9c4e9",
   "metadata": {},
   "outputs": [],
   "source": [
    "# The scalar is also available on the session, but it STILL executes the entire query.\n",
    "# You can see the data being returned in the (debug level) logs below.\n",
    "with logs(logging.DEBUG), orm.Session(con) as s:\n",
    "    query = sa.select(Product.id, Product.name)\n",
    "    result = s.scalar(sa.select(Product.id, Product.name))\n",
    "    print(result)"
   ]
  },
  {
   "cell_type": "markdown",
   "id": "584fc7bb-5d98-40ff-97f6-71a254e027e7",
   "metadata": {},
   "source": [
    "### ORM Scalars \n",
    "The ORM acts a little bit different when it comes to scalars.\n",
    "\n",
    "**TLDR:** The model class is the only field in the select statement, treat it like a regular field.\n",
    "That means it's safe to use ``scalars()`` to prevent the awkward tuple situation."
   ]
  },
  {
   "cell_type": "code",
   "execution_count": null,
   "id": "c2362937-fd28-4f3b-978a-5758840318f8",
   "metadata": {
    "scrolled": true
   },
   "outputs": [],
   "source": [
    "with orm.Session(con) as s:\n",
    "    result = s.execute(sa.select(Product))\n",
    "    for item in result.scalars():\n",
    "        print(type(item).__name__, item.id, item.name)\n",
    "    "
   ]
  },
  {
   "cell_type": "markdown",
   "id": "311ad9f3-3aaa-404d-82bc-2e9cfb6e7a02",
   "metadata": {},
   "source": [
    "### Where / Filter\n",
    "The SQL 'where' is available asboth `.where(...)` and `.filter(...)` (which is just an alias).\n",
    "\n",
    "The way SQLAlchemy expresses filtering on columns is by using the class member that represents it.\n",
    "\n",
    "**Note:** When interacting with boolean fields, it is necessary to use the equals symbol rather than 'is'.\n",
    "The class member cannot override an 'is' operation to provide the proper transformation."
   ]
  },
  {
   "cell_type": "code",
   "execution_count": null,
   "id": "8b27c08a-935c-41a2-a110-99d2e78800b9",
   "metadata": {},
   "outputs": [],
   "source": [
    "with orm.Session(engine) as session:\n",
    "    query = sa.select(Product).where(Product.name == 'Apple' )\n",
    "    for entry in session.execute(query).scalars():\n",
    "        print(entry.id, entry.name, entry.deleted)\n"
   ]
  },
  {
   "cell_type": "markdown",
   "id": "1e91c5bf-dcce-4ea9-9257-063608d1a35a",
   "metadata": {},
   "source": [
    "----------\n",
    "There are a lot of ways these expressions can be combined.\n",
    "1. The `.where` statement will automatically apply 'AND' to its positional arguments.\n",
    "2. Usage of the ampersand (a bitwise AND) will create a \"BinaryExpression\" which can be applied.\n",
    "3. Usage of `sa.and_` effectively accompliushes the same result.\n",
    "   "
   ]
  },
  {
   "cell_type": "code",
   "execution_count": null,
   "id": "7ee733b5-5956-4063-a82c-2a716fb4a254",
   "metadata": {},
   "outputs": [],
   "source": [
    "apples_only = Product.name == 'Apple'\n",
    "not_deleted = Product.deleted == False  # Don't use \"is\" for boolean fields.\n",
    "print('Apples:', str(apples_only))\n",
    "print('Available:', str(not_deleted))\n",
    "print('---')\n",
    "\n",
    "method_2 = apples_only & not_deleted\n",
    "method_3 = sa.and_(apples_only, not_deleted) # This function accepts many more positional arguments.\n",
    "\n",
    "print('1:', str(sa.select(Product).where(apples_only, not_deleted)).replace('\\n', ''))\n",
    "print('2:', str(sa.select(Product).where(method_2)).replace('\\n', ''))\n",
    "print('3:', str(sa.select(Product).where(method_3)).replace('\\n', ''))"
   ]
  },
  {
   "cell_type": "markdown",
   "id": "6137a635-a238-4052-a8b8-6e287d53ea4a",
   "metadata": {},
   "source": [
    "----------\n",
    "Expression can also be inverted. This can be useful to recycle specific expressions."
   ]
  },
  {
   "cell_type": "code",
   "execution_count": null,
   "id": "5192bb4a-da25-4aa1-9fa2-cd1c150d9b6c",
   "metadata": {},
   "outputs": [],
   "source": [
    "apples_only = Product.name == 'Apple'\n",
    "print('A', str(apples_only))\n",
    "print('B', str(~apples_only))"
   ]
  },
  {
   "cell_type": "code",
   "execution_count": null,
   "id": "504a36fa-fbd8-41d9-9f00-59d67988c53d",
   "metadata": {},
   "outputs": [],
   "source": [
    "expr = Product.name.in_(('Apple', 'Pear'))\n",
    "print('Some expressions do not convert to strings very well. >>', expr)\n",
    "with logs(), orm.Session(engine) as s:\n",
    "    for item in s.execute(sa.select(Product).where(expr)).scalars():\n",
    "        print(item.name)"
   ]
  },
  {
   "cell_type": "markdown",
   "id": "ebd924bf-ae09-41ea-bc71-8cf136dd1c00",
   "metadata": {},
   "source": [
    "### Being clever with (basic) Statements (code reuse)\n",
    "Many SQLAlchemy queries can be written without a session or engine attached to it.\n",
    "The session and engine only get involved when execution becomes interesting.\n",
    "\n",
    "The query building blocks are lightweight, and could easily be reused.\n",
    "Each transformation ends up returning a completely new object, meaning the old object remains untouched.\n",
    "That old object usually gets discarded, but it could be recycled as a building block on its own.\n",
    "This can be useful in teams to keep queries consistent."
   ]
  },
  {
   "cell_type": "code",
   "execution_count": null,
   "id": "c525af53-9296-4ea7-8cdb-03706f4dd274",
   "metadata": {},
   "outputs": [],
   "source": [
    "# Building Block\n",
    "# Query for products which have not been marked as 'deleted'.\n",
    "products = sa.select(Product).where(Product.deleted == False)\n",
    "print('GET products:')\n",
    "print(str(products))\n",
    "with orm.Session(engine) as session:\n",
    "    for entry in session.execute(products).scalars():\n",
    "        print(entry.id)\n",
    "# Recycling the where clause and flipping it, to remove the products which weren't part of the regular overview.\n",
    "print(sa.delete(Product).where(~products.whereclause))"
   ]
  },
  {
   "cell_type": "markdown",
   "id": "f12754ea-c6ca-4624-bba5-f6681d093ead",
   "metadata": {},
   "source": [
    "### Distinct"
   ]
  },
  {
   "cell_type": "code",
   "execution_count": null,
   "id": "482246c8-1f94-4583-bf31-5ae1b5584f54",
   "metadata": {},
   "outputs": [],
   "source": [
    "with logs(), orm.Session(engine) as s:\n",
    "    result = s.execute(sa.select(Product.name).distinct()).scalars()\n",
    "    print(list(result))"
   ]
  },
  {
   "cell_type": "markdown",
   "id": "e6f409a8-9b1c-40b5-a5c4-3fb961815d06",
   "metadata": {},
   "source": [
    "### Result Assertions (one_or_none)\n",
    "The Result object can also be used to provide some semantics.\n",
    "\n",
    "For example, the Result object has a `one()` method which ensures that only one entry is returned.\n",
    "That means it will raise an error when no records are found, or multiple records are found.\n",
    "\n",
    "These errors are `sqlalchemy.exc.NoResultFound` and `sqlalchemy.exc.MultipleResultsFound` respectively.\n",
    "\n",
    "- `one() -> Row`\n",
    "- `one_or_none() -> Optional[Row]`\n",
    "- `scalar_one() -> T`, equivalent to `.scalars().one()`\n",
    "- `scalar_one_or_none() -> Optional[T]`, equivalent to `.scalar().one_or_none()`\n",
    "- `first()` -> `one_or_none()`"
   ]
  },
  {
   "cell_type": "code",
   "execution_count": null,
   "id": "4e969de1-ec67-40e1-a4ef-868a2264dc48",
   "metadata": {},
   "outputs": [],
   "source": [
    "with orm.Session(engine) as s:\n",
    "    result = s.execute(sa.select(Product).where(Product.name == 'Apple'))\n",
    "    value = result.one()\n",
    "    print(value.name)"
   ]
  },
  {
   "cell_type": "markdown",
   "id": "7fbbbd13-2122-4b9f-a687-7e67194af3c3",
   "metadata": {},
   "source": [
    "### Order By\n",
    "Just like regular SQL, rows can be sorted by specific columns."
   ]
  },
  {
   "cell_type": "code",
   "execution_count": null,
   "id": "f32e8fae-020d-4d08-888d-895c23396af4",
   "metadata": {},
   "outputs": [],
   "source": [
    "query = (\n",
    "    sa.select(Product.id)\n",
    "    .order_by(Product.id.desc(), Product.name.asc()) \n",
    ")\n",
    "print(str(query))"
   ]
  },
  {
   "cell_type": "markdown",
   "id": "5788e32f-0aeb-4ec9-bf74-bb979e13256b",
   "metadata": {},
   "source": [
    "### Group By"
   ]
  },
  {
   "cell_type": "code",
   "execution_count": null,
   "id": "d483688e-ce63-4b55-b09f-a23de6bc189c",
   "metadata": {},
   "outputs": [],
   "source": [
    "with orm.Session(con) as s:\n",
    "    # Inserting an extra apple so 'group by' actually does something.\n",
    "    s.execute(sa.insert(Product).values(name='Apple'))\n",
    "    query = sa.select(Product.name, sa.func.count(Product.name)).group_by(Product.name)\n",
    "    for item in s.execute(query).mappings():\n",
    "        print(item)\n"
   ]
  },
  {
   "cell_type": "code",
   "execution_count": null,
   "id": "64101971-246e-4ddf-a9a5-5f6df64ced30",
   "metadata": {},
   "outputs": [],
   "source": [
    "with orm.Session(con) as s:\n",
    "    # Inserting an extra apple so 'group by' actually does something.\n",
    "    s.execute(sa.insert(Product).values(name='Apple'))\n",
    "    count_column = sa.func.count(Product.name).label('Total_Products')\n",
    "    query = sa.select(Product.name, count_column).group_by(Product.name)\n",
    "    for item in s.execute(query).mappings():\n",
    "        # It can still be accessed as long as it's the right calculated column.\n",
    "        print(item[Product.name], item[count_column])"
   ]
  },
  {
   "cell_type": "code",
   "execution_count": null,
   "id": "c755d1d3-daee-408b-9426-82ab7caee2e2",
   "metadata": {},
   "outputs": [],
   "source": [
    "with orm.Session(engine) as s:\n",
    "    query = sa.select(Product)\n",
    "    # it = session.execute(query.with_only_columns(sa.func.count(Product.id).label('count')))\n",
    "    it = s.execute(sa.select(sa.func.count(Product.id).label('count')))\n",
    "    print(it.scalar())"
   ]
  },
  {
   "cell_type": "markdown",
   "id": "dc5d610b-8e9e-4f9f-b0ad-23072cc77790",
   "metadata": {},
   "source": [
    "### Calculated Columns"
   ]
  },
  {
   "cell_type": "code",
   "execution_count": null,
   "id": "225f04f8-ce75-45ca-98a3-587dd33f518a",
   "metadata": {},
   "outputs": [],
   "source": [
    "with logs(), orm.Session(engine) as s:\n",
    "    result = s.execute(sa.select(Product.name +' = '+ Product.name))\n",
    "    for item in result.mappings():\n",
    "        print(item)"
   ]
  },
  {
   "cell_type": "markdown",
   "id": "f97019c9-34ed-4e7c-8855-c41db132e753",
   "metadata": {},
   "source": [
    "### Defer Columns (Lazy Loaded Columns)\n",
    "It's also possible to completely omit columns from the query, even if they're part of the model.\n",
    "\n",
    "This is usually called 'deferred loading'.\n",
    "Things like deferred loading come in useful to steer the ORM.\n",
    "Database columns that are defined as TEXT in SQL can be slow when there are a lot of them.\n",
    "When there is a relationship between two SQLAlchemy models, it can prevent eager loading.\n",
    "\n",
    "Select.only_columns\n",
    "\n",
    "Select.with_only_columns\n",
    "\n",
    "Select.reduce_columns"
   ]
  },
  {
   "cell_type": "code",
   "execution_count": null,
   "id": "9a97d2ba-5e40-4f85-a7ac-31eef31b9987",
   "metadata": {},
   "outputs": [],
   "source": [
    "with logs(), orm.Session(engine) as s:\n",
    "    query = (\n",
    "        sa.select(Product)\n",
    "        .options(sa.orm.defer(Product.name, raiseload=True))\n",
    "    )\n",
    "    query.reduce_columns\n",
    "    for item in s.execute(query).scalars():\n",
    "        print(item.id)\n",
    "        try:\n",
    "            print(item.name)\n",
    "        except sa.exc.InvalidRequestError as ex:\n",
    "            print('(blocked lazy load)', str(ex))"
   ]
  },
  {
   "cell_type": "markdown",
   "id": "66c40c8c-c594-430d-b8e5-95c516859f5f",
   "metadata": {},
   "source": [
    "## Update"
   ]
  },
  {
   "cell_type": "code",
   "execution_count": null,
   "id": "c4816b8f-01c8-4311-bbb1-eeddfc3aa5e4",
   "metadata": {},
   "outputs": [],
   "source": [
    "q =  sa.update(Product).where(Product.name == 'Apple')"
   ]
  },
  {
   "cell_type": "code",
   "execution_count": null,
   "id": "d1481ee3-c3ce-4d1b-9bb1-2cd9a4d3158b",
   "metadata": {},
   "outputs": [],
   "source": [
    "q.values("
   ]
  },
  {
   "cell_type": "code",
   "execution_count": null,
   "id": "39e741e0-8404-459a-aa76-fd95dc4f3a71",
   "metadata": {},
   "outputs": [],
   "source": [
    "with orm.Session(con) as s:\n",
    "    soft_delete_apples = sa.update(Product).where(Product.name == 'Apple').values({Product.deleted: True})\n",
    "    result = s.execute(soft_delete_apples)\n",
    "    print(result.rowcount, 'rows soft-deleted')\n",
    "    \n",
    "    undelete_all = sa.update(Product).where(Product.deleted == True).values({'deleted': False}) \n",
    "    result = s.execute(undelete_all)\n",
    "    print(result.rowcount, 'rows affected')"
   ]
  },
  {
   "cell_type": "markdown",
   "id": "e82a8197-eea9-4263-b54d-cf292a0afa5f",
   "metadata": {},
   "source": [
    "## Delete\n"
   ]
  },
  {
   "cell_type": "code",
   "execution_count": null,
   "id": "8bbde4fe-3e72-401c-a99b-6c992d9c8776",
   "metadata": {},
   "outputs": [],
   "source": [
    "with orm.Session(con) as s:\n",
    "    s.execute(sa.delete(Customer))\n",
    "    s.execute(sa.delete(Product))\n",
    "    s.commit()"
   ]
  },
  {
   "cell_type": "markdown",
   "id": "9c643a16-fb7e-4fe7-89c3-c2b816fbb0c1",
   "metadata": {},
   "source": [
    "# Compatibility with Core\n",
    "The dunder table (``__table__``) is available in case a function *only* accepts a table.<br>\n",
    "Using `sa.select(Model)` will select all the fields, just like `sa.select(Table)` would.<br>\n",
    "It works the same for columns, but no longer needing the `.c` shorthand in-between.\n"
   ]
  },
  {
   "cell_type": "code",
   "execution_count": 87,
   "id": "217841f2-b560-41cf-87dd-b312ceb34dbd",
   "metadata": {},
   "outputs": [
    {
     "name": "stdout",
     "output_type": "stream",
     "text": [
      "(1,)\n"
     ]
    }
   ],
   "source": [
    "for row in con.execute(sa.select(Customer.id)):\n",
    "    print(row)"
   ]
  }
 ],
 "metadata": {
  "kernelspec": {
   "display_name": "Python 3 (ipykernel)",
   "language": "python",
   "name": "python3"
  },
  "language_info": {
   "codemirror_mode": {
    "name": "ipython",
    "version": 3
   },
   "file_extension": ".py",
   "mimetype": "text/x-python",
   "name": "python",
   "nbconvert_exporter": "python",
   "pygments_lexer": "ipython3",
   "version": "3.12.0"
  }
 },
 "nbformat": 4,
 "nbformat_minor": 5
}
