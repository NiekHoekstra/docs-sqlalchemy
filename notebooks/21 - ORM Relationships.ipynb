{
 "cells": [
  {
   "cell_type": "markdown",
   "id": "db63e8a5-8355-48fb-b176-7a82161fb145",
   "metadata": {
    "editable": true,
    "slideshow": {
     "slide_type": ""
    },
    "tags": []
   },
   "source": [
    "# SQLAlchemy ORM (1.4) Joins & Relationships\n",
    "This notebook covers the following:\n",
    "- Foreign Key Relationships\n",
    "  - One to Many (1:N)\n",
    "  - One to One (1:1)\n",
    "  - Many to Many (N:M)\n",
    "- Lazy loading (and how to disable it)\n",
    "- Self referential foreign keys\n",
    "- Joins on columns, without keys\n"
   ]
  },
  {
   "cell_type": "markdown",
   "id": "81265c3f-6c4e-495e-b7fc-faba70c4bd30",
   "metadata": {},
   "source": [
    "# Setup\n"
   ]
  },
  {
   "cell_type": "code",
   "execution_count": null,
   "id": "1595b88c-04a3-4544-b5ba-f2bebe1ea737",
   "metadata": {},
   "outputs": [],
   "source": [
    "import sqlalchemy as sa\n",
    "from sqlalchemy import orm\n",
    "from utils import rollback, logs, DEBUG"
   ]
  },
  {
   "cell_type": "code",
   "execution_count": null,
   "id": "7b96a1c8-8fbb-4403-8a1b-db084899b688",
   "metadata": {},
   "outputs": [],
   "source": [
    "# First 'connect' to a database.\n",
    "# The engine takes care of the Dialect (language) and Driver (communication protocol).\n",
    "# This line creates an in-memory database (using SQLite)\n",
    "# This is nice, because it means the notebooks won't cross-contaminate.\n",
    "engine = sa.create_engine('sqlite:///')\n",
    "con = engine.connect()"
   ]
  },
  {
   "cell_type": "code",
   "execution_count": null,
   "id": "08682b60-2351-45a5-851b-becb8287ed47",
   "metadata": {},
   "outputs": [],
   "source": [
    "# Creating a metadata object, which is usually shared between objects belonging to the same database.\n",
    "# More advanced features allow Metadata to be tied to a specific database.\n",
    "meta = sa.MetaData()"
   ]
  },
  {
   "cell_type": "code",
   "execution_count": null,
   "id": "2000b94f-7485-4372-b923-acefc08dd891",
   "metadata": {},
   "outputs": [],
   "source": []
  },
  {
   "cell_type": "code",
   "execution_count": null,
   "id": "ec53f57b-c410-4ce3-b616-69e9a8ef45cd",
   "metadata": {},
   "outputs": [],
   "source": [
    "# Then create a base class from which all model implementations will inherit.\n",
    "# This also allows child classes to be 'registered', letting them to be discovered for migrations more easily.\n",
    "class Base(orm.DeclarativeBase):\n",
    "    metadata = meta"
   ]
  },
  {
   "cell_type": "markdown",
   "id": "2423bf97-90a2-4260-b17a-34aeb7502374",
   "metadata": {},
   "source": [
    "# Relationships\n",
    "\n",
    "The *relationship* is a pure ORM feature that tells a Session how to treat the Model.<br>\n",
    "This includes:\n",
    "\n",
    "- Loading type: eager or lazy (default)\n",
    "- Loading strategy: left join / separate query\n",
    "- Custom cascade behavior.\n",
    "\n",
    "This isusese `sqlalchemy.orm.relationship`.\n",
    "\n",
    "**Alembic:** Anyone using Alembic for database migrations needs to know:<br>\n",
    "Relationships are application-level constructs that do not influence datbase design.<br>\n",
    "Modifying a relationship will not be picked up by Alembic."
   ]
  },
  {
   "cell_type": "markdown",
   "id": "9e06a195-2890-4014-83cb-942823198259",
   "metadata": {},
   "source": [
    "## One-to-Many (1:N)\n",
    "The one-to-many relationship is the easiest one to define in sqlalchemy.\n",
    "\n",
    "See also: [SQLAlchemy Docs](https://docs.sqlalchemy.org/en/20/orm/basic_relationships.html#one-to-many)"
   ]
  },
  {
   "cell_type": "code",
   "execution_count": null,
   "id": "b862e2ce-7928-41b8-949b-bbcdf2e79e52",
   "metadata": {},
   "outputs": [],
   "source": [
    "class Author(Base):\n",
    "    __tablename__ = 'authors'\n",
    "    id = sa.Column(sa.Integer, primary_key=True, autoincrement=True)\n",
    "    name = sa.Column(sa.VARCHAR(255), default=None, nullable=True)\n",
    "    posts = orm.relationship('Post', back_populates='author')\n",
    "    \n",
    "class Post(Base):\n",
    "    __tablename__ = 'posts'\n",
    "    id = sa.Column(sa.Integer, primary_key=True, autoincrement=True)\n",
    "    author_id = sa.Column(Author.id.type, sa.ForeignKey(Author.id))\n",
    "    author = orm.relationship(Author, back_populates='posts')\n",
    "    \n",
    "    title = sa.Column(sa.VARCHAR(255), default=None, nullable=True)\n",
    "    text = sa.Column(sa.TEXT)"
   ]
  },
  {
   "cell_type": "markdown",
   "id": "ea5fd066-1718-4650-94fa-9b152a17592e",
   "metadata": {},
   "source": [
    "There is a lot going on in this piece of Python code.\n",
    "\n",
    "1. Both Author and Post define a relationship to the other.\n",
    "2. They mention one another's attribute name in 'back_populates'.\n",
    "3. The do *not* show cardinality (1:1, 1:M, N:M)\n",
    "4. The ForeignKey is not referenced by the relationships.\n",
    "\n",
    "The relation between ForeignKey and relationship is determined when the class gets used.<br>\n",
    "The relationship objects get resolved on the table level.<br>\n",
    "As long as one table references the other, this should work (some exceptions not withstanding).\n",
    "\n",
    "The tables defined are a little funky because there are many ways to define a behavior.\n",
    "```python\n",
    "def relationship(target: str | Type | Callable, **kwargs):\n",
    "    ...\n",
    "```\n",
    "When the target is a `str`, it is expecting the name of a class.\n",
    "\n",
    "When the target is a `Type`, is is expecting an ORM class.\n",
    "\n",
    "When the target is a Callable, it is expecting a function that returns a class.<br>\n",
    "This can help with Forward Declaration.<br>\n",
    "When declaring classes in order, a parent might not have a *nice* reference the the child class.<br>\n",
    "In the code above, `orm.relationship('Post', ...)` could be replaced by `orm.relationship(lambda: Post, ...)`.<br>\n",
    "This works because of how the Python compiler works."
   ]
  },
  {
   "cell_type": "code",
   "execution_count": null,
   "id": "b04a2abc-2de3-432f-9138-3f38f4d2be30",
   "metadata": {
    "scrolled": true
   },
   "outputs": [],
   "source": [
    "Base.metadata.create_all(engine)"
   ]
  },
  {
   "cell_type": "code",
   "execution_count": null,
   "id": "674cdd53-0303-4c3c-9873-be6a42cf0027",
   "metadata": {},
   "outputs": [],
   "source": [
    "with rollback(con):\n",
    "    with  logs(), orm.Session(con) as session, session.begin():\n",
    "        author = Author(name='jack')\n",
    "        # Implied '.add' to the User object\n",
    "        Post(title='Hello World', text='Lorem Ipsum', author=author)\n",
    "        Post(title='Doing SQLALchemy', text='Lorem Ipsum', author=author)\n",
    "        # Add user to the session.\n",
    "        session.add(author)\n",
    "\n",
    "    with orm.Session(con) as session, session.begin(), logs():\n",
    "        for author in session.execute(sa.select(Author)).scalars():\n",
    "            print('> Posts by user:', author.name)\n",
    "            for post in author.posts:\n",
    "                print('>', post.title)"
   ]
  },
  {
   "cell_type": "markdown",
   "id": "38fd2f35-04f5-4030-83e7-52d8ce3883b4",
   "metadata": {},
   "source": [
    "---\n",
    "The code above demonstrates how relationships have implications across objects.<br>\n",
    "Both posts reference to user, but were never explicitly added to the session.\n",
    "\n",
    "The logs reveal 3 things (assuming SQLite):\n",
    "1. Posts were never explicitly added to the session, they only referenced the new Author, and they still got saved to the database.\n",
    "2. The Post objects are inserted on a 1-by-1 basis\n",
    "3. Iterating over `author.posts` caused another query for on-demand/lazy loading\n"
   ]
  },
  {
   "cell_type": "markdown",
   "id": "2f999b41-b7bf-4dd3-a7eb-fe96c6840d1f",
   "metadata": {},
   "source": [
    "## One-to-One (1:1)\n",
    "The classic Foreign Key in database schemas does not *enforce* 1-to-1 on its own.<br>\n",
    "In SQLAlchemy, this also boils down to using the `relationship` system to make this explicit.\n",
    "\n",
    "In effect, it will tell the ORM not to use a list when resolving the value.<br>\n",
    "This is done via the aptly named 'uselist' parameter.\n",
    "\n",
    "See also: [SQLAlchemy Docs](https://docs.sqlalchemy.org/en/20/orm/basic_relationships.html#one-to-one)"
   ]
  },
  {
   "cell_type": "code",
   "execution_count": null,
   "id": "47337ece-1001-4b5f-a1d5-60484cd838fa",
   "metadata": {},
   "outputs": [],
   "source": [
    "class Person(Base):\n",
    "    __tablename__ = 'persons'\n",
    "    id = sa.Column(sa.INTEGER, primary_key=True, autoincrement=True)\n",
    "    name = sa.Column(sa.VARCHAR(255))\n",
    "    address = orm.relationship(lambda: Address, back_populates='resident', uselist=False)\n",
    "    \n",
    "class Address(Base):\n",
    "    __tablename__ = 'addresses'\n",
    "    id = sa.Column(sa.INTEGER,  primary_key=True, autoincrement=True)\n",
    "    resident_id = sa.Column(Person.id.type, sa.ForeignKey(Person.id))\n",
    "    street_name = sa.Column(sa.VARCHAR(255))\n",
    "    resident = orm.relationship(Person, back_populates='address')"
   ]
  },
  {
   "cell_type": "code",
   "execution_count": null,
   "id": "5033d3df-1f7d-43e3-b8ed-892d594e8f77",
   "metadata": {},
   "outputs": [],
   "source": [
    "Base.metadata.create_all(engine)"
   ]
  },
  {
   "cell_type": "code",
   "execution_count": null,
   "id": "b77d4a3d-c616-46a0-bb37-f130bfef7879",
   "metadata": {},
   "outputs": [],
   "source": [
    "with rollback(con):\n",
    "    with orm.Session(con) as session, session.begin():\n",
    "        person = Person(name='jack')\n",
    "        address = Address(street_name='Lorem Ipsum', resident=person)\n",
    "        session.add(person)\n",
    "\n",
    "    with orm.Session(con) as session, session.begin():\n",
    "        for person in session.execute(sa.select(Person)).scalars():\n",
    "            print(person.name, person.address)"
   ]
  },
  {
   "cell_type": "markdown",
   "id": "de9019ef-b654-4b34-a071-64cb9249fa22",
   "metadata": {},
   "source": [
    "## Many-to-Many (N:M)\n",
    "As with regular SQL, the many-to-many relationship requires a linking table.<br>\n",
    "This is where a little bit of Core functionality comes into play.\n",
    "\n",
    "See also: [SQLAlchemy Docs](https://docs.sqlalchemy.org/en/20/orm/basic_relationships.html#many-to-many)\n"
   ]
  },
  {
   "cell_type": "code",
   "execution_count": null,
   "id": "86325fc7-31a9-4244-96da-f519bbf809fd",
   "metadata": {},
   "outputs": [],
   "source": [
    "class User(Base):\n",
    "    __tablename__ = 'users'\n",
    "    id = sa.Column(sa.INTEGER, primary_key=True, autoincrement=True)\n",
    "    name = sa.Column(sa.VARCHAR(255))\n",
    "    folders = orm.relationship(lambda: Folder, secondary=lambda: sharing_table, back_populates='users')\n",
    "\n",
    "class Folder(Base):\n",
    "    __tablename__ = 'folders'\n",
    "    id = sa.Column(sa.INTEGER, primary_key=True, autoincrement=True)\n",
    "    name = sa.Column(sa.VARCHAR(255))\n",
    "    users = orm.relationship(lambda: User, secondary=lambda: sharing_table, back_populates='folders')\n",
    "    \n",
    "sharing_table = sa.Table(\n",
    "    \"shares\",\n",
    "    Base.metadata,\n",
    "    sa.Column(\"user_id\", User.id.type, sa.ForeignKey(User.id), primary_key=True),\n",
    "    sa.Column(\"folder_id\", Folder.id.type, sa.ForeignKey(Folder.id), primary_key=True),\n",
    ")\n",
    "\n"
   ]
  },
  {
   "cell_type": "code",
   "execution_count": null,
   "id": "fb3b7457-8e5e-405c-b095-cecaaa93fcd3",
   "metadata": {},
   "outputs": [],
   "source": [
    "Base.metadata.create_all(engine)"
   ]
  },
  {
   "cell_type": "code",
   "execution_count": null,
   "id": "fc2941b3-5584-401f-8cd8-52ad63179f32",
   "metadata": {},
   "outputs": [],
   "source": [
    "with rollback(con):\n",
    "    with orm.Session(con) as session, session.begin():\n",
    "        alice = User(name='Alice')\n",
    "        bob = User(name='Bob')\n",
    "        memes = Folder(name='memes')\n",
    "        work = Folder(name='work')\n",
    "        session.add_all([alice, bob, memes, work])\n",
    "        work.users.extend((alice, bob))\n",
    "        memes.users.append(alice)\n",
    "        \n",
    "        print('Alice:')\n",
    "        for entry in alice.folders:\n",
    "            print('>', entry.name)\n",
    "            \n",
    "        print('Bob:')\n",
    "        for entry in bob.folders:\n",
    "            print('>', entry.name)\n",
    "        "
   ]
  },
  {
   "cell_type": "markdown",
   "id": "f0709ad8-c2a1-4f3b-9139-cc58b149f6a6",
   "metadata": {},
   "source": [
    "## Relationship with Self"
   ]
  },
  {
   "cell_type": "markdown",
   "id": "d3eec16f-7c84-4f12-b1f1-86056635cba5",
   "metadata": {},
   "source": [
    "# Eager/Lazy Loading\n",
    "\n",
    "SQLAlchemy provides four core types of loading:\n",
    "1. Eager, loading data with the initial query.\n",
    "2. Lazy, this means only loading data when it is accessd.\n",
    "3. Error, raising an error when it is accessed.<br>Some prefer errors to lazy loading for testing or performance reasons like N+1.\n",
    "4. Not Loading, the data is returned as NULL or an empty list.\n",
    "There are *many* different types of loading.\n",
    "\n",
    "See also: [SQLAlchemy Docs](https://docs.sqlalchemy.org/en/14/orm/loading_relationships.html#relationship-loading-techniques)\n",
    "\n",
    "## Types of Loading\n",
    "Before jumping into demos, it might (for once) be better to know what each load does ahead of time.<br>\n",
    "Here is a rough summation of the loading types and their uses.<br>\n",
    "This will make it clear what to look out for when logging is turned on.\n",
    "\n",
    "Understand that all of the following examples will create queries which are specific to the ORM.<br>\n",
    "The 'select' clause may be manipulated by the Session object, but it will always return the columns/objects you expect.<br>\n",
    "This means an ORM 'joinedload' will not return data like a standard 'join' would.\n",
    "\n",
    "See also: [*The Zen of Joined Eager Loading*](https://docs.sqlalchemy.org/en/20/orm/queryguide/relationships.html#joined-eager-loading) for a few implementation details.\n",
    "\n",
    "All of the following objects show a Design and Options example.<br>\n",
    "The *Design* is part of the class, while the *Options* are used for the query builder.<br>\n",
    "Below is a quick example for lazyload.\n",
    "\n",
    "```python\n",
    "select(Model).options(orm.lazyload(Model.children))\n",
    "```\n",
    "\n",
    "### Lazy\n",
    "This is the default behavior for ORM models.<br>\n",
    "When code tries to access a member that isn't loaded, the associated session will have to fetch the data.\n",
    "\n",
    "Design: `relationship(..., lazy='select')`<br>\n",
    "Options: `orm.lazyload(Model.children)`\n",
    "\n",
    "\n",
    "### Join\n",
    "This is one of the more common eager load behaviors.<br>\n",
    "In short, it performs a left-join to resolve child elements.<br>\n",
    "The advantage is that the server still only executes one query, so only a single round-trip.\n",
    "\n",
    "Design(Left Join): `relationship(..., lazy='joined')`<br>\n",
    "Design(Inner Join): `relationship(..., lazy='joined', innerjoin=True)`<br>\n",
    "Options(Left Join): `orm.joinload(Model.children)`<br>\n",
    "Options(Inner Join): `orm.joinload(Model.children, innerjoin=True)`\n",
    "\n",
    "### IN\n",
    "This is another popular way to eager-load items.<br>\n",
    "The big disadvantage is that the session has to execute two queries.<br>\n",
    "Query 1 will all the parents,<br>\n",
    "Query 2 will get all the child objects with a matching parent_id.\n",
    "\n",
    "The benefit here is that it does not duplicate data like a join might.<br>\n",
    "The disadvantage is having to perform multiple queries / round-trips.\n",
    "\n",
    "Design: `relationship(..., lazy='selectin')`<br>\n",
    "Options: `orm.selectinload(Model.children)`\n",
    "\n",
    "### Subquery\n",
    "The Subquery reinterprets the original select statement to get the right data.<br>\n",
    "In general, it is better to use `selectinload`unless you have special requirements.\n",
    "Microsoft SQL Server *can* have [issues](https://docs.sqlalchemy.org/en/20/orm/queryguide/relationships.html#subquery-eager-loading) with `selectinload`.\n",
    "\n",
    "Design: `relationship(..., lazy='subquery')`<br>\n",
    "Options: `orm.subqueryload(Model.children)`\n",
    "\n",
    "### Raise\n",
    "There will be moments where lazy loading is completely undesirable.<br>\n",
    "This type of loading is applied on returned instances, as opposed to the query.<br>\n",
    "This might be for testing or performance reasons.\n",
    "\n",
    "When using SQLAlchemy with an *async* engine, a lazy load might create a \"GreenletException\".<br>\n",
    "Greenlets are an async tool for SQLAlchemy, which means they might also error for other reasons.<br>\n",
    "It is recommended to add `lazy='raise'` to have a separate exception for **any** unexpected lazy load.\n",
    "\n",
    "Design: `relationship(..., lazy='raise')` or `lazy='raise_on_sql`)<br>\n",
    "Options: `orm.raiseload(Model.children)`<br>\n",
    "Options: `orm..raiseload('*')`\n",
    "\n",
    "### Noload\n",
    "In some cases, lazy loading isn't desirable at all.<br>\n",
    "This method will fake it by returning None or an empty list.\n",
    "\n",
    "Design: `N/A` (?)\n",
    "Options: `select(Model).noload(Model.children)`\n",
    "\n",
    "### DefaultLoad\n",
    "Finally, there is 'defaultload'.<br>\n",
    "This can be used to restore the default loading behavior, effectively reassigning loading behavior.<br>\n",
    "This can be useful for situations where part of the query was made by a different system.\n",
    "\n",
    "Design: `N/A`<br>\n",
    "Options: `orm.defaultload(Model.children)`"
   ]
  },
  {
   "cell_type": "markdown",
   "id": "ff1981be-f4db-479d-896d-55f7a40c1724",
   "metadata": {},
   "source": [
    "## Examples"
   ]
  },
  {
   "cell_type": "markdown",
   "id": "52ca13f4-588b-47a4-9115-89eea20d4a3e",
   "metadata": {},
   "source": [
    "### JoinedLoad"
   ]
  },
  {
   "cell_type": "code",
   "execution_count": null,
   "id": "2a97eba8-016c-46ea-8bff-9ab51d0328f4",
   "metadata": {},
   "outputs": [],
   "source": [
    "query = (\n",
    "    sa.select(User).options(orm.noload(User.folders))\n",
    ")\n",
    "with rollback(con), logs(), orm.Session(con) as s, s.begin():\n",
    "    result = s.execute(query).unique().scalars()\n",
    "    for user in result:\n",
    "        print(user.name, [f.name for f in user.folders])"
   ]
  },
  {
   "cell_type": "code",
   "execution_count": null,
   "id": "638e6904-3322-4b3a-a630-0e7100e7cef0",
   "metadata": {},
   "outputs": [],
   "source": [
    "con.commit()"
   ]
  },
  {
   "cell_type": "code",
   "execution_count": null,
   "id": "25ec8652-fe9b-46fc-bb58-1e0c1147bfcf",
   "metadata": {},
   "outputs": [],
   "source": []
  },
  {
   "cell_type": "markdown",
   "id": "c95e1b0a-9f55-4693-9dd0-6ad8ae59d8dc",
   "metadata": {},
   "source": [
    "### Eager Load: Select In"
   ]
  },
  {
   "cell_type": "code",
   "execution_count": null,
   "id": "938e64de-3085-4c24-ba7b-b3bab7c91abb",
   "metadata": {},
   "outputs": [],
   "source": [
    "query = (\n",
    "    sa.select(User).options(orm.joinedload(User.folders))\n",
    ")\n",
    "with rollback(con), logs(), orm.Session(con) as s, s.begin():\n",
    "    result = s.execute(query).unique().scalars()\n",
    "    for user in result:\n",
    "        print(user.name, [f.name for f in user.folders])"
   ]
  },
  {
   "cell_type": "code",
   "execution_count": null,
   "id": "0bd845a2-7c50-4206-ab48-50c891ece01d",
   "metadata": {},
   "outputs": [],
   "source": [
    "class Order(Base):\n",
    "    ...\n",
    "\n"
   ]
  },
  {
   "cell_type": "code",
   "execution_count": null,
   "id": "ef1f0f0e-e855-496a-bd82-f24b1b5ddecd",
   "metadata": {},
   "outputs": [],
   "source": [
    "x = sa.inspect(stmt)"
   ]
  },
  {
   "cell_type": "code",
   "execution_count": null,
   "id": "65ed89cb-9f85-4894-b134-19dc292f6831",
   "metadata": {},
   "outputs": [],
   "source": [
    "for e in tuple(stmt.get_children()):\n",
    "    print(e.name)\n",
    "    "
   ]
  },
  {
   "cell_type": "markdown",
   "id": "a459d2fe-93ad-4da7-95df-589128200e58",
   "metadata": {},
   "source": [
    "# Join without Relationship"
   ]
  },
  {
   "cell_type": "code",
   "execution_count": null,
   "id": "270f9b64-e0fd-4af5-8688-2a237648aca4",
   "metadata": {},
   "outputs": [],
   "source": [
    "joined = sa.select(OrderLine.id, OrderLine.description).join(Product, Product.id == OrderLine.product_id)\n",
    "\n",
    "with orm.Session(engine) as s:\n",
    "    for entry in s.execute(joined):\n",
    "        print(entry)"
   ]
  },
  {
   "cell_type": "markdown",
   "id": "c85967a1-c463-420a-a94c-f9e617a87955",
   "metadata": {},
   "source": [
    "# Cascade: ForeignKey vs relationship\n",
    "SQLAlchemy can deal with cascades in two ways:\n",
    "1. ForeignKey definition\n",
    "2. Relationship definition\n",
    "\n"
   ]
  },
  {
   "cell_type": "code",
   "execution_count": null,
   "id": "686befe1-8706-4dff-a00a-dc9a7f773e89",
   "metadata": {},
   "outputs": [],
   "source": [
    "SQL"
   ]
  },
  {
   "cell_type": "code",
   "execution_count": null,
   "id": "2ebefd7a-fd42-4550-a6d2-098161c17b76",
   "metadata": {},
   "outputs": [],
   "source": []
  }
 ],
 "metadata": {
  "kernelspec": {
   "display_name": "Python 3 (ipykernel)",
   "language": "python",
   "name": "python3"
  },
  "language_info": {
   "codemirror_mode": {
    "name": "ipython",
    "version": 3
   },
   "file_extension": ".py",
   "mimetype": "text/x-python",
   "name": "python",
   "nbconvert_exporter": "python",
   "pygments_lexer": "ipython3",
   "version": "3.12.0"
  }
 },
 "nbformat": 4,
 "nbformat_minor": 5
}
