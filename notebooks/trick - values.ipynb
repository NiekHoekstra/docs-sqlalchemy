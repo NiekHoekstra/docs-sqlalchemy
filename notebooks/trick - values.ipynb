{
 "cells": [
  {
   "cell_type": "markdown",
   "id": "54d4a5bb-66dd-4dfc-8286-fa66d31a3d7f",
   "metadata": {},
   "source": [
    "\n",
    "\n",
    "[Specifying multiple values as a derived table in a FROM clause](https://learn.microsoft.com/en-us/sql/t-sql/queries/table-value-constructor-transact-sql?view=sql-server-ver16#c-specifying-multiple-values-as-a-derived-table-in-a-from-clause)"
   ]
  },
  {
   "cell_type": "code",
   "execution_count": null,
   "id": "0a2faf29-d517-4f9f-871b-5a0d979e3ab7",
   "metadata": {},
   "outputs": [],
   "source": [
    "from utils import logs"
   ]
  },
  {
   "cell_type": "code",
   "execution_count": null,
   "id": "dee589f0-f4f5-4666-ae56-9aa6e92cfd64",
   "metadata": {},
   "outputs": [],
   "source": [
    "from sqlalchemy import create_engine, values, column, String, Integer, select, literal"
   ]
  },
  {
   "cell_type": "code",
   "execution_count": null,
   "id": "c0f97cdf-c363-40fa-a9a8-11d945874093",
   "metadata": {},
   "outputs": [],
   "source": [
    "engine = create_engine('sqlite:///')"
   ]
  },
  {
   "cell_type": "code",
   "execution_count": null,
   "id": "e6d80f0d-0459-477c-9213-2bacc82fdbba",
   "metadata": {},
   "outputs": [],
   "source": [
    "example = values(\n",
    "    column('id', Integer),\n",
    "    column('name', String),\n",
    "    name='example'\n",
    ").data([\n",
    "     (123, 'jack'),\n",
    "     (456, 'john')\n",
    "])\n",
    "print(example)\n",
    "\n",
    "with engine.begin() as con, logs():\n",
    "    for row in con.execute(select(example)):\n",
    "        print(row)"
   ]
  },
  {
   "cell_type": "code",
   "execution_count": null,
   "id": "739d915d-3a34-4270-9179-6710e13dd54c",
   "metadata": {},
   "outputs": [],
   "source": [
    "x = select(literal(1), literal(2)).union(select(literal(3), literal(4)))\n",
    "with engine.begin() as con, logs():\n",
    "    for row in con.execute(x).mappings():\n",
    "        print(row)"
   ]
  },
  {
   "cell_type": "code",
   "execution_count": null,
   "id": "efd80b85-a878-42f8-8f6c-62759d7ad608",
   "metadata": {},
   "outputs": [],
   "source": [
    "import functools\n",
    "import operator\n",
    "\n",
    "def data_as_table(rows, *columns):\n",
    "    result = values(\n",
    "        column('id', Integer),\n",
    "        column('name', String),\n",
    "    ).data([\n",
    "         tuple(r[c.key] for c in columns) for r in rows\n",
    "    ])\n",
    "    return select(result)\n",
    "\n",
    "def _row(columns, row):\n",
    "    return select(*(literal(row[c.key]).label(c.key) for c in columns))\n",
    "    \n",
    "def data_as_union(rows, *columns):\n",
    "    # admittedly, a cryptic function.\n",
    "    f = functools.partial(_row, columns)\n",
    "    return functools.reduce(lambda a,b: a.union(b), map(f, rows))\n",
    "    \n",
    "def data_as_union_unrolled(rows, *columns):\n",
    "    # TODO: testing\n",
    "    buffer = []\n",
    "    for row in rows:\n",
    "        cells: list = []\n",
    "        for col in columns:\n",
    "            cells.append(literal(row[col.key]).label(col.key))\n",
    "        buffer.append(select(*cells))\n",
    "    # now chain all those select statments using 'union'\n",
    "    result = buffer[0]\n",
    "    for i in range(1, len(buffer)):\n",
    "        result = result.union(buffer[i])\n",
    "    return result\n",
    "\n",
    "def data_as_select(rows, *columns, dialect):\n",
    "    if dialect.name in ('mssql', 'snowflake'):\n",
    "        return data_as_table(rows, *columns)\n",
    "    return data_as_union(rows, *columns)"
   ]
  },
  {
   "cell_type": "code",
   "execution_count": null,
   "id": "f373ad93-46f1-4cee-87a8-21691b519ae9",
   "metadata": {},
   "outputs": [],
   "source": [
    "x = data_as_select([{'id':1, 'name': 'jack'}, {'id':2, 'name':'john'}],     column('id', Integer),\n",
    "    column('name', String), dialect=con.dialect)"
   ]
  },
  {
   "cell_type": "code",
   "execution_count": null,
   "id": "ccbbae25-d555-42a3-860c-aa6f91938828",
   "metadata": {},
   "outputs": [],
   "source": [
    "print(x)"
   ]
  },
  {
   "cell_type": "code",
   "execution_count": null,
   "id": "d4e9101b-d196-4f74-8e5f-34583abe6fff",
   "metadata": {},
   "outputs": [],
   "source": [
    "with engine.begin() as con, logs():\n",
    "    for row in con.execute(select(x.cte())).mappings():\n",
    "        print(row)"
   ]
  },
  {
   "cell_type": "code",
   "execution_count": null,
   "id": "ee725066-8906-4eaa-9373-80b531bee36a",
   "metadata": {},
   "outputs": [],
   "source": []
  }
 ],
 "metadata": {
  "kernelspec": {
   "display_name": "Python 3 (ipykernel)",
   "language": "python",
   "name": "python3"
  },
  "language_info": {
   "codemirror_mode": {
    "name": "ipython",
    "version": 3
   },
   "file_extension": ".py",
   "mimetype": "text/x-python",
   "name": "python",
   "nbconvert_exporter": "python",
   "pygments_lexer": "ipython3",
   "version": "3.12.4"
  }
 },
 "nbformat": 4,
 "nbformat_minor": 5
}
